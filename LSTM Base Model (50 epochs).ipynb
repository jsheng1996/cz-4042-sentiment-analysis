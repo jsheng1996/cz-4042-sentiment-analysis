{
  "nbformat": 4,
  "nbformat_minor": 0,
  "metadata": {
    "colab": {
      "name": "Copy of LSTM Base Model (50 epochs)",
      "provenance": [],
      "collapsed_sections": []
    },
    "kernelspec": {
      "name": "python3",
      "display_name": "Python 3"
    },
    "accelerator": "GPU"
  },
  "cells": [
    {
      "cell_type": "code",
      "metadata": {
        "id": "QTqKghgOySh4"
      },
      "source": [
        "#Importing packages for necessary purposes\n",
        "\n",
        "import numpy as np\n",
        "from tensorflow import keras\n",
        "import pandas as pd\n",
        "import tensorflow as tf\n",
        "import re\n",
        "import nltk\n",
        "\n",
        "from numpy import array\n",
        "from numpy import asarray\n",
        "from numpy import zeros\n",
        "from tensorflow.keras.preprocessing.text import one_hot\n",
        "from tensorflow.keras.preprocessing.sequence import pad_sequences\n",
        "from tensorflow.keras.models import Sequential\n",
        "from tensorflow.keras.layers import Flatten\n",
        "from tensorflow.keras.layers import GlobalMaxPooling1D\n",
        "from sklearn.model_selection import train_test_split\n",
        "from tensorflow.keras.preprocessing.text import Tokenizer\n",
        "from nltk.corpus import stopwords\n",
        "from tensorflow.keras.regularizers import l2\n",
        "\n",
        "from sklearn.feature_extraction.text import CountVectorizer\n",
        "from tensorflow.keras.layers import Dense, Embedding, LSTM, SpatialDropout1D\n",
        "\n",
        "import matplotlib.pyplot as plt"
      ],
      "execution_count": null,
      "outputs": []
    },
    {
      "cell_type": "code",
      "metadata": {
        "id": "3moZBwY0yU8M",
        "colab": {
          "base_uri": "https://localhost:8080/",
          "height": 373
        },
        "outputId": "006c277b-9411-4712-a456-fbf266f7fb8f"
      },
      "source": [
        "#Importing data\n",
        "imdb_data = pd.read_csv('data/IMDB Dataset.csv')\n",
        "imdb_data.isnull().values.any()\n",
        "print (imdb_data.shape)\n",
        "imdb_data.head(10)"
      ],
      "execution_count": null,
      "outputs": [
        {
          "output_type": "stream",
          "text": [
            "(50000, 2)\n"
          ],
          "name": "stdout"
        },
        {
          "output_type": "execute_result",
          "data": {
            "text/html": [
              "<div>\n",
              "<style scoped>\n",
              "    .dataframe tbody tr th:only-of-type {\n",
              "        vertical-align: middle;\n",
              "    }\n",
              "\n",
              "    .dataframe tbody tr th {\n",
              "        vertical-align: top;\n",
              "    }\n",
              "\n",
              "    .dataframe thead th {\n",
              "        text-align: right;\n",
              "    }\n",
              "</style>\n",
              "<table border=\"1\" class=\"dataframe\">\n",
              "  <thead>\n",
              "    <tr style=\"text-align: right;\">\n",
              "      <th></th>\n",
              "      <th>review</th>\n",
              "      <th>sentiment</th>\n",
              "    </tr>\n",
              "  </thead>\n",
              "  <tbody>\n",
              "    <tr>\n",
              "      <th>0</th>\n",
              "      <td>One of the other reviewers has mentioned that ...</td>\n",
              "      <td>positive</td>\n",
              "    </tr>\n",
              "    <tr>\n",
              "      <th>1</th>\n",
              "      <td>A wonderful little production. &lt;br /&gt;&lt;br /&gt;The...</td>\n",
              "      <td>positive</td>\n",
              "    </tr>\n",
              "    <tr>\n",
              "      <th>2</th>\n",
              "      <td>I thought this was a wonderful way to spend ti...</td>\n",
              "      <td>positive</td>\n",
              "    </tr>\n",
              "    <tr>\n",
              "      <th>3</th>\n",
              "      <td>Basically there's a family where a little boy ...</td>\n",
              "      <td>negative</td>\n",
              "    </tr>\n",
              "    <tr>\n",
              "      <th>4</th>\n",
              "      <td>Petter Mattei's \"Love in the Time of Money\" is...</td>\n",
              "      <td>positive</td>\n",
              "    </tr>\n",
              "    <tr>\n",
              "      <th>5</th>\n",
              "      <td>Probably my all-time favorite movie, a story o...</td>\n",
              "      <td>positive</td>\n",
              "    </tr>\n",
              "    <tr>\n",
              "      <th>6</th>\n",
              "      <td>I sure would like to see a resurrection of a u...</td>\n",
              "      <td>positive</td>\n",
              "    </tr>\n",
              "    <tr>\n",
              "      <th>7</th>\n",
              "      <td>This show was an amazing, fresh &amp; innovative i...</td>\n",
              "      <td>negative</td>\n",
              "    </tr>\n",
              "    <tr>\n",
              "      <th>8</th>\n",
              "      <td>Encouraged by the positive comments about this...</td>\n",
              "      <td>negative</td>\n",
              "    </tr>\n",
              "    <tr>\n",
              "      <th>9</th>\n",
              "      <td>If you like original gut wrenching laughter yo...</td>\n",
              "      <td>positive</td>\n",
              "    </tr>\n",
              "  </tbody>\n",
              "</table>\n",
              "</div>"
            ],
            "text/plain": [
              "                                              review sentiment\n",
              "0  One of the other reviewers has mentioned that ...  positive\n",
              "1  A wonderful little production. <br /><br />The...  positive\n",
              "2  I thought this was a wonderful way to spend ti...  positive\n",
              "3  Basically there's a family where a little boy ...  negative\n",
              "4  Petter Mattei's \"Love in the Time of Money\" is...  positive\n",
              "5  Probably my all-time favorite movie, a story o...  positive\n",
              "6  I sure would like to see a resurrection of a u...  positive\n",
              "7  This show was an amazing, fresh & innovative i...  negative\n",
              "8  Encouraged by the positive comments about this...  negative\n",
              "9  If you like original gut wrenching laughter yo...  positive"
            ]
          },
          "metadata": {
            "tags": []
          },
          "execution_count": 4
        }
      ]
    },
    {
      "cell_type": "code",
      "metadata": {
        "id": "ZC7IoHYYyXCe",
        "colab": {
          "base_uri": "https://localhost:8080/"
        },
        "outputId": "3cabcb69-d2ea-4e4f-e175-751e300a9962"
      },
      "source": [
        "#sentiment count\n",
        "imdb_data['sentiment'].value_counts()"
      ],
      "execution_count": null,
      "outputs": [
        {
          "output_type": "execute_result",
          "data": {
            "text/plain": [
              "positive    25000\n",
              "negative    25000\n",
              "Name: sentiment, dtype: int64"
            ]
          },
          "metadata": {
            "tags": []
          },
          "execution_count": 5
        }
      ]
    },
    {
      "cell_type": "code",
      "metadata": {
        "id": "ohFCJqjQyZjx"
      },
      "source": [
        "#cleaning reviews\n",
        "def review_text(sen):\n",
        "    # Removing html tags\n",
        "    sentence = remove_tags(sen)\n",
        "\n",
        "    # Remove punctuations and numbers\n",
        "    sentence = re.sub('[^a-zA-Z]', ' ', sentence)\n",
        "\n",
        "    # Single character removal\n",
        "    sentence = re.sub(r\"\\s+[a-zA-Z]\\s+\", ' ', sentence)\n",
        "\n",
        "    # Removing multiple spaces\n",
        "    sentence = re.sub(r'\\s+', ' ', sentence)\n",
        "\n",
        "    return sentence"
      ],
      "execution_count": null,
      "outputs": []
    },
    {
      "cell_type": "code",
      "metadata": {
        "id": "Tdd2CbFjybkg"
      },
      "source": [
        "TAG_RE = re.compile(r'<[^>]+>')\n",
        "\n",
        "def remove_tags(text):\n",
        "    return TAG_RE.sub('', text)"
      ],
      "execution_count": null,
      "outputs": []
    },
    {
      "cell_type": "code",
      "metadata": {
        "id": "gqrOUKksyeRf"
      },
      "source": [
        "X = []\n",
        "sentences = list(imdb_data['review'])\n",
        "for sen in sentences:\n",
        "    X.append(review_text(sen))"
      ],
      "execution_count": null,
      "outputs": []
    },
    {
      "cell_type": "code",
      "metadata": {
        "id": "XMJkWWlOygmO"
      },
      "source": [
        "#converting positive to 1 and negative to 0\n",
        "Y = imdb_data['sentiment']\n",
        "\n",
        "Y = np.array(list(map(lambda x: 1 if x==\"positive\" else 0, Y)))"
      ],
      "execution_count": null,
      "outputs": []
    },
    {
      "cell_type": "code",
      "metadata": {
        "id": "vsiUV1WsyvxC"
      },
      "source": [
        "seed=42\n",
        "np.random.seed(seed)"
      ],
      "execution_count": null,
      "outputs": []
    },
    {
      "cell_type": "code",
      "metadata": {
        "id": "0HGYwIN4yoj0"
      },
      "source": [
        "#shuffle data\n",
        "idx = np.arange(len(X))\n",
        "np.random.shuffle(idx)\n",
        "X_temp, Y_train = np.array(X)[idx], Y[idx]\n",
        "X_train = []\n",
        "for sen in X_temp:\n",
        "    X_train.append(sen)"
      ],
      "execution_count": null,
      "outputs": []
    },
    {
      "cell_type": "code",
      "metadata": {
        "id": "WIUiwBjFyy2X",
        "colab": {
          "base_uri": "https://localhost:8080/"
        },
        "outputId": "fa97a02d-5e34-4d91-c511-6fb4c2aaa9f6"
      },
      "source": [
        "#splitting the data into 70:30 train:test\n",
        "X_train, X_test, Y_train, Y_test = train_test_split(X_train, Y_train, test_size=0.30, random_state=42)\n",
        "# X_train, X_test, Y_train, Y_test = train_test_split(X, Y, test_size=0.30, random_state=42)\n",
        "print(len(X_train))\n",
        "print(len(X_test))"
      ],
      "execution_count": null,
      "outputs": [
        {
          "output_type": "stream",
          "text": [
            "35000\n",
            "15000\n"
          ],
          "name": "stdout"
        }
      ]
    },
    {
      "cell_type": "code",
      "metadata": {
        "id": "6bewwoGky9A4"
      },
      "source": [
        "#Tokenization of text\n",
        "tokenizer = Tokenizer(num_words=5000)\n",
        "tokenizer.fit_on_texts(X_train)\n",
        "\n",
        "X_train = tokenizer.texts_to_sequences(X_train)\n",
        "X_test = tokenizer.texts_to_sequences(X_test)"
      ],
      "execution_count": null,
      "outputs": []
    },
    {
      "cell_type": "code",
      "metadata": {
        "id": "E5sJ2eXq1wel"
      },
      "source": [
        "# Adding 1 because of reserved 0 index\n",
        "vocab_size = len(tokenizer.word_index) + 1\n",
        "\n",
        "#cutoff word length per review\n",
        "maxlen = 100\n",
        "\n",
        "X_train = pad_sequences(X_train, padding='post', maxlen=maxlen)\n",
        "X_test = pad_sequences(X_test, padding='post', maxlen=maxlen)"
      ],
      "execution_count": null,
      "outputs": []
    },
    {
      "cell_type": "code",
      "metadata": {
        "id": "5sm4gdAazAhU",
        "colab": {
          "base_uri": "https://localhost:8080/"
        },
        "outputId": "e5ec1003-0469-4dad-c1ba-d6d17bb63619"
      },
      "source": [
        "vocab_size"
      ],
      "execution_count": null,
      "outputs": [
        {
          "output_type": "execute_result",
          "data": {
            "text/plain": [
              "87633"
            ]
          },
          "metadata": {
            "tags": []
          },
          "execution_count": 16
        }
      ]
    },
    {
      "cell_type": "code",
      "metadata": {
        "id": "UqGyzS3MzDAj"
      },
      "source": [
        "#dictionary\n",
        "embeddings_dictionary = dict()\n",
        "glove_file = open('glove.6B.100d.txt', encoding=\"utf8\")\n",
        "\n",
        "for line in glove_file:\n",
        "    records = line.split()\n",
        "    word = records[0]\n",
        "    vector_dimensions = asarray(records[1:], dtype='float32')\n",
        "    embeddings_dictionary [word] = vector_dimensions\n",
        "glove_file.close()"
      ],
      "execution_count": null,
      "outputs": []
    },
    {
      "cell_type": "code",
      "metadata": {
        "id": "fzps-EzVzE-U"
      },
      "source": [
        "embedding_matrix = zeros((vocab_size, 100))\n",
        "for word, index in tokenizer.word_index.items():\n",
        "    embedding_vector = embeddings_dictionary.get(word)\n",
        "    if embedding_vector is not None:\n",
        "        embedding_matrix[index] = embedding_vector"
      ],
      "execution_count": null,
      "outputs": []
    },
    {
      "cell_type": "code",
      "metadata": {
        "id": "T5I4LT9azG8Y",
        "colab": {
          "base_uri": "https://localhost:8080/"
        },
        "outputId": "c52b1182-1938-4541-c31a-f420668c1910"
      },
      "source": [
        "embedding_matrix.shape"
      ],
      "execution_count": null,
      "outputs": [
        {
          "output_type": "execute_result",
          "data": {
            "text/plain": [
              "(87633, 100)"
            ]
          },
          "metadata": {
            "tags": []
          },
          "execution_count": 19
        }
      ]
    },
    {
      "cell_type": "code",
      "metadata": {
        "id": "EuZ-IqdizItR",
        "colab": {
          "base_uri": "https://localhost:8080/"
        },
        "outputId": "ffa9aabd-3f4b-4ff8-abbc-23f82a389631"
      },
      "source": [
        "#Model definition\n",
        "max_fatures = vocab_size\n",
        "embed_dim = 128\n",
        "lstm_out = 196\n",
        "\n",
        "model = Sequential()\n",
        "model.add(Embedding(max_fatures, embed_dim,input_length = embedding_matrix.shape[1]))\n",
        "model.add(SpatialDropout1D(0.4))\n",
        "model.add(LSTM(lstm_out, dropout=0.2, recurrent_dropout=0.2))\n",
        "model.add(Dense(2,activation='softmax'))\n",
        "model.compile(loss = 'sparse_categorical_crossentropy', optimizer='adam',metrics = ['accuracy'])\n",
        "print(model.summary())"
      ],
      "execution_count": null,
      "outputs": [
        {
          "output_type": "stream",
          "text": [
            "WARNING:tensorflow:Layer lstm_1 will not use cuDNN kernel since it doesn't meet the cuDNN kernel criteria. It will use generic GPU kernel as fallback when running on GPU\n",
            "Model: \"sequential_1\"\n",
            "_________________________________________________________________\n",
            "Layer (type)                 Output Shape              Param #   \n",
            "=================================================================\n",
            "embedding_1 (Embedding)      (None, 100, 128)          11217024  \n",
            "_________________________________________________________________\n",
            "spatial_dropout1d_1 (Spatial (None, 100, 128)          0         \n",
            "_________________________________________________________________\n",
            "lstm_1 (LSTM)                (None, 196)               254800    \n",
            "_________________________________________________________________\n",
            "dense_1 (Dense)              (None, 2)                 394       \n",
            "=================================================================\n",
            "Total params: 11,472,218\n",
            "Trainable params: 11,472,218\n",
            "Non-trainable params: 0\n",
            "_________________________________________________________________\n",
            "None\n"
          ],
          "name": "stdout"
        }
      ]
    },
    {
      "cell_type": "code",
      "metadata": {
        "id": "yJPzjNGuzMCk"
      },
      "source": [
        "histories = {}"
      ],
      "execution_count": null,
      "outputs": []
    },
    {
      "cell_type": "code",
      "metadata": {
        "id": "yJF4G4c1zMu3",
        "colab": {
          "base_uri": "https://localhost:8080/"
        },
        "outputId": "e6953f57-e5ed-427e-d09a-9ac981193b77"
      },
      "source": [
        "X_train.shape"
      ],
      "execution_count": null,
      "outputs": [
        {
          "output_type": "execute_result",
          "data": {
            "text/plain": [
              "(35000, 100)"
            ]
          },
          "metadata": {
            "tags": []
          },
          "execution_count": 28
        }
      ]
    },
    {
      "cell_type": "code",
      "metadata": {
        "id": "TJvSLyK8zPZC",
        "colab": {
          "base_uri": "https://localhost:8080/"
        },
        "outputId": "9347cd16-714b-49fb-f9cb-99a88b039d44"
      },
      "source": [
        "histories['base'] = model.fit(X_train, Y_train, epochs = 50, batch_size=32, verbose = 2, validation_data=(X_test,Y_test), shuffle=True)"
      ],
      "execution_count": null,
      "outputs": [
        {
          "output_type": "stream",
          "text": [
            "Epoch 1/50\n",
            "1094/1094 - 494s - loss: 0.4485 - accuracy: 0.7863 - val_loss: 0.3991 - val_accuracy: 0.8266\n",
            "Epoch 2/50\n",
            "1094/1094 - 493s - loss: 0.3160 - accuracy: 0.8694 - val_loss: 0.3238 - val_accuracy: 0.8653\n",
            "Epoch 3/50\n",
            "1094/1094 - 493s - loss: 0.2724 - accuracy: 0.8904 - val_loss: 0.3296 - val_accuracy: 0.8605\n",
            "Epoch 4/50\n",
            "1094/1094 - 498s - loss: 0.2351 - accuracy: 0.9075 - val_loss: 0.3285 - val_accuracy: 0.8581\n",
            "Epoch 5/50\n",
            "1094/1094 - 498s - loss: 0.2078 - accuracy: 0.9183 - val_loss: 0.3427 - val_accuracy: 0.8601\n",
            "Epoch 6/50\n",
            "1094/1094 - 498s - loss: 0.1867 - accuracy: 0.9265 - val_loss: 0.3794 - val_accuracy: 0.8627\n",
            "Epoch 7/50\n",
            "1094/1094 - 496s - loss: 0.1670 - accuracy: 0.9354 - val_loss: 0.4294 - val_accuracy: 0.8611\n",
            "Epoch 8/50\n",
            "1094/1094 - 496s - loss: 0.1482 - accuracy: 0.9438 - val_loss: 0.4142 - val_accuracy: 0.8577\n",
            "Epoch 9/50\n",
            "1094/1094 - 496s - loss: 0.1347 - accuracy: 0.9499 - val_loss: 0.4641 - val_accuracy: 0.8561\n",
            "Epoch 10/50\n",
            "1094/1094 - 495s - loss: 0.1243 - accuracy: 0.9529 - val_loss: 0.4631 - val_accuracy: 0.8539\n",
            "Epoch 11/50\n",
            "1094/1094 - 497s - loss: 0.1113 - accuracy: 0.9593 - val_loss: 0.4611 - val_accuracy: 0.8535\n",
            "Epoch 12/50\n",
            "1094/1094 - 496s - loss: 0.0976 - accuracy: 0.9651 - val_loss: 0.4911 - val_accuracy: 0.8497\n",
            "Epoch 13/50\n",
            "1094/1094 - 498s - loss: 0.0920 - accuracy: 0.9674 - val_loss: 0.5619 - val_accuracy: 0.8526\n",
            "Epoch 14/50\n",
            "1094/1094 - 500s - loss: 0.0836 - accuracy: 0.9702 - val_loss: 0.5400 - val_accuracy: 0.8487\n",
            "Epoch 15/50\n",
            "1094/1094 - 496s - loss: 0.0763 - accuracy: 0.9741 - val_loss: 0.5711 - val_accuracy: 0.8510\n",
            "Epoch 16/50\n",
            "1094/1094 - 496s - loss: 0.0719 - accuracy: 0.9748 - val_loss: 0.5831 - val_accuracy: 0.8521\n",
            "Epoch 17/50\n",
            "1094/1094 - 495s - loss: 0.0643 - accuracy: 0.9773 - val_loss: 0.6004 - val_accuracy: 0.8462\n",
            "Epoch 18/50\n",
            "1094/1094 - 496s - loss: 0.0584 - accuracy: 0.9801 - val_loss: 0.6855 - val_accuracy: 0.8524\n",
            "Epoch 19/50\n",
            "1094/1094 - 496s - loss: 0.0536 - accuracy: 0.9809 - val_loss: 0.5861 - val_accuracy: 0.8527\n",
            "Epoch 20/50\n",
            "1094/1094 - 497s - loss: 0.0507 - accuracy: 0.9824 - val_loss: 0.6788 - val_accuracy: 0.8529\n",
            "Epoch 21/50\n",
            "1094/1094 - 492s - loss: 0.0498 - accuracy: 0.9830 - val_loss: 0.6574 - val_accuracy: 0.8453\n",
            "Epoch 22/50\n",
            "1094/1094 - 488s - loss: 0.0452 - accuracy: 0.9848 - val_loss: 0.6991 - val_accuracy: 0.8521\n",
            "Epoch 23/50\n",
            "1094/1094 - 494s - loss: 0.0421 - accuracy: 0.9854 - val_loss: 0.7285 - val_accuracy: 0.8538\n",
            "Epoch 24/50\n",
            "1094/1094 - 497s - loss: 0.0395 - accuracy: 0.9861 - val_loss: 0.7291 - val_accuracy: 0.8487\n",
            "Epoch 25/50\n",
            "1094/1094 - 531s - loss: 0.0364 - accuracy: 0.9870 - val_loss: 0.7116 - val_accuracy: 0.8502\n",
            "Epoch 26/50\n",
            "1094/1094 - 542s - loss: 0.0349 - accuracy: 0.9883 - val_loss: 0.7508 - val_accuracy: 0.8534\n",
            "Epoch 27/50\n",
            "1094/1094 - 543s - loss: 0.0329 - accuracy: 0.9890 - val_loss: 0.7315 - val_accuracy: 0.8519\n",
            "Epoch 28/50\n",
            "1094/1094 - 536s - loss: 0.0318 - accuracy: 0.9891 - val_loss: 0.7774 - val_accuracy: 0.8479\n",
            "Epoch 29/50\n",
            "1094/1094 - 515s - loss: 0.0324 - accuracy: 0.9890 - val_loss: 0.7685 - val_accuracy: 0.8553\n",
            "Epoch 30/50\n",
            "1094/1094 - 512s - loss: 0.0285 - accuracy: 0.9905 - val_loss: 0.7891 - val_accuracy: 0.8507\n",
            "Epoch 31/50\n",
            "1094/1094 - 510s - loss: 0.0273 - accuracy: 0.9912 - val_loss: 0.8381 - val_accuracy: 0.8491\n",
            "Epoch 32/50\n",
            "1094/1094 - 511s - loss: 0.0269 - accuracy: 0.9904 - val_loss: 0.8325 - val_accuracy: 0.8530\n",
            "Epoch 33/50\n",
            "1094/1094 - 504s - loss: 0.0294 - accuracy: 0.9903 - val_loss: 0.7562 - val_accuracy: 0.8548\n",
            "Epoch 34/50\n",
            "1094/1094 - 501s - loss: 0.0252 - accuracy: 0.9912 - val_loss: 0.8917 - val_accuracy: 0.8559\n",
            "Epoch 35/50\n",
            "1094/1094 - 497s - loss: 0.0225 - accuracy: 0.9923 - val_loss: 0.7805 - val_accuracy: 0.8498\n",
            "Epoch 36/50\n",
            "1094/1094 - 494s - loss: 0.0236 - accuracy: 0.9920 - val_loss: 0.8089 - val_accuracy: 0.8518\n",
            "Epoch 37/50\n",
            "1094/1094 - 492s - loss: 0.0248 - accuracy: 0.9913 - val_loss: 0.8242 - val_accuracy: 0.8485\n",
            "Epoch 38/50\n",
            "1094/1094 - 492s - loss: 0.0214 - accuracy: 0.9933 - val_loss: 0.9331 - val_accuracy: 0.8570\n",
            "Epoch 39/50\n",
            "1094/1094 - 490s - loss: 0.0202 - accuracy: 0.9929 - val_loss: 0.8347 - val_accuracy: 0.8525\n",
            "Epoch 40/50\n",
            "1094/1094 - 486s - loss: 0.0207 - accuracy: 0.9928 - val_loss: 0.8739 - val_accuracy: 0.8548\n",
            "Epoch 41/50\n",
            "1094/1094 - 488s - loss: 0.0194 - accuracy: 0.9930 - val_loss: 0.9244 - val_accuracy: 0.8425\n",
            "Epoch 42/50\n",
            "1094/1094 - 487s - loss: 0.0215 - accuracy: 0.9928 - val_loss: 0.9277 - val_accuracy: 0.8479\n",
            "Epoch 43/50\n",
            "1094/1094 - 486s - loss: 0.0166 - accuracy: 0.9941 - val_loss: 0.9767 - val_accuracy: 0.8539\n",
            "Epoch 44/50\n",
            "1094/1094 - 487s - loss: 0.0193 - accuracy: 0.9934 - val_loss: 0.8776 - val_accuracy: 0.8515\n",
            "Epoch 45/50\n",
            "1094/1094 - 509s - loss: 0.0181 - accuracy: 0.9939 - val_loss: 1.0000 - val_accuracy: 0.8540\n",
            "Epoch 46/50\n",
            "1094/1094 - 536s - loss: 0.0168 - accuracy: 0.9944 - val_loss: 0.9394 - val_accuracy: 0.8551\n",
            "Epoch 47/50\n",
            "1094/1094 - 541s - loss: 0.0177 - accuracy: 0.9942 - val_loss: 0.9971 - val_accuracy: 0.8509\n",
            "Epoch 48/50\n",
            "1094/1094 - 518s - loss: 0.0165 - accuracy: 0.9942 - val_loss: 1.0185 - val_accuracy: 0.8547\n",
            "Epoch 49/50\n",
            "1094/1094 - 504s - loss: 0.0163 - accuracy: 0.9945 - val_loss: 0.9183 - val_accuracy: 0.8519\n",
            "Epoch 50/50\n",
            "1094/1094 - 501s - loss: 0.0168 - accuracy: 0.9942 - val_loss: 0.9426 - val_accuracy: 0.8542\n"
          ],
          "name": "stdout"
        }
      ]
    },
    {
      "cell_type": "code",
      "metadata": {
        "id": "v8nEyg1OzRXI",
        "colab": {
          "base_uri": "https://localhost:8080/",
          "height": 295
        },
        "outputId": "0ddb00e4-0b72-443f-a368-81abc65eab23"
      },
      "source": [
        "# plot learning curves\n",
        "plt.plot(histories['base'].history['accuracy'])\n",
        "plt.plot(histories['base'].history['val_accuracy'])\n",
        "plt.title('Base LSTM model accuracy')\n",
        "plt.ylabel('Accuracy')\n",
        "plt.xlabel('Epoch')\n",
        "plt.legend(['Training accuracy', 'Validation Accuracy'], loc='lower right')\n",
        "plt.show()"
      ],
      "execution_count": null,
      "outputs": [
        {
          "output_type": "display_data",
          "data": {
            "image/png": "[encoded data removed]",
            "text/plain": [
              "<Figure size 432x288 with 1 Axes>"
            ]
          },
          "metadata": {
            "tags": [],
            "needs_background": "light"
          }
        }
      ]
    },
    {
      "cell_type": "code",
      "metadata": {
        "id": "lI11p4c1zUPE",
        "colab": {
          "base_uri": "https://localhost:8080/",
          "height": 295
        },
        "outputId": "89c8be90-6b1c-40b3-88b1-6fe7e4e1662f"
      },
      "source": [
        "# plot learning curves\n",
        "plt.plot(histories['base'].history['loss'])\n",
        "plt.plot(histories['base'].history['val_loss'])\n",
        "plt.title('Base LSTM model loss')\n",
        "plt.ylabel('Loss')\n",
        "plt.xlabel('Epoch')\n",
        "plt.legend(['Training loss', 'Validation loss'], loc='upper right')\n",
        "plt.show()"
      ],
      "execution_count": null,
      "outputs": [
        {
          "output_type": "display_data",
          "data": {
            "image/png": "[encoded data removed]",
            "text/plain": [
              "<Figure size 432x288 with 1 Axes>"
            ]
          },
          "metadata": {
            "tags": [],
            "needs_background": "light"
          }
        }
      ]
    }
  ]
}