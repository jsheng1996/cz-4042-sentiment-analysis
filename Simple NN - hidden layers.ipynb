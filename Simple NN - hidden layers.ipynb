{
 "cells": [
  {
   "cell_type": "markdown",
   "metadata": {
    "id": "D3PJfRkjnsKP"
   },
   "source": [
    "# Data Preprocessing"
   ]
  },
  {
   "cell_type": "code",
   "execution_count": null,
   "metadata": {
    "id": "MPngYgnQnsKQ"
   },
   "outputs": [],
   "source": [
    "#Importing packages for necessary purposes\n",
    "\n",
    "import numpy as np\n",
    "import keras \n",
    "import pandas as pd\n",
    "import tensorflow as tf\n",
    "import re\n",
    "import nltk\n",
    "\n",
    "from numpy import array\n",
    "from numpy import asarray\n",
    "from numpy import zeros\n",
    "from keras.preprocessing.text import one_hot\n",
    "from keras.preprocessing.sequence import pad_sequences\n",
    "from keras.models import Sequential\n",
    "from keras.layers.core import Activation, Dropout, Dense\n",
    "from keras.layers import Flatten\n",
    "from keras.layers import GlobalMaxPooling1D\n",
    "from keras.layers.embeddings import Embedding\n",
    "from sklearn.model_selection import train_test_split\n",
    "from keras.preprocessing.text import Tokenizer\n",
    "from nltk.corpus import stopwords\n",
    "from keras.regularizers import l2\n",
    "\n",
    "from sklearn.model_selection import GridSearchCV\n",
    "from keras.wrappers.scikit_learn import KerasClassifier\n"
   ]
  },
  {
   "cell_type": "code",
   "execution_count": null,
   "metadata": {
    "colab": {
     "base_uri": "https://localhost:8080/",
     "height": 373
    },
    "executionInfo": {
     "elapsed": 2200,
     "status": "ok",
     "timestamp": 1605926402141,
     "user": {
      "displayName": "Ardous Task",
      "photoUrl": "",
      "userId": "05748072987174857900"
     },
     "user_tz": -480
    },
    "id": "meFn1A3ansKQ",
    "outputId": "e741461b-7860-4225-fd02-a23f57dc9641"
   },
   "outputs": [
    {
     "name": "stdout",
     "output_type": "stream",
     "text": [
      "(50000, 2)\n"
     ]
    },
    {
     "data": {
      "text/html": [
       "<div>\n",
       "<style scoped>\n",
       "    .dataframe tbody tr th:only-of-type {\n",
       "        vertical-align: middle;\n",
       "    }\n",
       "\n",
       "    .dataframe tbody tr th {\n",
       "        vertical-align: top;\n",
       "    }\n",
       "\n",
       "    .dataframe thead th {\n",
       "        text-align: right;\n",
       "    }\n",
       "</style>\n",
       "<table border=\"1\" class=\"dataframe\">\n",
       "  <thead>\n",
       "    <tr style=\"text-align: right;\">\n",
       "      <th></th>\n",
       "      <th>review</th>\n",
       "      <th>sentiment</th>\n",
       "    </tr>\n",
       "  </thead>\n",
       "  <tbody>\n",
       "    <tr>\n",
       "      <th>0</th>\n",
       "      <td>One of the other reviewers has mentioned that ...</td>\n",
       "      <td>positive</td>\n",
       "    </tr>\n",
       "    <tr>\n",
       "      <th>1</th>\n",
       "      <td>A wonderful little production. &lt;br /&gt;&lt;br /&gt;The...</td>\n",
       "      <td>positive</td>\n",
       "    </tr>\n",
       "    <tr>\n",
       "      <th>2</th>\n",
       "      <td>I thought this was a wonderful way to spend ti...</td>\n",
       "      <td>positive</td>\n",
       "    </tr>\n",
       "    <tr>\n",
       "      <th>3</th>\n",
       "      <td>Basically there's a family where a little boy ...</td>\n",
       "      <td>negative</td>\n",
       "    </tr>\n",
       "    <tr>\n",
       "      <th>4</th>\n",
       "      <td>Petter Mattei's \"Love in the Time of Money\" is...</td>\n",
       "      <td>positive</td>\n",
       "    </tr>\n",
       "    <tr>\n",
       "      <th>5</th>\n",
       "      <td>Probably my all-time favorite movie, a story o...</td>\n",
       "      <td>positive</td>\n",
       "    </tr>\n",
       "    <tr>\n",
       "      <th>6</th>\n",
       "      <td>I sure would like to see a resurrection of a u...</td>\n",
       "      <td>positive</td>\n",
       "    </tr>\n",
       "    <tr>\n",
       "      <th>7</th>\n",
       "      <td>This show was an amazing, fresh &amp; innovative i...</td>\n",
       "      <td>negative</td>\n",
       "    </tr>\n",
       "    <tr>\n",
       "      <th>8</th>\n",
       "      <td>Encouraged by the positive comments about this...</td>\n",
       "      <td>negative</td>\n",
       "    </tr>\n",
       "    <tr>\n",
       "      <th>9</th>\n",
       "      <td>If you like original gut wrenching laughter yo...</td>\n",
       "      <td>positive</td>\n",
       "    </tr>\n",
       "  </tbody>\n",
       "</table>\n",
       "</div>"
      ],
      "text/plain": [
       "                                              review sentiment\n",
       "0  One of the other reviewers has mentioned that ...  positive\n",
       "1  A wonderful little production. <br /><br />The...  positive\n",
       "2  I thought this was a wonderful way to spend ti...  positive\n",
       "3  Basically there's a family where a little boy ...  negative\n",
       "4  Petter Mattei's \"Love in the Time of Money\" is...  positive\n",
       "5  Probably my all-time favorite movie, a story o...  positive\n",
       "6  I sure would like to see a resurrection of a u...  positive\n",
       "7  This show was an amazing, fresh & innovative i...  negative\n",
       "8  Encouraged by the positive comments about this...  negative\n",
       "9  If you like original gut wrenching laughter yo...  positive"
      ]
     },
     "execution_count": 24,
     "metadata": {
      "tags": []
     },
     "output_type": "execute_result"
    }
   ],
   "source": [
    "#Importing data\n",
    "imdb_data = pd.read_csv('IMDB Dataset.csv')\n",
    "imdb_data.isnull().values.any()\n",
    "print (imdb_data.shape)\n",
    "imdb_data.head(10)"
   ]
  },
  {
   "cell_type": "code",
   "execution_count": null,
   "metadata": {
    "id": "scVpgd0HnsKT"
   },
   "outputs": [],
   "source": [
    "#cleaning reviews\n",
    "def review_text(sen):\n",
    "    # Removing html tags\n",
    "    sentence = remove_tags(sen)\n",
    "\n",
    "    # Remove punctuations and numbers\n",
    "    sentence = re.sub('[^a-zA-Z]', ' ', sentence)\n",
    "\n",
    "    # Single character removal\n",
    "    sentence = re.sub(r\"\\s+[a-zA-Z]\\s+\", ' ', sentence)\n",
    "\n",
    "    # Removing multiple spaces\n",
    "    sentence = re.sub(r'\\s+', ' ', sentence)\n",
    "\n",
    "    return sentence"
   ]
  },
  {
   "cell_type": "code",
   "execution_count": null,
   "metadata": {
    "id": "qSu5KmoYnsKT"
   },
   "outputs": [],
   "source": [
    "TAG_RE = re.compile(r'<[^>]+>')\n",
    "\n",
    "def remove_tags(text):\n",
    "    return TAG_RE.sub('', text)"
   ]
  },
  {
   "cell_type": "code",
   "execution_count": null,
   "metadata": {
    "id": "kwE9_xmgnsKU"
   },
   "outputs": [],
   "source": [
    "X = []\n",
    "sentences = list(imdb_data['review'])\n",
    "for sen in sentences:\n",
    "    X.append(review_text(sen))"
   ]
  },
  {
   "cell_type": "code",
   "execution_count": null,
   "metadata": {
    "id": "24Vrr0mgnsKU"
   },
   "outputs": [],
   "source": [
    "#converting positive to 1 and negative to 0\n",
    "Y = imdb_data['sentiment']\n",
    "\n",
    "Y = np.array(list(map(lambda x: 1 if x==\"positive\" else 0, Y)))"
   ]
  },
  {
   "cell_type": "code",
   "execution_count": null,
   "metadata": {
    "id": "hSEaxQM0nsKU"
   },
   "outputs": [],
   "source": [
    "seed=42\n",
    "np.random.seed(seed)"
   ]
  },
  {
   "cell_type": "code",
   "execution_count": null,
   "metadata": {
    "id": "UpYki29bnsKU"
   },
   "outputs": [],
   "source": [
    "#shuffle data\n",
    "idx = np.arange(len(X))\n",
    "np.random.shuffle(idx)\n",
    "X_temp, Y_train = np.array(X)[idx], Y[idx]\n",
    "X_train = []\n",
    "for sen in X_temp:\n",
    "    X_train.append(sen)"
   ]
  },
  {
   "cell_type": "code",
   "execution_count": null,
   "metadata": {
    "colab": {
     "base_uri": "https://localhost:8080/"
    },
    "executionInfo": {
     "elapsed": 876,
     "status": "ok",
     "timestamp": 1605926494577,
     "user": {
      "displayName": "Ardous Task",
      "photoUrl": "",
      "userId": "05748072987174857900"
     },
     "user_tz": -480
    },
    "id": "3YIg8ALjnsKU",
    "outputId": "4d3cd7f4-39ab-4aa2-c822-e21433003974"
   },
   "outputs": [
    {
     "name": "stdout",
     "output_type": "stream",
     "text": [
      "35000\n",
      "15000\n"
     ]
    }
   ],
   "source": [
    "#splitting the data into 70:30 train:test\n",
    "X_train, X_test, Y_train, Y_test = train_test_split(X_train, Y_train, test_size=0.30, random_state=42)\n",
    "# X_train, X_test, Y_train, Y_test = train_test_split(X, Y, test_size=0.30, random_state=42)\n",
    "print(len(X_train))\n",
    "print(len(X_test))"
   ]
  },
  {
   "cell_type": "code",
   "execution_count": null,
   "metadata": {
    "id": "gAG7M_W1nsKU"
   },
   "outputs": [],
   "source": [
    "#Tokenization of text\n",
    "tokenizer = Tokenizer(num_words=5000)\n",
    "tokenizer.fit_on_texts(X_train)\n",
    "\n",
    "X_train = tokenizer.texts_to_sequences(X_train)\n",
    "X_test = tokenizer.texts_to_sequences(X_test)"
   ]
  },
  {
   "cell_type": "code",
   "execution_count": null,
   "metadata": {
    "id": "DsFiHkGpnsKU"
   },
   "outputs": [],
   "source": [
    "# Adding 1 because of reserved 0 index\n",
    "vocab_size = len(tokenizer.word_index) + 1\n",
    "\n",
    "#cutoff word length per review\n",
    "maxlen = 100\n",
    "\n",
    "X_train = pad_sequences(X_train, padding='post', maxlen=maxlen)\n",
    "X_test = pad_sequences(X_test, padding='post', maxlen=maxlen)"
   ]
  },
  {
   "cell_type": "code",
   "execution_count": null,
   "metadata": {
    "colab": {
     "base_uri": "https://localhost:8080/"
    },
    "executionInfo": {
     "elapsed": 840,
     "status": "ok",
     "timestamp": 1605926517106,
     "user": {
      "displayName": "Ardous Task",
      "photoUrl": "",
      "userId": "05748072987174857900"
     },
     "user_tz": -480
    },
    "id": "S2VMj0dInsKV",
    "outputId": "0f4a3ff4-c966-4216-faeb-682d359590a6"
   },
   "outputs": [
    {
     "data": {
      "text/plain": [
       "87633"
      ]
     },
     "execution_count": 34,
     "metadata": {
      "tags": []
     },
     "output_type": "execute_result"
    }
   ],
   "source": [
    "vocab_size"
   ]
  },
  {
   "cell_type": "code",
   "execution_count": null,
   "metadata": {
    "id": "NZQFzvCMnsKV"
   },
   "outputs": [],
   "source": [
    "#dictionary\n",
    "embeddings_dictionary = dict()\n",
    "glove_file = open('glove.6B.100d.txt', encoding=\"utf8\")\n",
    "\n",
    "for line in glove_file:\n",
    "    records = line.split()\n",
    "    word = records[0]\n",
    "    vector_dimensions = asarray(records[1:], dtype='float32')\n",
    "    embeddings_dictionary [word] = vector_dimensions\n",
    "glove_file.close()"
   ]
  },
  {
   "cell_type": "code",
   "execution_count": null,
   "metadata": {
    "id": "4RKI3jasnsKV"
   },
   "outputs": [],
   "source": [
    "embedding_matrix = zeros((vocab_size, 100))\n",
    "for word, index in tokenizer.word_index.items():\n",
    "    embedding_vector = embeddings_dictionary.get(word)\n",
    "    if embedding_vector is not None:\n",
    "        embedding_matrix[index] = embedding_vector"
   ]
  },
  {
   "cell_type": "markdown",
   "metadata": {
    "id": "nn1leu6-nsKV"
   },
   "source": [
    "# Finding Optimal No. of Hidden Layers"
   ]
  },
  {
   "cell_type": "code",
   "execution_count": null,
   "metadata": {
    "id": "0MShT7hHnsKV"
   },
   "outputs": [],
   "source": [
    "#define params for model\n",
    "NUM_CLASSES = 1 #positive or negative\n",
    "\n",
    "epochs = 100\n",
    "\n",
    "lr = 1e-5 #learning rate\n",
    "beta = 1e-12 #weight decay param\n",
    "batch_size = 64\n",
    "hidden_neurons = 10 #optimal"
   ]
  },
  {
   "cell_type": "code",
   "execution_count": null,
   "metadata": {
    "id": "3-LPzGjunsKV"
   },
   "outputs": [],
   "source": [
    "#create model and pass in hidden_layers as argument\n",
    "def create_model(hidden_layers=1):\n",
    "    model = Sequential()\n",
    "    embedding_layer = Embedding(vocab_size, 100, weights = [embedding_matrix], \n",
    "                                input_length = maxlen, trainable = False)\n",
    "    model.add(embedding_layer)\n",
    "    #flatten embedded layers output to to 1 dimension\n",
    "    model.add(Flatten())\n",
    "\n",
    "    for i in range(hidden_layers):\n",
    "      #add dropout\n",
    "      model.add(Dropout(0.5))\n",
    "      #hidden layer with 10 hidden neurons, relu activation, l2 regulariation\n",
    "      model.add(Dense(hidden_neurons, activation = 'relu', kernel_regularizer=l2(beta)))\n",
    "    \n",
    "    #output layer with 1 neuron, sigmoid activation, l2 regularisation\n",
    "    model.add(Dense(NUM_CLASSES, activation = 'sigmoid', kernel_regularizer=l2(beta)))\n",
    "    \n",
    "    optimizer = keras.optimizers.Adam(learning_rate=lr)\n",
    "    \n",
    "    model.compile(optimizer = optimizer,\n",
    "                 loss = 'binary_crossentropy',\n",
    "                 metrics=['accuracy'])\n",
    "   \n",
    "    return model"
   ]
  },
  {
   "cell_type": "code",
   "execution_count": null,
   "metadata": {
    "colab": {
     "base_uri": "https://localhost:8080/"
    },
    "executionInfo": {
     "elapsed": 11699578,
     "status": "ok",
     "timestamp": 1605949802975,
     "user": {
      "displayName": "Ardous Task",
      "photoUrl": "",
      "userId": "05748072987174857900"
     },
     "user_tz": -480
    },
    "id": "l9c0lKcD6jHW",
    "outputId": "ee0f3b12-8356-48c8-9079-1ca0a4fb0864"
   },
   "outputs": [
    {
     "name": "stdout",
     "output_type": "stream",
     "text": [
      "Fitting 5 folds for each of 5 candidates, totalling 25 fits\n"
     ]
    },
    {
     "name": "stderr",
     "output_type": "stream",
     "text": [
      "[Parallel(n_jobs=-1)]: Using backend LokyBackend with 2 concurrent workers.\n",
      "/usr/local/lib/python3.6/dist-packages/joblib/externals/loky/process_executor.py:691: UserWarning: A worker stopped while some jobs were given to the executor. This can be caused by a too short worker timeout or by a memory leak.\n",
      "  \"timeout or by a memory leak.\", UserWarning\n",
      "[Parallel(n_jobs=-1)]: Done  25 out of  25 | elapsed: 185.3min finished\n"
     ]
    },
    {
     "name": "stdout",
     "output_type": "stream",
     "text": [
      "Epoch 1/100\n",
      "547/547 - 6s - loss: 0.7092 - accuracy: 0.5082\n",
      "Epoch 2/100\n",
      "547/547 - 6s - loss: 0.6935 - accuracy: 0.5175\n",
      "Epoch 3/100\n",
      "547/547 - 6s - loss: 0.6923 - accuracy: 0.5257\n",
      "Epoch 4/100\n",
      "547/547 - 6s - loss: 0.6889 - accuracy: 0.5374\n",
      "Epoch 5/100\n",
      "547/547 - 6s - loss: 0.6859 - accuracy: 0.5423\n",
      "Epoch 6/100\n",
      "547/547 - 6s - loss: 0.6762 - accuracy: 0.5666\n",
      "Epoch 7/100\n",
      "547/547 - 6s - loss: 0.6678 - accuracy: 0.5889\n",
      "Epoch 8/100\n",
      "547/547 - 6s - loss: 0.6580 - accuracy: 0.6076\n",
      "Epoch 9/100\n",
      "547/547 - 6s - loss: 0.6485 - accuracy: 0.6203\n",
      "Epoch 10/100\n",
      "547/547 - 6s - loss: 0.6429 - accuracy: 0.6300\n",
      "Epoch 11/100\n",
      "547/547 - 6s - loss: 0.6354 - accuracy: 0.6397\n",
      "Epoch 12/100\n",
      "547/547 - 6s - loss: 0.6286 - accuracy: 0.6484\n",
      "Epoch 13/100\n",
      "547/547 - 6s - loss: 0.6217 - accuracy: 0.6569\n",
      "Epoch 14/100\n",
      "547/547 - 6s - loss: 0.6180 - accuracy: 0.6607\n",
      "Epoch 15/100\n",
      "547/547 - 6s - loss: 0.6139 - accuracy: 0.6636\n",
      "Epoch 16/100\n",
      "547/547 - 6s - loss: 0.6101 - accuracy: 0.6695\n",
      "Epoch 17/100\n",
      "547/547 - 6s - loss: 0.6063 - accuracy: 0.6716\n",
      "Epoch 18/100\n",
      "547/547 - 6s - loss: 0.5995 - accuracy: 0.6806\n",
      "Epoch 19/100\n",
      "547/547 - 6s - loss: 0.5975 - accuracy: 0.6819\n",
      "Epoch 20/100\n",
      "547/547 - 6s - loss: 0.5919 - accuracy: 0.6870\n",
      "Epoch 21/100\n",
      "547/547 - 6s - loss: 0.5876 - accuracy: 0.6908\n",
      "Epoch 22/100\n",
      "547/547 - 6s - loss: 0.5870 - accuracy: 0.6929\n",
      "Epoch 23/100\n",
      "547/547 - 6s - loss: 0.5812 - accuracy: 0.6991\n",
      "Epoch 24/100\n",
      "547/547 - 6s - loss: 0.5769 - accuracy: 0.7055\n",
      "Epoch 25/100\n",
      "547/547 - 6s - loss: 0.5742 - accuracy: 0.7051\n",
      "Epoch 26/100\n",
      "547/547 - 6s - loss: 0.5730 - accuracy: 0.7055\n",
      "Epoch 27/100\n",
      "547/547 - 6s - loss: 0.5683 - accuracy: 0.7101\n",
      "Epoch 28/100\n",
      "547/547 - 6s - loss: 0.5666 - accuracy: 0.7103\n",
      "Epoch 29/100\n",
      "547/547 - 6s - loss: 0.5659 - accuracy: 0.7115\n",
      "Epoch 30/100\n",
      "547/547 - 6s - loss: 0.5629 - accuracy: 0.7130\n",
      "Epoch 31/100\n",
      "547/547 - 6s - loss: 0.5578 - accuracy: 0.7177\n",
      "Epoch 32/100\n",
      "547/547 - 6s - loss: 0.5577 - accuracy: 0.7193\n",
      "Epoch 33/100\n",
      "547/547 - 6s - loss: 0.5550 - accuracy: 0.7221\n",
      "Epoch 34/100\n",
      "547/547 - 6s - loss: 0.5515 - accuracy: 0.7219\n",
      "Epoch 35/100\n",
      "547/547 - 6s - loss: 0.5493 - accuracy: 0.7250\n",
      "Epoch 36/100\n",
      "547/547 - 6s - loss: 0.5470 - accuracy: 0.7259\n",
      "Epoch 37/100\n",
      "547/547 - 6s - loss: 0.5463 - accuracy: 0.7244\n",
      "Epoch 38/100\n",
      "547/547 - 6s - loss: 0.5456 - accuracy: 0.7272\n",
      "Epoch 39/100\n",
      "547/547 - 6s - loss: 0.5415 - accuracy: 0.7301\n",
      "Epoch 40/100\n",
      "547/547 - 6s - loss: 0.5395 - accuracy: 0.7307\n",
      "Epoch 41/100\n",
      "547/547 - 6s - loss: 0.5374 - accuracy: 0.7335\n",
      "Epoch 42/100\n",
      "547/547 - 6s - loss: 0.5354 - accuracy: 0.7359\n",
      "Epoch 43/100\n",
      "547/547 - 6s - loss: 0.5348 - accuracy: 0.7369\n",
      "Epoch 44/100\n",
      "547/547 - 6s - loss: 0.5325 - accuracy: 0.7371\n",
      "Epoch 45/100\n",
      "547/547 - 6s - loss: 0.5316 - accuracy: 0.7379\n",
      "Epoch 46/100\n",
      "547/547 - 6s - loss: 0.5305 - accuracy: 0.7360\n",
      "Epoch 47/100\n",
      "547/547 - 6s - loss: 0.5300 - accuracy: 0.7388\n",
      "Epoch 48/100\n",
      "547/547 - 6s - loss: 0.5274 - accuracy: 0.7411\n",
      "Epoch 49/100\n",
      "547/547 - 6s - loss: 0.5250 - accuracy: 0.7426\n",
      "Epoch 50/100\n",
      "547/547 - 6s - loss: 0.5226 - accuracy: 0.7434\n",
      "Epoch 51/100\n",
      "547/547 - 6s - loss: 0.5223 - accuracy: 0.7423\n",
      "Epoch 52/100\n",
      "547/547 - 6s - loss: 0.5223 - accuracy: 0.7441\n",
      "Epoch 53/100\n",
      "547/547 - 6s - loss: 0.5205 - accuracy: 0.7440\n",
      "Epoch 54/100\n",
      "547/547 - 6s - loss: 0.5199 - accuracy: 0.7457\n",
      "Epoch 55/100\n",
      "547/547 - 6s - loss: 0.5178 - accuracy: 0.7463\n",
      "Epoch 56/100\n",
      "547/547 - 6s - loss: 0.5173 - accuracy: 0.7453\n",
      "Epoch 57/100\n",
      "547/547 - 6s - loss: 0.5142 - accuracy: 0.7485\n",
      "Epoch 58/100\n",
      "547/547 - 6s - loss: 0.5155 - accuracy: 0.7483\n",
      "Epoch 59/100\n",
      "547/547 - 6s - loss: 0.5141 - accuracy: 0.7486\n",
      "Epoch 60/100\n",
      "547/547 - 6s - loss: 0.5129 - accuracy: 0.7491\n",
      "Epoch 61/100\n",
      "547/547 - 6s - loss: 0.5124 - accuracy: 0.7488\n",
      "Epoch 62/100\n",
      "547/547 - 6s - loss: 0.5127 - accuracy: 0.7476\n",
      "Epoch 63/100\n",
      "547/547 - 6s - loss: 0.5101 - accuracy: 0.7489\n",
      "Epoch 64/100\n",
      "547/547 - 6s - loss: 0.5111 - accuracy: 0.7491\n",
      "Epoch 65/100\n",
      "547/547 - 6s - loss: 0.5081 - accuracy: 0.7529\n",
      "Epoch 66/100\n",
      "547/547 - 6s - loss: 0.5064 - accuracy: 0.7534\n",
      "Epoch 67/100\n",
      "547/547 - 6s - loss: 0.5057 - accuracy: 0.7512\n",
      "Epoch 68/100\n",
      "547/547 - 6s - loss: 0.5057 - accuracy: 0.7521\n",
      "Epoch 69/100\n",
      "547/547 - 6s - loss: 0.5068 - accuracy: 0.7512\n",
      "Epoch 70/100\n",
      "547/547 - 6s - loss: 0.5056 - accuracy: 0.7542\n",
      "Epoch 71/100\n",
      "547/547 - 6s - loss: 0.4993 - accuracy: 0.7572\n",
      "Epoch 72/100\n",
      "547/547 - 7s - loss: 0.4988 - accuracy: 0.7576\n",
      "Epoch 73/100\n",
      "547/547 - 6s - loss: 0.4991 - accuracy: 0.7568\n",
      "Epoch 74/100\n",
      "547/547 - 6s - loss: 0.4994 - accuracy: 0.7538\n",
      "Epoch 75/100\n",
      "547/547 - 6s - loss: 0.5010 - accuracy: 0.7545\n",
      "Epoch 76/100\n",
      "547/547 - 6s - loss: 0.4990 - accuracy: 0.7579\n",
      "Epoch 77/100\n",
      "547/547 - 6s - loss: 0.4968 - accuracy: 0.7576\n",
      "Epoch 78/100\n",
      "547/547 - 6s - loss: 0.4963 - accuracy: 0.7580\n",
      "Epoch 79/100\n",
      "547/547 - 6s - loss: 0.4969 - accuracy: 0.7587\n",
      "Epoch 80/100\n",
      "547/547 - 6s - loss: 0.4963 - accuracy: 0.7596\n",
      "Epoch 81/100\n",
      "547/547 - 6s - loss: 0.4951 - accuracy: 0.7605\n",
      "Epoch 82/100\n",
      "547/547 - 6s - loss: 0.4922 - accuracy: 0.7629\n",
      "Epoch 83/100\n",
      "547/547 - 6s - loss: 0.4931 - accuracy: 0.7587\n",
      "Epoch 84/100\n",
      "547/547 - 6s - loss: 0.4946 - accuracy: 0.7585\n",
      "Epoch 85/100\n",
      "547/547 - 6s - loss: 0.4935 - accuracy: 0.7605\n",
      "Epoch 86/100\n",
      "547/547 - 6s - loss: 0.4917 - accuracy: 0.7597\n",
      "Epoch 87/100\n",
      "547/547 - 6s - loss: 0.4912 - accuracy: 0.7603\n",
      "Epoch 88/100\n",
      "547/547 - 6s - loss: 0.4893 - accuracy: 0.7631\n",
      "Epoch 89/100\n",
      "547/547 - 6s - loss: 0.4900 - accuracy: 0.7619\n",
      "Epoch 90/100\n",
      "547/547 - 6s - loss: 0.4903 - accuracy: 0.7621\n",
      "Epoch 91/100\n",
      "547/547 - 6s - loss: 0.4869 - accuracy: 0.7617\n",
      "Epoch 92/100\n",
      "547/547 - 6s - loss: 0.4880 - accuracy: 0.7638\n",
      "Epoch 93/100\n",
      "547/547 - 6s - loss: 0.4880 - accuracy: 0.7642\n",
      "Epoch 94/100\n",
      "547/547 - 6s - loss: 0.4872 - accuracy: 0.7646\n",
      "Epoch 95/100\n",
      "547/547 - 6s - loss: 0.4848 - accuracy: 0.7668\n",
      "Epoch 96/100\n",
      "547/547 - 6s - loss: 0.4898 - accuracy: 0.7615\n",
      "Epoch 97/100\n",
      "547/547 - 6s - loss: 0.4878 - accuracy: 0.7618\n",
      "Epoch 98/100\n",
      "547/547 - 6s - loss: 0.4874 - accuracy: 0.7651\n",
      "Epoch 99/100\n",
      "547/547 - 6s - loss: 0.4847 - accuracy: 0.7670\n",
      "Epoch 100/100\n",
      "547/547 - 6s - loss: 0.4874 - accuracy: 0.7650\n",
      "Best Mean Test Accuracy: 0.740429 {'hidden_layers': 1}\n",
      "{'hidden_layers': 1} Accuracy: 0.740429(0.003872), Time: 874.550758\n",
      "{'hidden_layers': 2} Accuracy: 0.712257(0.005515), Time: 864.046859\n",
      "{'hidden_layers': 3} Accuracy: 0.691057(0.008945), Time: 890.774749\n",
      "{'hidden_layers': 4} Accuracy: 0.614114(0.044720), Time: 892.379755\n",
      "{'hidden_layers': 5} Accuracy: 0.594400(0.066456), Time: 809.898419\n"
     ]
    }
   ],
   "source": [
    "#wrap keras model\n",
    "model = KerasClassifier(build_fn=create_model, epochs=epochs, batch_size=batch_size, verbose=2)\n",
    "\n",
    "#define search space for hidden layers\n",
    "hidden_layers = [1,2,3,4,5]\n",
    "\n",
    "#gridsearch for different number of hidden layers\n",
    "param_grid = dict(hidden_layers=hidden_layers)\n",
    "grid = GridSearchCV(estimator=model, param_grid=param_grid, n_jobs=-1, cv=5, verbose=1)\n",
    "grid_result = grid.fit(X_train, Y_train)\n",
    "\n",
    "#print results\n",
    "print('Best Mean Test Accuracy: %f %s'% (grid_result.best_score_, grid_result.best_params_))\n",
    "means = grid_result.cv_results_['mean_test_score']\n",
    "stds = grid_result.cv_results_['std_test_score']\n",
    "mean_time = grid_result.cv_results_['mean_fit_time']\n",
    "params = grid_result.cv_results_['params']\n",
    "for mean, stdev, time, param in zip(means, stds, mean_time, params):\n",
    "    print(\"%r Accuracy: %f(%f), Time: %f\" % (param, mean, stdev, time))"
   ]
  },
  {
   "cell_type": "markdown",
   "metadata": {
    "id": "9qhoYHbqN_Yt"
   },
   "source": [
    "# Train model with optimal number of hidden layers = 1"
   ]
  },
  {
   "cell_type": "code",
   "execution_count": null,
   "metadata": {
    "id": "zS41cZybN4VU"
   },
   "outputs": [],
   "source": [
    "#define params for model\n",
    "NUM_CLASSES = 1 #positive or negative\n",
    "\n",
    "epochs = 100\n",
    "\n",
    "lr = 1e-5 #optimal learning rate\n",
    "beta = 1e-12 #optimal weight decay param\n",
    "batch_size = 64 #optimal\n",
    "hidden_neurons = 10"
   ]
  },
  {
   "cell_type": "code",
   "execution_count": null,
   "metadata": {
    "id": "4UyNzu5vURVb"
   },
   "outputs": [],
   "source": [
    "#create model with dropouts\n",
    "def create_model():\n",
    "    model = Sequential()\n",
    "    embedding_layer = Embedding(vocab_size, 100, weights = [embedding_matrix], \n",
    "                                input_length = maxlen, trainable = False)\n",
    "    model.add(embedding_layer)\n",
    "    #flatten embedded layers output to to 1 dimension\n",
    "    model.add(Flatten())\n",
    "    \n",
    "    #add dropout\n",
    "    model.add(Dropout(0.5))\n",
    "    #one hidden layer with 10 hidden neurons, relu activation, l2 regulariation\n",
    "    #output layer with 1 neuron, sigmoid activation, l2 regularisation\n",
    "    model.add(Dense(hidden_neurons, activation = 'relu', kernel_regularizer=l2(beta)))\n",
    "    model.add(Dense(NUM_CLASSES, activation = 'sigmoid', kernel_regularizer=l2(beta)))\n",
    "    \n",
    "    optimizer = keras.optimizers.Adam(learning_rate=lr)\n",
    "    \n",
    "    model.compile(optimizer = optimizer,\n",
    "                 loss = 'binary_crossentropy',\n",
    "                 metrics=['accuracy'])\n",
    "   \n",
    "    return model"
   ]
  },
  {
   "cell_type": "code",
   "execution_count": null,
   "metadata": {
    "colab": {
     "base_uri": "https://localhost:8080/"
    },
    "executionInfo": {
     "elapsed": 219099,
     "status": "ok",
     "timestamp": 1605893194811,
     "user": {
      "displayName": "Ardous Task",
      "photoUrl": "",
      "userId": "05748072987174857900"
     },
     "user_tz": -480
    },
    "id": "CdSSPI0QN5un",
    "outputId": "494cdda3-fea1-4ec8-d573-8ef7b36db371"
   },
   "outputs": [
    {
     "name": "stdout",
     "output_type": "stream",
     "text": [
      "Epoch 1/100\n",
      "547/547 - 2s - loss: 0.7223 - accuracy: 0.5121 - val_loss: 0.6879 - val_accuracy: 0.5425\n",
      "Epoch 2/100\n",
      "547/547 - 2s - loss: 0.6920 - accuracy: 0.5321 - val_loss: 0.6855 - val_accuracy: 0.5623\n",
      "Epoch 3/100\n",
      "547/547 - 2s - loss: 0.6856 - accuracy: 0.5534 - val_loss: 0.6779 - val_accuracy: 0.5839\n",
      "Epoch 4/100\n",
      "547/547 - 2s - loss: 0.6776 - accuracy: 0.5746 - val_loss: 0.6676 - val_accuracy: 0.6111\n",
      "Epoch 5/100\n",
      "547/547 - 2s - loss: 0.6699 - accuracy: 0.5866 - val_loss: 0.6584 - val_accuracy: 0.6273\n",
      "Epoch 6/100\n",
      "547/547 - 2s - loss: 0.6594 - accuracy: 0.6062 - val_loss: 0.6495 - val_accuracy: 0.6417\n",
      "Epoch 7/100\n",
      "547/547 - 2s - loss: 0.6527 - accuracy: 0.6168 - val_loss: 0.6425 - val_accuracy: 0.6499\n",
      "Epoch 8/100\n",
      "547/547 - 2s - loss: 0.6452 - accuracy: 0.6256 - val_loss: 0.6354 - val_accuracy: 0.6566\n",
      "Epoch 9/100\n",
      "547/547 - 2s - loss: 0.6381 - accuracy: 0.6365 - val_loss: 0.6288 - val_accuracy: 0.6611\n",
      "Epoch 10/100\n",
      "547/547 - 2s - loss: 0.6302 - accuracy: 0.6464 - val_loss: 0.6211 - val_accuracy: 0.6683\n",
      "Epoch 11/100\n",
      "547/547 - 2s - loss: 0.6243 - accuracy: 0.6540 - val_loss: 0.6153 - val_accuracy: 0.6751\n",
      "Epoch 12/100\n",
      "547/547 - 2s - loss: 0.6177 - accuracy: 0.6596 - val_loss: 0.6086 - val_accuracy: 0.6796\n",
      "Epoch 13/100\n",
      "547/547 - 2s - loss: 0.6131 - accuracy: 0.6657 - val_loss: 0.6042 - val_accuracy: 0.6834\n",
      "Epoch 14/100\n",
      "547/547 - 2s - loss: 0.6074 - accuracy: 0.6712 - val_loss: 0.5998 - val_accuracy: 0.6891\n",
      "Epoch 15/100\n",
      "547/547 - 2s - loss: 0.6020 - accuracy: 0.6761 - val_loss: 0.5933 - val_accuracy: 0.6920\n",
      "Epoch 16/100\n",
      "547/547 - 2s - loss: 0.5981 - accuracy: 0.6805 - val_loss: 0.5884 - val_accuracy: 0.6953\n",
      "Epoch 17/100\n",
      "547/547 - 2s - loss: 0.5905 - accuracy: 0.6863 - val_loss: 0.5853 - val_accuracy: 0.6958\n",
      "Epoch 18/100\n",
      "547/547 - 2s - loss: 0.5881 - accuracy: 0.6874 - val_loss: 0.5798 - val_accuracy: 0.7021\n",
      "Epoch 19/100\n",
      "547/547 - 2s - loss: 0.5805 - accuracy: 0.6974 - val_loss: 0.5759 - val_accuracy: 0.7045\n",
      "Epoch 20/100\n",
      "547/547 - 2s - loss: 0.5777 - accuracy: 0.6989 - val_loss: 0.5735 - val_accuracy: 0.7057\n",
      "Epoch 21/100\n",
      "547/547 - 2s - loss: 0.5722 - accuracy: 0.7041 - val_loss: 0.5700 - val_accuracy: 0.7125\n",
      "Epoch 22/100\n",
      "547/547 - 2s - loss: 0.5713 - accuracy: 0.7028 - val_loss: 0.5663 - val_accuracy: 0.7121\n",
      "Epoch 23/100\n",
      "547/547 - 2s - loss: 0.5683 - accuracy: 0.7066 - val_loss: 0.5636 - val_accuracy: 0.7137\n",
      "Epoch 24/100\n",
      "547/547 - 2s - loss: 0.5613 - accuracy: 0.7121 - val_loss: 0.5608 - val_accuracy: 0.7197\n",
      "Epoch 25/100\n",
      "547/547 - 2s - loss: 0.5597 - accuracy: 0.7149 - val_loss: 0.5609 - val_accuracy: 0.7137\n",
      "Epoch 26/100\n",
      "547/547 - 2s - loss: 0.5545 - accuracy: 0.7171 - val_loss: 0.5559 - val_accuracy: 0.7231\n",
      "Epoch 27/100\n",
      "547/547 - 2s - loss: 0.5533 - accuracy: 0.7191 - val_loss: 0.5539 - val_accuracy: 0.7229\n",
      "Epoch 28/100\n",
      "547/547 - 2s - loss: 0.5479 - accuracy: 0.7246 - val_loss: 0.5528 - val_accuracy: 0.7213\n",
      "Epoch 29/100\n",
      "547/547 - 2s - loss: 0.5482 - accuracy: 0.7206 - val_loss: 0.5500 - val_accuracy: 0.7257\n",
      "Epoch 30/100\n",
      "547/547 - 2s - loss: 0.5453 - accuracy: 0.7218 - val_loss: 0.5481 - val_accuracy: 0.7272\n",
      "Epoch 31/100\n",
      "547/547 - 2s - loss: 0.5401 - accuracy: 0.7292 - val_loss: 0.5464 - val_accuracy: 0.7292\n",
      "Epoch 32/100\n",
      "547/547 - 2s - loss: 0.5396 - accuracy: 0.7279 - val_loss: 0.5448 - val_accuracy: 0.7305\n",
      "Epoch 33/100\n",
      "547/547 - 2s - loss: 0.5383 - accuracy: 0.7305 - val_loss: 0.5434 - val_accuracy: 0.7317\n",
      "Epoch 34/100\n",
      "547/547 - 2s - loss: 0.5377 - accuracy: 0.7296 - val_loss: 0.5427 - val_accuracy: 0.7291\n",
      "Epoch 35/100\n",
      "547/547 - 2s - loss: 0.5329 - accuracy: 0.7342 - val_loss: 0.5406 - val_accuracy: 0.7317\n",
      "Epoch 36/100\n",
      "547/547 - 2s - loss: 0.5308 - accuracy: 0.7375 - val_loss: 0.5394 - val_accuracy: 0.7331\n",
      "Epoch 37/100\n",
      "547/547 - 2s - loss: 0.5303 - accuracy: 0.7383 - val_loss: 0.5386 - val_accuracy: 0.7319\n",
      "Epoch 38/100\n",
      "547/547 - 2s - loss: 0.5292 - accuracy: 0.7361 - val_loss: 0.5376 - val_accuracy: 0.7336\n",
      "Epoch 39/100\n",
      "547/547 - 2s - loss: 0.5282 - accuracy: 0.7413 - val_loss: 0.5376 - val_accuracy: 0.7383\n",
      "Epoch 40/100\n",
      "547/547 - 2s - loss: 0.5246 - accuracy: 0.7411 - val_loss: 0.5352 - val_accuracy: 0.7356\n",
      "Epoch 41/100\n",
      "547/547 - 2s - loss: 0.5240 - accuracy: 0.7405 - val_loss: 0.5365 - val_accuracy: 0.7387\n",
      "Epoch 42/100\n",
      "547/547 - 2s - loss: 0.5239 - accuracy: 0.7383 - val_loss: 0.5334 - val_accuracy: 0.7397\n",
      "Epoch 43/100\n",
      "547/547 - 2s - loss: 0.5237 - accuracy: 0.7401 - val_loss: 0.5329 - val_accuracy: 0.7373\n",
      "Epoch 44/100\n",
      "547/547 - 2s - loss: 0.5208 - accuracy: 0.7425 - val_loss: 0.5322 - val_accuracy: 0.7403\n",
      "Epoch 45/100\n",
      "547/547 - 2s - loss: 0.5216 - accuracy: 0.7416 - val_loss: 0.5314 - val_accuracy: 0.7394\n",
      "Epoch 46/100\n",
      "547/547 - 2s - loss: 0.5185 - accuracy: 0.7416 - val_loss: 0.5309 - val_accuracy: 0.7372\n",
      "Epoch 47/100\n",
      "547/547 - 2s - loss: 0.5173 - accuracy: 0.7469 - val_loss: 0.5296 - val_accuracy: 0.7405\n",
      "Epoch 48/100\n",
      "547/547 - 2s - loss: 0.5163 - accuracy: 0.7463 - val_loss: 0.5296 - val_accuracy: 0.7413\n",
      "Epoch 49/100\n",
      "547/547 - 2s - loss: 0.5171 - accuracy: 0.7455 - val_loss: 0.5284 - val_accuracy: 0.7409\n",
      "Epoch 50/100\n",
      "547/547 - 2s - loss: 0.5130 - accuracy: 0.7491 - val_loss: 0.5281 - val_accuracy: 0.7425\n",
      "Epoch 51/100\n",
      "547/547 - 2s - loss: 0.5142 - accuracy: 0.7489 - val_loss: 0.5289 - val_accuracy: 0.7423\n",
      "Epoch 52/100\n",
      "547/547 - 2s - loss: 0.5125 - accuracy: 0.7493 - val_loss: 0.5266 - val_accuracy: 0.7434\n",
      "Epoch 53/100\n",
      "547/547 - 2s - loss: 0.5130 - accuracy: 0.7480 - val_loss: 0.5267 - val_accuracy: 0.7432\n",
      "Epoch 54/100\n",
      "547/547 - 2s - loss: 0.5135 - accuracy: 0.7481 - val_loss: 0.5260 - val_accuracy: 0.7425\n",
      "Epoch 55/100\n",
      "547/547 - 2s - loss: 0.5104 - accuracy: 0.7496 - val_loss: 0.5253 - val_accuracy: 0.7428\n",
      "Epoch 56/100\n",
      "547/547 - 2s - loss: 0.5103 - accuracy: 0.7517 - val_loss: 0.5243 - val_accuracy: 0.7451\n",
      "Epoch 57/100\n",
      "547/547 - 2s - loss: 0.5102 - accuracy: 0.7505 - val_loss: 0.5243 - val_accuracy: 0.7446\n",
      "Epoch 58/100\n",
      "547/547 - 2s - loss: 0.5056 - accuracy: 0.7570 - val_loss: 0.5235 - val_accuracy: 0.7457\n",
      "Epoch 59/100\n",
      "547/547 - 2s - loss: 0.5071 - accuracy: 0.7509 - val_loss: 0.5230 - val_accuracy: 0.7453\n",
      "Epoch 60/100\n",
      "547/547 - 2s - loss: 0.5080 - accuracy: 0.7501 - val_loss: 0.5228 - val_accuracy: 0.7454\n",
      "Epoch 61/100\n",
      "547/547 - 2s - loss: 0.5053 - accuracy: 0.7562 - val_loss: 0.5223 - val_accuracy: 0.7462\n",
      "Epoch 62/100\n",
      "547/547 - 2s - loss: 0.5063 - accuracy: 0.7524 - val_loss: 0.5224 - val_accuracy: 0.7457\n",
      "Epoch 63/100\n",
      "547/547 - 2s - loss: 0.5056 - accuracy: 0.7527 - val_loss: 0.5225 - val_accuracy: 0.7441\n",
      "Epoch 64/100\n",
      "547/547 - 2s - loss: 0.5059 - accuracy: 0.7530 - val_loss: 0.5213 - val_accuracy: 0.7463\n",
      "Epoch 65/100\n",
      "547/547 - 2s - loss: 0.5058 - accuracy: 0.7516 - val_loss: 0.5232 - val_accuracy: 0.7439\n",
      "Epoch 66/100\n",
      "547/547 - 2s - loss: 0.5026 - accuracy: 0.7552 - val_loss: 0.5206 - val_accuracy: 0.7468\n",
      "Epoch 67/100\n",
      "547/547 - 2s - loss: 0.5020 - accuracy: 0.7558 - val_loss: 0.5209 - val_accuracy: 0.7455\n",
      "Epoch 68/100\n",
      "547/547 - 2s - loss: 0.5018 - accuracy: 0.7564 - val_loss: 0.5202 - val_accuracy: 0.7467\n",
      "Epoch 69/100\n",
      "547/547 - 2s - loss: 0.5031 - accuracy: 0.7544 - val_loss: 0.5199 - val_accuracy: 0.7469\n",
      "Epoch 70/100\n",
      "547/547 - 2s - loss: 0.5022 - accuracy: 0.7554 - val_loss: 0.5200 - val_accuracy: 0.7465\n",
      "Epoch 71/100\n",
      "547/547 - 2s - loss: 0.4980 - accuracy: 0.7562 - val_loss: 0.5195 - val_accuracy: 0.7480\n",
      "Epoch 72/100\n",
      "547/547 - 2s - loss: 0.4999 - accuracy: 0.7593 - val_loss: 0.5194 - val_accuracy: 0.7482\n",
      "Epoch 73/100\n",
      "547/547 - 2s - loss: 0.4990 - accuracy: 0.7574 - val_loss: 0.5199 - val_accuracy: 0.7464\n",
      "Epoch 74/100\n",
      "547/547 - 2s - loss: 0.4994 - accuracy: 0.7559 - val_loss: 0.5192 - val_accuracy: 0.7472\n",
      "Epoch 75/100\n",
      "547/547 - 2s - loss: 0.5000 - accuracy: 0.7550 - val_loss: 0.5197 - val_accuracy: 0.7475\n",
      "Epoch 76/100\n",
      "547/547 - 2s - loss: 0.4981 - accuracy: 0.7553 - val_loss: 0.5191 - val_accuracy: 0.7459\n",
      "Epoch 77/100\n",
      "547/547 - 2s - loss: 0.4980 - accuracy: 0.7591 - val_loss: 0.5182 - val_accuracy: 0.7475\n",
      "Epoch 78/100\n",
      "547/547 - 2s - loss: 0.4965 - accuracy: 0.7597 - val_loss: 0.5186 - val_accuracy: 0.7457\n",
      "Epoch 79/100\n",
      "547/547 - 2s - loss: 0.4986 - accuracy: 0.7581 - val_loss: 0.5200 - val_accuracy: 0.7459\n",
      "Epoch 80/100\n",
      "547/547 - 2s - loss: 0.4955 - accuracy: 0.7610 - val_loss: 0.5186 - val_accuracy: 0.7456\n",
      "Epoch 81/100\n",
      "547/547 - 2s - loss: 0.4947 - accuracy: 0.7597 - val_loss: 0.5185 - val_accuracy: 0.7469\n",
      "Epoch 82/100\n",
      "547/547 - 2s - loss: 0.4954 - accuracy: 0.7586 - val_loss: 0.5174 - val_accuracy: 0.7494\n",
      "Epoch 83/100\n",
      "547/547 - 2s - loss: 0.4957 - accuracy: 0.7567 - val_loss: 0.5173 - val_accuracy: 0.7485\n",
      "Epoch 84/100\n",
      "547/547 - 2s - loss: 0.4927 - accuracy: 0.7622 - val_loss: 0.5170 - val_accuracy: 0.7485\n",
      "Epoch 85/100\n",
      "547/547 - 2s - loss: 0.4928 - accuracy: 0.7606 - val_loss: 0.5169 - val_accuracy: 0.7487\n",
      "Epoch 86/100\n",
      "547/547 - 2s - loss: 0.4931 - accuracy: 0.7604 - val_loss: 0.5167 - val_accuracy: 0.7483\n",
      "Epoch 87/100\n",
      "547/547 - 2s - loss: 0.4935 - accuracy: 0.7611 - val_loss: 0.5170 - val_accuracy: 0.7486\n",
      "Epoch 88/100\n",
      "547/547 - 2s - loss: 0.4932 - accuracy: 0.7630 - val_loss: 0.5166 - val_accuracy: 0.7484\n",
      "Epoch 89/100\n",
      "547/547 - 2s - loss: 0.4954 - accuracy: 0.7602 - val_loss: 0.5167 - val_accuracy: 0.7489\n",
      "Epoch 90/100\n",
      "547/547 - 2s - loss: 0.4932 - accuracy: 0.7581 - val_loss: 0.5168 - val_accuracy: 0.7476\n",
      "Epoch 91/100\n",
      "547/547 - 2s - loss: 0.4934 - accuracy: 0.7595 - val_loss: 0.5169 - val_accuracy: 0.7470\n",
      "Epoch 92/100\n",
      "547/547 - 2s - loss: 0.4940 - accuracy: 0.7608 - val_loss: 0.5173 - val_accuracy: 0.7483\n",
      "Epoch 93/100\n",
      "547/547 - 2s - loss: 0.4899 - accuracy: 0.7632 - val_loss: 0.5162 - val_accuracy: 0.7492\n",
      "Epoch 94/100\n",
      "547/547 - 2s - loss: 0.4872 - accuracy: 0.7620 - val_loss: 0.5159 - val_accuracy: 0.7495\n",
      "Epoch 95/100\n",
      "547/547 - 2s - loss: 0.4917 - accuracy: 0.7619 - val_loss: 0.5160 - val_accuracy: 0.7493\n",
      "Epoch 96/100\n",
      "547/547 - 2s - loss: 0.4905 - accuracy: 0.7638 - val_loss: 0.5160 - val_accuracy: 0.7489\n",
      "Epoch 97/100\n",
      "547/547 - 2s - loss: 0.4899 - accuracy: 0.7647 - val_loss: 0.5158 - val_accuracy: 0.7487\n",
      "Epoch 98/100\n",
      "547/547 - 2s - loss: 0.4916 - accuracy: 0.7604 - val_loss: 0.5158 - val_accuracy: 0.7493\n",
      "Epoch 99/100\n",
      "547/547 - 2s - loss: 0.4915 - accuracy: 0.7633 - val_loss: 0.5159 - val_accuracy: 0.7489\n",
      "Epoch 100/100\n",
      "547/547 - 2s - loss: 0.4907 - accuracy: 0.7643 - val_loss: 0.5171 - val_accuracy: 0.7477\n"
     ]
    }
   ],
   "source": [
    "#train model\n",
    "model = create_model()\n",
    "history = model.fit(X_train, Y_train,\n",
    "                    epochs = epochs,\n",
    "                    verbose = 2,\n",
    "                    batch_size = batch_size,\n",
    "                    validation_data = (X_test, Y_test)\n",
    "                   )"
   ]
  },
  {
   "cell_type": "code",
   "execution_count": null,
   "metadata": {
    "colab": {
     "base_uri": "https://localhost:8080/",
     "height": 295
    },
    "executionInfo": {
     "elapsed": 1368,
     "status": "ok",
     "timestamp": 1605893287664,
     "user": {
      "displayName": "Ardous Task",
      "photoUrl": "",
      "userId": "05748072987174857900"
     },
     "user_tz": -480
    },
    "id": "kd50CdJG6nkF",
    "outputId": "83393fa1-e825-49ac-e44e-736bb0473603"
   },
   "outputs": [
    {
     "data": {
      "image/png": "[encoded data removed]",
      "text/plain": [
       "<Figure size 432x288 with 1 Axes>"
      ]
     },
     "metadata": {
      "needs_background": "light",
      "tags": []
     },
     "output_type": "display_data"
    }
   ],
   "source": [
    "#Summarize history for accuracy\n",
    "import matplotlib.pyplot as plt\n",
    "plt.plot(history.history['accuracy'], label='Train Accuracy')\n",
    "plt.plot(history.history['val_accuracy'], label='Test Accuracy')\n",
    "plt.title('Train and Test Accuracies')\n",
    "plt.ylabel('Accuracy')\n",
    "plt.xlabel('Epoch')\n",
    "plt.legend(loc=\"lower right\")\n",
    "plt.show()"
   ]
  }
 ],
 "metadata": {
  "accelerator": "GPU",
  "colab": {
   "collapsed_sections": [],
   "name": "Simple NN - hidden layers.ipynb",
   "provenance": [
    {
     "file_id": "1grnCLMpkMez_cDFxNFjuuDToexZtt-66",
     "timestamp": 1605885556058
    },
    {
     "file_id": "18vQ4secSITqXWpvd0ZsFTLo9730IHhYY",
     "timestamp": 1605840997417
    }
   ]
  },
  "kernelspec": {
   "display_name": "Python 3",
   "language": "python",
   "name": "python3"
  },
  "language_info": {
   "codemirror_mode": {
    "name": "ipython",
    "version": 3
   },
   "file_extension": ".py",
   "mimetype": "text/x-python",
   "name": "python",
   "nbconvert_exporter": "python",
   "pygments_lexer": "ipython3",
   "version": "3.6.9"
  }
 },
 "nbformat": 4,
 "nbformat_minor": 1
}
