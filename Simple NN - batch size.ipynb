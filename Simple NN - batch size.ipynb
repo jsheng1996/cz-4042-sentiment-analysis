{
 "cells": [
  {
   "cell_type": "markdown",
   "metadata": {
    "id": "D3PJfRkjnsKP"
   },
   "source": [
    "# Data Preprocessing"
   ]
  },
  {
   "cell_type": "code",
   "execution_count": null,
   "metadata": {
    "id": "MPngYgnQnsKQ"
   },
   "outputs": [],
   "source": [
    "#Importing packages for necessary purposes\n",
    "\n",
    "import numpy as np\n",
    "import keras \n",
    "import pandas as pd\n",
    "import tensorflow as tf\n",
    "import re\n",
    "import nltk\n",
    "\n",
    "from numpy import array\n",
    "from numpy import asarray\n",
    "from numpy import zeros\n",
    "from keras.preprocessing.text import one_hot\n",
    "from keras.preprocessing.sequence import pad_sequences\n",
    "from keras.models import Sequential\n",
    "from keras.layers.core import Activation, Dropout, Dense\n",
    "from keras.layers import Flatten\n",
    "from keras.layers import GlobalMaxPooling1D\n",
    "from keras.layers.embeddings import Embedding\n",
    "from sklearn.model_selection import train_test_split\n",
    "from keras.preprocessing.text import Tokenizer\n",
    "from nltk.corpus import stopwords\n",
    "from keras.regularizers import l2\n",
    "\n",
    "from sklearn.model_selection import GridSearchCV\n",
    "from keras.wrappers.scikit_learn import KerasClassifier\n"
   ]
  },
  {
   "cell_type": "code",
   "execution_count": null,
   "metadata": {
    "colab": {
     "base_uri": "https://localhost:8080/",
     "height": 376
    },
    "executionInfo": {
     "elapsed": 2983,
     "status": "ok",
     "timestamp": 1605870557513,
     "user": {
      "displayName": "Wan Ting Wong",
      "photoUrl": "",
      "userId": "10706324018856459819"
     },
     "user_tz": -480
    },
    "id": "meFn1A3ansKQ",
    "outputId": "1830b70e-aad6-4501-9ae8-be461f3e16ef"
   },
   "outputs": [
    {
     "name": "stdout",
     "output_type": "stream",
     "text": [
      "(50000, 2)\n"
     ]
    },
    {
     "data": {
      "text/html": [
       "<div>\n",
       "<style scoped>\n",
       "    .dataframe tbody tr th:only-of-type {\n",
       "        vertical-align: middle;\n",
       "    }\n",
       "\n",
       "    .dataframe tbody tr th {\n",
       "        vertical-align: top;\n",
       "    }\n",
       "\n",
       "    .dataframe thead th {\n",
       "        text-align: right;\n",
       "    }\n",
       "</style>\n",
       "<table border=\"1\" class=\"dataframe\">\n",
       "  <thead>\n",
       "    <tr style=\"text-align: right;\">\n",
       "      <th></th>\n",
       "      <th>review</th>\n",
       "      <th>sentiment</th>\n",
       "    </tr>\n",
       "  </thead>\n",
       "  <tbody>\n",
       "    <tr>\n",
       "      <th>0</th>\n",
       "      <td>One of the other reviewers has mentioned that ...</td>\n",
       "      <td>positive</td>\n",
       "    </tr>\n",
       "    <tr>\n",
       "      <th>1</th>\n",
       "      <td>A wonderful little production. &lt;br /&gt;&lt;br /&gt;The...</td>\n",
       "      <td>positive</td>\n",
       "    </tr>\n",
       "    <tr>\n",
       "      <th>2</th>\n",
       "      <td>I thought this was a wonderful way to spend ti...</td>\n",
       "      <td>positive</td>\n",
       "    </tr>\n",
       "    <tr>\n",
       "      <th>3</th>\n",
       "      <td>Basically there's a family where a little boy ...</td>\n",
       "      <td>negative</td>\n",
       "    </tr>\n",
       "    <tr>\n",
       "      <th>4</th>\n",
       "      <td>Petter Mattei's \"Love in the Time of Money\" is...</td>\n",
       "      <td>positive</td>\n",
       "    </tr>\n",
       "    <tr>\n",
       "      <th>5</th>\n",
       "      <td>Probably my all-time favorite movie, a story o...</td>\n",
       "      <td>positive</td>\n",
       "    </tr>\n",
       "    <tr>\n",
       "      <th>6</th>\n",
       "      <td>I sure would like to see a resurrection of a u...</td>\n",
       "      <td>positive</td>\n",
       "    </tr>\n",
       "    <tr>\n",
       "      <th>7</th>\n",
       "      <td>This show was an amazing, fresh &amp; innovative i...</td>\n",
       "      <td>negative</td>\n",
       "    </tr>\n",
       "    <tr>\n",
       "      <th>8</th>\n",
       "      <td>Encouraged by the positive comments about this...</td>\n",
       "      <td>negative</td>\n",
       "    </tr>\n",
       "    <tr>\n",
       "      <th>9</th>\n",
       "      <td>If you like original gut wrenching laughter yo...</td>\n",
       "      <td>positive</td>\n",
       "    </tr>\n",
       "  </tbody>\n",
       "</table>\n",
       "</div>"
      ],
      "text/plain": [
       "                                              review sentiment\n",
       "0  One of the other reviewers has mentioned that ...  positive\n",
       "1  A wonderful little production. <br /><br />The...  positive\n",
       "2  I thought this was a wonderful way to spend ti...  positive\n",
       "3  Basically there's a family where a little boy ...  negative\n",
       "4  Petter Mattei's \"Love in the Time of Money\" is...  positive\n",
       "5  Probably my all-time favorite movie, a story o...  positive\n",
       "6  I sure would like to see a resurrection of a u...  positive\n",
       "7  This show was an amazing, fresh & innovative i...  negative\n",
       "8  Encouraged by the positive comments about this...  negative\n",
       "9  If you like original gut wrenching laughter yo...  positive"
      ]
     },
     "execution_count": 6,
     "metadata": {
      "tags": []
     },
     "output_type": "execute_result"
    }
   ],
   "source": [
    "#Importing data\n",
    "imdb_data = pd.read_csv('IMDB Dataset.csv')\n",
    "imdb_data.isnull().values.any()\n",
    "print (imdb_data.shape)\n",
    "imdb_data.head(10)"
   ]
  },
  {
   "cell_type": "code",
   "execution_count": null,
   "metadata": {
    "colab": {
     "base_uri": "https://localhost:8080/",
     "height": 256
    },
    "executionInfo": {
     "elapsed": 971,
     "status": "ok",
     "timestamp": 1605858678899,
     "user": {
      "displayName": "Wan Ting Wong",
      "photoUrl": "",
      "userId": "10706324018856459819"
     },
     "user_tz": -480
    },
    "id": "-SzeuK6RnsKS",
    "outputId": "fcde459e-f852-42a0-bd10-45de01b6067d"
   },
   "outputs": [
    {
     "data": {
      "application/vnd.google.colaboratory.intrinsic+json": {
       "type": "string"
      },
      "text/plain": [
       "'A wonderful little production. <br /><br />The filming technique is very unassuming- very old-time-BBC fashion and gives a comforting, and sometimes discomforting, sense of realism to the entire piece. <br /><br />The actors are extremely well chosen- Michael Sheen not only \"has got all the polari\" but he has all the voices down pat too! You can truly see the seamless editing guided by the references to Williams\\' diary entries, not only is it well worth the watching but it is a terrificly written and performed piece. A masterful production about one of the great master\\'s of comedy and his life. <br /><br />The realism really comes home with the little things: the fantasy of the guard which, rather than use the traditional \\'dream\\' techniques remains solid then disappears. It plays on our knowledge and our senses, particularly with the scenes concerning Orton and Halliwell and the sets (particularly of their flat with Halliwell\\'s murals decorating every surface) are terribly well done.'"
      ]
     },
     "execution_count": 5,
     "metadata": {
      "tags": []
     },
     "output_type": "execute_result"
    }
   ],
   "source": [
    "#Looking at the reviews\n",
    "imdb_data[\"review\"][1]"
   ]
  },
  {
   "cell_type": "code",
   "execution_count": null,
   "metadata": {
    "colab": {
     "base_uri": "https://localhost:8080/",
     "height": 173
    },
    "executionInfo": {
     "elapsed": 868,
     "status": "ok",
     "timestamp": 1605858681001,
     "user": {
      "displayName": "Wan Ting Wong",
      "photoUrl": "",
      "userId": "10706324018856459819"
     },
     "user_tz": -480
    },
    "id": "DjQofHHtnsKT",
    "outputId": "bc464b44-b147-4c53-af56-5a59d25e7dff"
   },
   "outputs": [
    {
     "data": {
      "text/html": [
       "<div>\n",
       "<style scoped>\n",
       "    .dataframe tbody tr th:only-of-type {\n",
       "        vertical-align: middle;\n",
       "    }\n",
       "\n",
       "    .dataframe tbody tr th {\n",
       "        vertical-align: top;\n",
       "    }\n",
       "\n",
       "    .dataframe thead th {\n",
       "        text-align: right;\n",
       "    }\n",
       "</style>\n",
       "<table border=\"1\" class=\"dataframe\">\n",
       "  <thead>\n",
       "    <tr style=\"text-align: right;\">\n",
       "      <th></th>\n",
       "      <th>review</th>\n",
       "      <th>sentiment</th>\n",
       "    </tr>\n",
       "  </thead>\n",
       "  <tbody>\n",
       "    <tr>\n",
       "      <th>count</th>\n",
       "      <td>50000</td>\n",
       "      <td>50000</td>\n",
       "    </tr>\n",
       "    <tr>\n",
       "      <th>unique</th>\n",
       "      <td>49582</td>\n",
       "      <td>2</td>\n",
       "    </tr>\n",
       "    <tr>\n",
       "      <th>top</th>\n",
       "      <td>Loved today's show!!! It was a variety and not...</td>\n",
       "      <td>positive</td>\n",
       "    </tr>\n",
       "    <tr>\n",
       "      <th>freq</th>\n",
       "      <td>5</td>\n",
       "      <td>25000</td>\n",
       "    </tr>\n",
       "  </tbody>\n",
       "</table>\n",
       "</div>"
      ],
      "text/plain": [
       "                                                   review sentiment\n",
       "count                                               50000     50000\n",
       "unique                                              49582         2\n",
       "top     Loved today's show!!! It was a variety and not...  positive\n",
       "freq                                                    5     25000"
      ]
     },
     "execution_count": 6,
     "metadata": {
      "tags": []
     },
     "output_type": "execute_result"
    }
   ],
   "source": [
    "#Summary of the dataset\n",
    "imdb_data.describe()"
   ]
  },
  {
   "cell_type": "code",
   "execution_count": null,
   "metadata": {
    "colab": {
     "base_uri": "https://localhost:8080/"
    },
    "executionInfo": {
     "elapsed": 1022,
     "status": "ok",
     "timestamp": 1605858683719,
     "user": {
      "displayName": "Wan Ting Wong",
      "photoUrl": "",
      "userId": "10706324018856459819"
     },
     "user_tz": -480
    },
    "id": "eu8HyFuWnsKT",
    "outputId": "0755f2b1-9aa7-4023-a467-7b631af13da9"
   },
   "outputs": [
    {
     "data": {
      "text/plain": [
       "positive    25000\n",
       "negative    25000\n",
       "Name: sentiment, dtype: int64"
      ]
     },
     "execution_count": 7,
     "metadata": {
      "tags": []
     },
     "output_type": "execute_result"
    }
   ],
   "source": [
    "#sentiment count\n",
    "imdb_data['sentiment'].value_counts()"
   ]
  },
  {
   "cell_type": "code",
   "execution_count": null,
   "metadata": {
    "id": "scVpgd0HnsKT"
   },
   "outputs": [],
   "source": [
    "#cleaning reviews\n",
    "def review_text(sen):\n",
    "    # Removing html tags\n",
    "    sentence = remove_tags(sen)\n",
    "\n",
    "    # Remove punctuations and numbers\n",
    "    sentence = re.sub('[^a-zA-Z]', ' ', sentence)\n",
    "\n",
    "    # Single character removal\n",
    "    sentence = re.sub(r\"\\s+[a-zA-Z]\\s+\", ' ', sentence)\n",
    "\n",
    "    # Removing multiple spaces\n",
    "    sentence = re.sub(r'\\s+', ' ', sentence)\n",
    "\n",
    "    return sentence"
   ]
  },
  {
   "cell_type": "code",
   "execution_count": null,
   "metadata": {
    "id": "qSu5KmoYnsKT"
   },
   "outputs": [],
   "source": [
    "TAG_RE = re.compile(r'<[^>]+>')\n",
    "\n",
    "def remove_tags(text):\n",
    "    return TAG_RE.sub('', text)"
   ]
  },
  {
   "cell_type": "code",
   "execution_count": null,
   "metadata": {
    "id": "kwE9_xmgnsKU"
   },
   "outputs": [],
   "source": [
    "X = []\n",
    "sentences = list(imdb_data['review'])\n",
    "for sen in sentences:\n",
    "    X.append(review_text(sen))"
   ]
  },
  {
   "cell_type": "code",
   "execution_count": null,
   "metadata": {
    "colab": {
     "base_uri": "https://localhost:8080/",
     "height": 239
    },
    "executionInfo": {
     "elapsed": 927,
     "status": "ok",
     "timestamp": 1605858704813,
     "user": {
      "displayName": "Wan Ting Wong",
      "photoUrl": "",
      "userId": "10706324018856459819"
     },
     "user_tz": -480
    },
    "id": "Gcvlz5hSnsKU",
    "outputId": "2f832e87-6d5c-49db-b51c-dc11dd2cf36b"
   },
   "outputs": [
    {
     "data": {
      "application/vnd.google.colaboratory.intrinsic+json": {
       "type": "string"
      },
      "text/plain": [
       "'A wonderful little production The filming technique is very unassuming very old time BBC fashion and gives comforting and sometimes discomforting sense of realism to the entire piece The actors are extremely well chosen Michael Sheen not only has got all the polari but he has all the voices down pat too You can truly see the seamless editing guided by the references to Williams diary entries not only is it well worth the watching but it is terrificly written and performed piece masterful production about one of the great master of comedy and his life The realism really comes home with the little things the fantasy of the guard which rather than use the traditional dream techniques remains solid then disappears It plays on our knowledge and our senses particularly with the scenes concerning Orton and Halliwell and the sets particularly of their flat with Halliwell murals decorating every surface are terribly well done '"
      ]
     },
     "execution_count": 11,
     "metadata": {
      "tags": []
     },
     "output_type": "execute_result"
    }
   ],
   "source": [
    "X[1]"
   ]
  },
  {
   "cell_type": "code",
   "execution_count": null,
   "metadata": {
    "id": "24Vrr0mgnsKU"
   },
   "outputs": [],
   "source": [
    "#converting positive to 1 and negative to 0\n",
    "Y = imdb_data['sentiment']\n",
    "\n",
    "Y = np.array(list(map(lambda x: 1 if x==\"positive\" else 0, Y)))"
   ]
  },
  {
   "cell_type": "code",
   "execution_count": null,
   "metadata": {
    "id": "hSEaxQM0nsKU"
   },
   "outputs": [],
   "source": [
    "seed=42\n",
    "np.random.seed(seed)"
   ]
  },
  {
   "cell_type": "code",
   "execution_count": null,
   "metadata": {
    "id": "UpYki29bnsKU"
   },
   "outputs": [],
   "source": [
    "#shuffle data\n",
    "idx = np.arange(len(X))\n",
    "np.random.shuffle(idx)\n",
    "X_temp, Y_train = np.array(X)[idx], Y[idx]\n",
    "X_train = []\n",
    "for sen in X_temp:\n",
    "    X_train.append(sen)"
   ]
  },
  {
   "cell_type": "code",
   "execution_count": null,
   "metadata": {
    "colab": {
     "base_uri": "https://localhost:8080/"
    },
    "executionInfo": {
     "elapsed": 1311,
     "status": "ok",
     "timestamp": 1605870593215,
     "user": {
      "displayName": "Wan Ting Wong",
      "photoUrl": "",
      "userId": "10706324018856459819"
     },
     "user_tz": -480
    },
    "id": "3YIg8ALjnsKU",
    "outputId": "79fcfd3e-b5a6-4506-e2e7-c3229a3fce17"
   },
   "outputs": [
    {
     "name": "stdout",
     "output_type": "stream",
     "text": [
      "35000\n",
      "15000\n"
     ]
    }
   ],
   "source": [
    "#splitting the data into 70:30 train:test\n",
    "X_train, X_test, Y_train, Y_test = train_test_split(X_train, Y_train, test_size=0.30, random_state=42)\n",
    "# X_train, X_test, Y_train, Y_test = train_test_split(X, Y, test_size=0.30, random_state=42)\n",
    "print(len(X_train))\n",
    "print(len(X_test))"
   ]
  },
  {
   "cell_type": "code",
   "execution_count": null,
   "metadata": {
    "id": "gAG7M_W1nsKU"
   },
   "outputs": [],
   "source": [
    "#Tokenization of text\n",
    "tokenizer = Tokenizer(num_words=5000)\n",
    "tokenizer.fit_on_texts(X_train)\n",
    "\n",
    "X_train = tokenizer.texts_to_sequences(X_train)\n",
    "X_test = tokenizer.texts_to_sequences(X_test)"
   ]
  },
  {
   "cell_type": "code",
   "execution_count": null,
   "metadata": {
    "id": "xy0SkXxxnsKU"
   },
   "outputs": [],
   "source": [
    "#X_train"
   ]
  },
  {
   "cell_type": "code",
   "execution_count": null,
   "metadata": {
    "id": "DsFiHkGpnsKU"
   },
   "outputs": [],
   "source": [
    "# Adding 1 because of reserved 0 index\n",
    "vocab_size = len(tokenizer.word_index) + 1\n",
    "\n",
    "#cutoff word length per review\n",
    "maxlen = 100\n",
    "\n",
    "X_train = pad_sequences(X_train, padding='post', maxlen=maxlen)\n",
    "X_test = pad_sequences(X_test, padding='post', maxlen=maxlen)"
   ]
  },
  {
   "cell_type": "code",
   "execution_count": null,
   "metadata": {
    "id": "dgdiQk52nsKV"
   },
   "outputs": [],
   "source": [
    "#X_test"
   ]
  },
  {
   "cell_type": "code",
   "execution_count": null,
   "metadata": {
    "colab": {
     "base_uri": "https://localhost:8080/"
    },
    "executionInfo": {
     "elapsed": 868,
     "status": "ok",
     "timestamp": 1605870613704,
     "user": {
      "displayName": "Wan Ting Wong",
      "photoUrl": "",
      "userId": "10706324018856459819"
     },
     "user_tz": -480
    },
    "id": "S2VMj0dInsKV",
    "outputId": "0cb8bdf0-4b3e-4981-f1b0-593796173960"
   },
   "outputs": [
    {
     "data": {
      "text/plain": [
       "87633"
      ]
     },
     "execution_count": 17,
     "metadata": {
      "tags": []
     },
     "output_type": "execute_result"
    }
   ],
   "source": [
    "vocab_size"
   ]
  },
  {
   "cell_type": "code",
   "execution_count": null,
   "metadata": {
    "id": "NZQFzvCMnsKV"
   },
   "outputs": [],
   "source": [
    "#dictionary\n",
    "embeddings_dictionary = dict()\n",
    "glove_file = open('glove.6B.100d.txt', encoding=\"utf8\")\n",
    "\n",
    "for line in glove_file:\n",
    "    records = line.split()\n",
    "    word = records[0]\n",
    "    vector_dimensions = asarray(records[1:], dtype='float32')\n",
    "    embeddings_dictionary [word] = vector_dimensions\n",
    "glove_file.close()"
   ]
  },
  {
   "cell_type": "code",
   "execution_count": null,
   "metadata": {
    "id": "PJ7C3dyYnsKV"
   },
   "outputs": [],
   "source": [
    "#embeddings_dictionary"
   ]
  },
  {
   "cell_type": "code",
   "execution_count": null,
   "metadata": {
    "id": "4RKI3jasnsKV"
   },
   "outputs": [],
   "source": [
    "embedding_matrix = zeros((vocab_size, 100))\n",
    "for word, index in tokenizer.word_index.items():\n",
    "    embedding_vector = embeddings_dictionary.get(word)\n",
    "    if embedding_vector is not None:\n",
    "        embedding_matrix[index] = embedding_vector"
   ]
  },
  {
   "cell_type": "code",
   "execution_count": null,
   "metadata": {
    "id": "4UXClAZDnsKV"
   },
   "outputs": [],
   "source": [
    "#embedding_matrix"
   ]
  },
  {
   "cell_type": "markdown",
   "metadata": {
    "id": "nn1leu6-nsKV"
   },
   "source": [
    "# Finding Optimal Batch Size "
   ]
  },
  {
   "cell_type": "code",
   "execution_count": null,
   "metadata": {
    "id": "0MShT7hHnsKV"
   },
   "outputs": [],
   "source": [
    "#define params for model\n",
    "NUM_CLASSES = 1 #positive or negative\n",
    "\n",
    "epochs = 100\n",
    "\n",
    "lr = 0.001 #learning rate\n",
    "beta = 1e-9 #weight decay param\n",
    "# batch_size = 128\n",
    "hidden_neurons = 10"
   ]
  },
  {
   "cell_type": "code",
   "execution_count": null,
   "metadata": {
    "id": "3-LPzGjunsKV"
   },
   "outputs": [],
   "source": [
    "#create model\n",
    "def create_model():\n",
    "    model = Sequential()\n",
    "    embedding_layer = Embedding(vocab_size, 100, weights = [embedding_matrix], \n",
    "                                input_length = maxlen, trainable = False)\n",
    "    model.add(embedding_layer)\n",
    "    #flatten embedded layers output to to 1 dimension\n",
    "    model.add(Flatten())\n",
    "    \n",
    "    #add dropout\n",
    "    model.add(Dropout(0.5))\n",
    "    #one hidden layer with 10 hidden neurons, relu activation, l2 regulariation\n",
    "    #output layer with 1 neuron, sigmoid activation, l2 regularisation\n",
    "    model.add(Dense(hidden_neurons, activation = 'relu', kernel_regularizer=l2(beta)))\n",
    "    model.add(Dense(NUM_CLASSES, activation = 'sigmoid', kernel_regularizer=l2(beta)))\n",
    "    \n",
    "    optimizer = keras.optimizers.Adam(learning_rate=lr)\n",
    "    \n",
    "    model.compile(optimizer = optimizer,\n",
    "                 loss = 'binary_crossentropy',\n",
    "                 metrics=['accuracy'])\n",
    "   \n",
    "    return model"
   ]
  },
  {
   "cell_type": "code",
   "execution_count": null,
   "metadata": {
    "colab": {
     "base_uri": "https://localhost:8080/"
    },
    "executionInfo": {
     "elapsed": 5775261,
     "status": "ok",
     "timestamp": 1605864797973,
     "user": {
      "displayName": "Wan Ting Wong",
      "photoUrl": "",
      "userId": "10706324018856459819"
     },
     "user_tz": -480
    },
    "id": "l9c0lKcD6jHW",
    "outputId": "4d79ef8c-230d-4e2f-d28c-849b2d2516b8"
   },
   "outputs": [
    {
     "name": "stderr",
     "output_type": "stream",
     "text": [
      "/usr/local/lib/python3.6/dist-packages/joblib/externals/loky/process_executor.py:691: UserWarning: A worker stopped while some jobs were given to the executor. This can be caused by a too short worker timeout or by a memory leak.\n",
      "  \"timeout or by a memory leak.\", UserWarning\n"
     ]
    },
    {
     "name": "stdout",
     "output_type": "stream",
     "text": [
      "Epoch 1/100\n",
      "547/547 - 1s - loss: 0.6365 - accuracy: 0.6288\n",
      "Epoch 2/100\n",
      "547/547 - 1s - loss: 0.5635 - accuracy: 0.7114\n",
      "Epoch 3/100\n",
      "547/547 - 1s - loss: 0.5475 - accuracy: 0.7188\n",
      "Epoch 4/100\n",
      "547/547 - 1s - loss: 0.5353 - accuracy: 0.7306\n",
      "Epoch 5/100\n",
      "547/547 - 1s - loss: 0.5294 - accuracy: 0.7352\n",
      "Epoch 6/100\n",
      "547/547 - 1s - loss: 0.5259 - accuracy: 0.7361\n",
      "Epoch 7/100\n",
      "547/547 - 1s - loss: 0.5174 - accuracy: 0.7411\n",
      "Epoch 8/100\n",
      "547/547 - 1s - loss: 0.5150 - accuracy: 0.7421\n",
      "Epoch 9/100\n",
      "547/547 - 1s - loss: 0.5089 - accuracy: 0.7447\n",
      "Epoch 10/100\n",
      "547/547 - 1s - loss: 0.5072 - accuracy: 0.7447\n",
      "Epoch 11/100\n",
      "547/547 - 1s - loss: 0.5021 - accuracy: 0.7469\n",
      "Epoch 12/100\n",
      "547/547 - 1s - loss: 0.5035 - accuracy: 0.7441\n",
      "Epoch 13/100\n",
      "547/547 - 1s - loss: 0.5025 - accuracy: 0.7462\n",
      "Epoch 14/100\n",
      "547/547 - 1s - loss: 0.4977 - accuracy: 0.7473\n",
      "Epoch 15/100\n",
      "547/547 - 1s - loss: 0.4977 - accuracy: 0.7471\n",
      "Epoch 16/100\n",
      "547/547 - 1s - loss: 0.4933 - accuracy: 0.7499\n",
      "Epoch 17/100\n",
      "547/547 - 1s - loss: 0.4960 - accuracy: 0.7469\n",
      "Epoch 18/100\n",
      "547/547 - 2s - loss: 0.4884 - accuracy: 0.7527\n",
      "Epoch 19/100\n",
      "547/547 - 1s - loss: 0.4892 - accuracy: 0.7552\n",
      "Epoch 20/100\n",
      "547/547 - 1s - loss: 0.4867 - accuracy: 0.7519\n",
      "Epoch 21/100\n",
      "547/547 - 1s - loss: 0.4853 - accuracy: 0.7527\n",
      "Epoch 22/100\n",
      "547/547 - 1s - loss: 0.4847 - accuracy: 0.7531\n",
      "Epoch 23/100\n",
      "547/547 - 1s - loss: 0.4867 - accuracy: 0.7545\n",
      "Epoch 24/100\n",
      "547/547 - 1s - loss: 0.4860 - accuracy: 0.7539\n",
      "Epoch 25/100\n",
      "547/547 - 1s - loss: 0.4859 - accuracy: 0.7527\n",
      "Epoch 26/100\n",
      "547/547 - 1s - loss: 0.4827 - accuracy: 0.7531\n",
      "Epoch 27/100\n",
      "547/547 - 1s - loss: 0.4822 - accuracy: 0.7546\n",
      "Epoch 28/100\n",
      "547/547 - 1s - loss: 0.4842 - accuracy: 0.7544\n",
      "Epoch 29/100\n",
      "547/547 - 1s - loss: 0.4787 - accuracy: 0.7570\n",
      "Epoch 30/100\n",
      "547/547 - 1s - loss: 0.4781 - accuracy: 0.7567\n",
      "Epoch 31/100\n",
      "547/547 - 1s - loss: 0.4750 - accuracy: 0.7610\n",
      "Epoch 32/100\n",
      "547/547 - 1s - loss: 0.4735 - accuracy: 0.7623\n",
      "Epoch 33/100\n",
      "547/547 - 2s - loss: 0.4778 - accuracy: 0.7587\n",
      "Epoch 34/100\n",
      "547/547 - 1s - loss: 0.4734 - accuracy: 0.7582\n",
      "Epoch 35/100\n",
      "547/547 - 1s - loss: 0.4773 - accuracy: 0.7581\n",
      "Epoch 36/100\n",
      "547/547 - 1s - loss: 0.4708 - accuracy: 0.7609\n",
      "Epoch 37/100\n",
      "547/547 - 1s - loss: 0.4723 - accuracy: 0.7620\n",
      "Epoch 38/100\n",
      "547/547 - 1s - loss: 0.4747 - accuracy: 0.7592\n",
      "Epoch 39/100\n",
      "547/547 - 1s - loss: 0.4754 - accuracy: 0.7561\n",
      "Epoch 40/100\n",
      "547/547 - 1s - loss: 0.4756 - accuracy: 0.7583\n",
      "Epoch 41/100\n",
      "547/547 - 1s - loss: 0.4743 - accuracy: 0.7569\n",
      "Epoch 42/100\n",
      "547/547 - 1s - loss: 0.4708 - accuracy: 0.7617\n",
      "Epoch 43/100\n",
      "547/547 - 1s - loss: 0.4718 - accuracy: 0.7610\n",
      "Epoch 44/100\n",
      "547/547 - 1s - loss: 0.4711 - accuracy: 0.7641\n",
      "Epoch 45/100\n",
      "547/547 - 1s - loss: 0.4682 - accuracy: 0.7651\n",
      "Epoch 46/100\n",
      "547/547 - 2s - loss: 0.4687 - accuracy: 0.7629\n",
      "Epoch 47/100\n",
      "547/547 - 1s - loss: 0.4699 - accuracy: 0.7593\n",
      "Epoch 48/100\n",
      "547/547 - 1s - loss: 0.4701 - accuracy: 0.7618\n",
      "Epoch 49/100\n",
      "547/547 - 1s - loss: 0.4715 - accuracy: 0.7583\n",
      "Epoch 50/100\n",
      "547/547 - 1s - loss: 0.4664 - accuracy: 0.7649\n",
      "Epoch 51/100\n",
      "547/547 - 1s - loss: 0.4669 - accuracy: 0.7621\n",
      "Epoch 52/100\n",
      "547/547 - 1s - loss: 0.4649 - accuracy: 0.7650\n",
      "Epoch 53/100\n",
      "547/547 - 1s - loss: 0.4665 - accuracy: 0.7643\n",
      "Epoch 54/100\n",
      "547/547 - 1s - loss: 0.4651 - accuracy: 0.7644\n",
      "Epoch 55/100\n",
      "547/547 - 1s - loss: 0.4645 - accuracy: 0.7651\n",
      "Epoch 56/100\n",
      "547/547 - 1s - loss: 0.4677 - accuracy: 0.7640\n",
      "Epoch 57/100\n",
      "547/547 - 1s - loss: 0.4636 - accuracy: 0.7658\n",
      "Epoch 58/100\n",
      "547/547 - 1s - loss: 0.4618 - accuracy: 0.7643\n",
      "Epoch 59/100\n",
      "547/547 - 1s - loss: 0.4645 - accuracy: 0.7659\n",
      "Epoch 60/100\n",
      "547/547 - 1s - loss: 0.4613 - accuracy: 0.7691\n",
      "Epoch 61/100\n",
      "547/547 - 1s - loss: 0.4604 - accuracy: 0.7670\n",
      "Epoch 62/100\n",
      "547/547 - 1s - loss: 0.4639 - accuracy: 0.7623\n",
      "Epoch 63/100\n",
      "547/547 - 1s - loss: 0.4634 - accuracy: 0.7640\n",
      "Epoch 64/100\n",
      "547/547 - 1s - loss: 0.4633 - accuracy: 0.7660\n",
      "Epoch 65/100\n",
      "547/547 - 1s - loss: 0.4630 - accuracy: 0.7670\n",
      "Epoch 66/100\n",
      "547/547 - 1s - loss: 0.4622 - accuracy: 0.7677\n",
      "Epoch 67/100\n",
      "547/547 - 1s - loss: 0.4575 - accuracy: 0.7703\n",
      "Epoch 68/100\n",
      "547/547 - 1s - loss: 0.4604 - accuracy: 0.7676\n",
      "Epoch 69/100\n",
      "547/547 - 1s - loss: 0.4585 - accuracy: 0.7708\n",
      "Epoch 70/100\n",
      "547/547 - 1s - loss: 0.4628 - accuracy: 0.7686\n",
      "Epoch 71/100\n",
      "547/547 - 1s - loss: 0.4597 - accuracy: 0.7664\n",
      "Epoch 72/100\n",
      "547/547 - 1s - loss: 0.4582 - accuracy: 0.7674\n",
      "Epoch 73/100\n",
      "547/547 - 1s - loss: 0.4579 - accuracy: 0.7725\n",
      "Epoch 74/100\n",
      "547/547 - 1s - loss: 0.4584 - accuracy: 0.7705\n",
      "Epoch 75/100\n",
      "547/547 - 1s - loss: 0.4585 - accuracy: 0.7699\n",
      "Epoch 76/100\n",
      "547/547 - 1s - loss: 0.4574 - accuracy: 0.7682\n",
      "Epoch 77/100\n",
      "547/547 - 1s - loss: 0.4582 - accuracy: 0.7709\n",
      "Epoch 78/100\n",
      "547/547 - 1s - loss: 0.4580 - accuracy: 0.7713\n",
      "Epoch 79/100\n",
      "547/547 - 1s - loss: 0.4545 - accuracy: 0.7729\n",
      "Epoch 80/100\n",
      "547/547 - 2s - loss: 0.4597 - accuracy: 0.7687\n",
      "Epoch 81/100\n",
      "547/547 - 2s - loss: 0.4571 - accuracy: 0.7708\n",
      "Epoch 82/100\n",
      "547/547 - 2s - loss: 0.4571 - accuracy: 0.7716\n",
      "Epoch 83/100\n",
      "547/547 - 1s - loss: 0.4559 - accuracy: 0.7722\n",
      "Epoch 84/100\n",
      "547/547 - 1s - loss: 0.4586 - accuracy: 0.7708\n",
      "Epoch 85/100\n",
      "547/547 - 1s - loss: 0.4561 - accuracy: 0.7716\n",
      "Epoch 86/100\n",
      "547/547 - 1s - loss: 0.4544 - accuracy: 0.7747\n",
      "Epoch 87/100\n",
      "547/547 - 1s - loss: 0.4552 - accuracy: 0.7701\n",
      "Epoch 88/100\n",
      "547/547 - 1s - loss: 0.4553 - accuracy: 0.7711\n",
      "Epoch 89/100\n",
      "547/547 - 1s - loss: 0.4543 - accuracy: 0.7734\n",
      "Epoch 90/100\n",
      "547/547 - 1s - loss: 0.4531 - accuracy: 0.7739\n",
      "Epoch 91/100\n",
      "547/547 - 1s - loss: 0.4569 - accuracy: 0.7715\n",
      "Epoch 92/100\n",
      "547/547 - 1s - loss: 0.4564 - accuracy: 0.7709\n",
      "Epoch 93/100\n",
      "547/547 - 1s - loss: 0.4550 - accuracy: 0.7725\n",
      "Epoch 94/100\n",
      "547/547 - 1s - loss: 0.4554 - accuracy: 0.7723\n",
      "Epoch 95/100\n",
      "547/547 - 1s - loss: 0.4556 - accuracy: 0.7723\n",
      "Epoch 96/100\n",
      "547/547 - 1s - loss: 0.4530 - accuracy: 0.7747\n",
      "Epoch 97/100\n",
      "547/547 - 1s - loss: 0.4547 - accuracy: 0.7729\n",
      "Epoch 98/100\n",
      "547/547 - 1s - loss: 0.4576 - accuracy: 0.7702\n",
      "Epoch 99/100\n",
      "547/547 - 1s - loss: 0.4551 - accuracy: 0.7727\n",
      "Epoch 100/100\n",
      "547/547 - 1s - loss: 0.4549 - accuracy: 0.7717\n",
      "Best Mean Test Accuracy: 0.732686 {'batch_size': 64}\n",
      "{'batch_size': 8} Accuracy: 0.725200(0.006541), Time: 1040.356548\n",
      "{'batch_size': 16} Accuracy: 0.724514(0.008702), Time: 525.551086\n",
      "{'batch_size': 32} Accuracy: 0.727943(0.002755), Time: 277.501847\n",
      "{'batch_size': 64} Accuracy: 0.732686(0.007601), Time: 197.184820\n",
      "{'batch_size': 128} Accuracy: 0.718314(0.017457), Time: 113.988128\n",
      "{'batch_size': 256} Accuracy: 0.727429(0.005335), Time: 71.825991\n"
     ]
    }
   ],
   "source": [
    "#wrap keras model\n",
    "model = KerasClassifier(build_fn=create_model, epochs=epochs, verbose=2)\n",
    "\n",
    "#define search space for batch sizes\n",
    "batch_size = [8, 16, 32, 64, 128, 256]\n",
    "\n",
    "#gridsearch for different batch sizes\n",
    "param_grid = dict(batch_size=batch_size)\n",
    "grid = GridSearchCV(estimator=model, param_grid=param_grid, n_jobs=-1, cv=5)\n",
    "grid_result = grid.fit(X_train, Y_train)\n",
    "\n",
    "#print results\n",
    "print('Best Mean Test Accuracy: %f %s'% (grid_result.best_score_, grid_result.best_params_))\n",
    "means = grid_result.cv_results_['mean_test_score']\n",
    "stds = grid_result.cv_results_['std_test_score']\n",
    "mean_time = grid_result.cv_results_['mean_fit_time']\n",
    "params = grid_result.cv_results_['params']\n",
    "for mean, stdev, time, param in zip(means, stds, mean_time, params):\n",
    "    print(\"%r Accuracy: %f(%f), Time: %f\" % (param, mean, stdev, time))"
   ]
  },
  {
   "cell_type": "code",
   "execution_count": null,
   "metadata": {
    "colab": {
     "base_uri": "https://localhost:8080/",
     "height": 295
    },
    "executionInfo": {
     "elapsed": 1091,
     "status": "ok",
     "timestamp": 1605868304000,
     "user": {
      "displayName": "Wan Ting Wong",
      "photoUrl": "",
      "userId": "10706324018856459819"
     },
     "user_tz": -480
    },
    "id": "FnksagzHMc1k",
    "outputId": "6ee60245-907d-4659-e784-bff2ad504367"
   },
   "outputs": [
    {
     "data": {
      "image/png": "[encoded data removed]",
      "text/plain": [
       "<Figure size 432x288 with 1 Axes>"
      ]
     },
     "metadata": {
      "needs_background": "light",
      "tags": []
     },
     "output_type": "display_data"
    }
   ],
   "source": [
    "import matplotlib.pyplot as plt\n",
    "\n",
    "#plot time to train for each batch size\n",
    "plt.figure(1)\n",
    "plt.title('Time to train 100 epochs for different batch sizes')\n",
    "plt.plot(range(len(batch_size)), mean_time)\n",
    "plt.xticks(range(len(batch_size)), batch_size)\n",
    "plt.xlabel('Batch Size')\n",
    "plt.ylabel('Time (s)')\n",
    "plt.show()"
   ]
  },
  {
   "cell_type": "markdown",
   "metadata": {
    "id": "9qhoYHbqN_Yt"
   },
   "source": [
    "# Train model with optimal batch size = 64"
   ]
  },
  {
   "cell_type": "code",
   "execution_count": null,
   "metadata": {
    "id": "zS41cZybN4VU"
   },
   "outputs": [],
   "source": [
    "#define params for model\n",
    "NUM_CLASSES = 1 #positive or negative\n",
    "\n",
    "epochs = 100\n",
    "\n",
    "lr = 0.001 #learning rate\n",
    "beta = 1e-9 #weight decay param\n",
    "batch_size = 64 #optimal\n",
    "hidden_neurons = 10"
   ]
  },
  {
   "cell_type": "code",
   "execution_count": null,
   "metadata": {
    "id": "4UyNzu5vURVb"
   },
   "outputs": [],
   "source": [
    "#create model\n",
    "def create_model():\n",
    "    model = Sequential()\n",
    "    embedding_layer = Embedding(vocab_size, 100, weights = [embedding_matrix], \n",
    "                                input_length = maxlen, trainable = False)\n",
    "    model.add(embedding_layer)\n",
    "    #flatten embedded layers output to to 1 dimension\n",
    "    model.add(Flatten())\n",
    "    \n",
    "    #add dropout\n",
    "    model.add(Dropout(0.5))\n",
    "    #one hidden layer with 10 hidden neurons, relu activation, l2 regulariation\n",
    "    #output layer with 1 neuron, sigmoid activation, l2 regularisation\n",
    "    model.add(Dense(hidden_neurons, activation = 'relu', kernel_regularizer=l2(beta)))\n",
    "    model.add(Dense(NUM_CLASSES, activation = 'sigmoid', kernel_regularizer=l2(beta)))\n",
    "    \n",
    "    optimizer = keras.optimizers.Adam(learning_rate=lr)\n",
    "    \n",
    "    model.compile(optimizer = optimizer,\n",
    "                 loss = 'binary_crossentropy',\n",
    "                 metrics=['accuracy'])\n",
    "   \n",
    "    return model"
   ]
  },
  {
   "cell_type": "code",
   "execution_count": null,
   "metadata": {
    "colab": {
     "base_uri": "https://localhost:8080/"
    },
    "executionInfo": {
     "elapsed": 634025,
     "status": "ok",
     "timestamp": 1605871343632,
     "user": {
      "displayName": "Wan Ting Wong",
      "photoUrl": "",
      "userId": "10706324018856459819"
     },
     "user_tz": -480
    },
    "id": "CdSSPI0QN5un",
    "outputId": "d44b851c-824d-404a-9fba-404fab13ccb8"
   },
   "outputs": [
    {
     "name": "stdout",
     "output_type": "stream",
     "text": [
      "Epoch 1/100\n",
      "547/547 - 6s - loss: 0.6937 - accuracy: 0.4990 - val_loss: 0.6932 - val_accuracy: 0.4976\n",
      "Epoch 2/100\n",
      "547/547 - 6s - loss: 0.6877 - accuracy: 0.5301 - val_loss: 0.6641 - val_accuracy: 0.5960\n",
      "Epoch 3/100\n",
      "547/547 - 6s - loss: 0.6339 - accuracy: 0.6530 - val_loss: 0.6108 - val_accuracy: 0.6852\n",
      "Epoch 4/100\n",
      "547/547 - 6s - loss: 0.5915 - accuracy: 0.6938 - val_loss: 0.5710 - val_accuracy: 0.7135\n",
      "Epoch 5/100\n",
      "547/547 - 6s - loss: 0.5631 - accuracy: 0.7159 - val_loss: 0.5484 - val_accuracy: 0.7329\n",
      "Epoch 6/100\n",
      "547/547 - 6s - loss: 0.5522 - accuracy: 0.7238 - val_loss: 0.5396 - val_accuracy: 0.7426\n",
      "Epoch 7/100\n",
      "547/547 - 6s - loss: 0.5397 - accuracy: 0.7335 - val_loss: 0.5326 - val_accuracy: 0.7441\n",
      "Epoch 8/100\n",
      "547/547 - 6s - loss: 0.5309 - accuracy: 0.7391 - val_loss: 0.5294 - val_accuracy: 0.7432\n",
      "Epoch 9/100\n",
      "547/547 - 6s - loss: 0.5249 - accuracy: 0.7416 - val_loss: 0.5285 - val_accuracy: 0.7407\n",
      "Epoch 10/100\n",
      "547/547 - 6s - loss: 0.5228 - accuracy: 0.7397 - val_loss: 0.5288 - val_accuracy: 0.7393\n",
      "Epoch 11/100\n",
      "547/547 - 6s - loss: 0.5208 - accuracy: 0.7428 - val_loss: 0.5232 - val_accuracy: 0.7430\n",
      "Epoch 12/100\n",
      "547/547 - 6s - loss: 0.5151 - accuracy: 0.7455 - val_loss: 0.5225 - val_accuracy: 0.7459\n",
      "Epoch 13/100\n",
      "547/547 - 6s - loss: 0.5156 - accuracy: 0.7456 - val_loss: 0.5244 - val_accuracy: 0.7422\n",
      "Epoch 14/100\n",
      "547/547 - 6s - loss: 0.5110 - accuracy: 0.7485 - val_loss: 0.5235 - val_accuracy: 0.7404\n",
      "Epoch 15/100\n",
      "547/547 - 6s - loss: 0.5140 - accuracy: 0.7490 - val_loss: 0.5226 - val_accuracy: 0.7420\n",
      "Epoch 16/100\n",
      "547/547 - 6s - loss: 0.5085 - accuracy: 0.7507 - val_loss: 0.5246 - val_accuracy: 0.7425\n",
      "Epoch 17/100\n",
      "547/547 - 6s - loss: 0.5075 - accuracy: 0.7492 - val_loss: 0.5252 - val_accuracy: 0.7403\n",
      "Epoch 18/100\n",
      "547/547 - 6s - loss: 0.5069 - accuracy: 0.7518 - val_loss: 0.5264 - val_accuracy: 0.7375\n",
      "Epoch 19/100\n",
      "547/547 - 7s - loss: 0.5049 - accuracy: 0.7524 - val_loss: 0.5208 - val_accuracy: 0.7433\n",
      "Epoch 20/100\n",
      "547/547 - 6s - loss: 0.5027 - accuracy: 0.7589 - val_loss: 0.5202 - val_accuracy: 0.7463\n",
      "Epoch 21/100\n",
      "547/547 - 6s - loss: 0.5033 - accuracy: 0.7541 - val_loss: 0.5225 - val_accuracy: 0.7431\n",
      "Epoch 22/100\n",
      "547/547 - 6s - loss: 0.4994 - accuracy: 0.7551 - val_loss: 0.5295 - val_accuracy: 0.7353\n",
      "Epoch 23/100\n",
      "547/547 - 6s - loss: 0.5010 - accuracy: 0.7564 - val_loss: 0.5205 - val_accuracy: 0.7465\n",
      "Epoch 24/100\n",
      "547/547 - 6s - loss: 0.5002 - accuracy: 0.7554 - val_loss: 0.5188 - val_accuracy: 0.7441\n",
      "Epoch 25/100\n",
      "547/547 - 7s - loss: 0.4971 - accuracy: 0.7567 - val_loss: 0.5210 - val_accuracy: 0.7454\n",
      "Epoch 26/100\n",
      "547/547 - 7s - loss: 0.4944 - accuracy: 0.7620 - val_loss: 0.5193 - val_accuracy: 0.7459\n",
      "Epoch 27/100\n",
      "547/547 - 7s - loss: 0.4951 - accuracy: 0.7590 - val_loss: 0.5186 - val_accuracy: 0.7447\n",
      "Epoch 28/100\n",
      "547/547 - 6s - loss: 0.4974 - accuracy: 0.7584 - val_loss: 0.5186 - val_accuracy: 0.7461\n",
      "Epoch 29/100\n",
      "547/547 - 6s - loss: 0.4971 - accuracy: 0.7598 - val_loss: 0.5227 - val_accuracy: 0.7424\n",
      "Epoch 30/100\n",
      "547/547 - 6s - loss: 0.4955 - accuracy: 0.7571 - val_loss: 0.5271 - val_accuracy: 0.7406\n",
      "Epoch 31/100\n",
      "547/547 - 6s - loss: 0.4919 - accuracy: 0.7631 - val_loss: 0.5190 - val_accuracy: 0.7433\n",
      "Epoch 32/100\n",
      "547/547 - 6s - loss: 0.4928 - accuracy: 0.7609 - val_loss: 0.5188 - val_accuracy: 0.7449\n",
      "Epoch 33/100\n",
      "547/547 - 6s - loss: 0.4915 - accuracy: 0.7611 - val_loss: 0.5298 - val_accuracy: 0.7419\n",
      "Epoch 34/100\n",
      "547/547 - 6s - loss: 0.4949 - accuracy: 0.7580 - val_loss: 0.5197 - val_accuracy: 0.7446\n",
      "Epoch 35/100\n",
      "547/547 - 6s - loss: 0.4877 - accuracy: 0.7635 - val_loss: 0.5193 - val_accuracy: 0.7443\n",
      "Epoch 36/100\n",
      "547/547 - 6s - loss: 0.4924 - accuracy: 0.7581 - val_loss: 0.5207 - val_accuracy: 0.7436\n",
      "Epoch 37/100\n",
      "547/547 - 6s - loss: 0.4900 - accuracy: 0.7625 - val_loss: 0.5219 - val_accuracy: 0.7430\n",
      "Epoch 38/100\n",
      "547/547 - 6s - loss: 0.4893 - accuracy: 0.7638 - val_loss: 0.5215 - val_accuracy: 0.7418\n",
      "Epoch 39/100\n",
      "547/547 - 6s - loss: 0.4872 - accuracy: 0.7626 - val_loss: 0.5203 - val_accuracy: 0.7431\n",
      "Epoch 40/100\n",
      "547/547 - 6s - loss: 0.4860 - accuracy: 0.7647 - val_loss: 0.5218 - val_accuracy: 0.7426\n",
      "Epoch 41/100\n",
      "547/547 - 6s - loss: 0.4860 - accuracy: 0.7643 - val_loss: 0.5203 - val_accuracy: 0.7446\n",
      "Epoch 42/100\n",
      "547/547 - 6s - loss: 0.4886 - accuracy: 0.7638 - val_loss: 0.5260 - val_accuracy: 0.7391\n",
      "Epoch 43/100\n",
      "547/547 - 6s - loss: 0.4859 - accuracy: 0.7661 - val_loss: 0.5216 - val_accuracy: 0.7434\n",
      "Epoch 44/100\n",
      "547/547 - 6s - loss: 0.4839 - accuracy: 0.7651 - val_loss: 0.5204 - val_accuracy: 0.7418\n",
      "Epoch 45/100\n",
      "547/547 - 7s - loss: 0.4828 - accuracy: 0.7687 - val_loss: 0.5217 - val_accuracy: 0.7408\n",
      "Epoch 46/100\n",
      "547/547 - 7s - loss: 0.4813 - accuracy: 0.7681 - val_loss: 0.5287 - val_accuracy: 0.7392\n",
      "Epoch 47/100\n",
      "547/547 - 6s - loss: 0.4845 - accuracy: 0.7653 - val_loss: 0.5213 - val_accuracy: 0.7440\n",
      "Epoch 48/100\n",
      "547/547 - 6s - loss: 0.4799 - accuracy: 0.7671 - val_loss: 0.5277 - val_accuracy: 0.7409\n",
      "Epoch 49/100\n",
      "547/547 - 6s - loss: 0.4847 - accuracy: 0.7659 - val_loss: 0.5238 - val_accuracy: 0.7415\n",
      "Epoch 50/100\n",
      "547/547 - 6s - loss: 0.4837 - accuracy: 0.7668 - val_loss: 0.5245 - val_accuracy: 0.7435\n",
      "Epoch 51/100\n",
      "547/547 - 6s - loss: 0.4808 - accuracy: 0.7665 - val_loss: 0.5287 - val_accuracy: 0.7395\n",
      "Epoch 52/100\n",
      "547/547 - 6s - loss: 0.4801 - accuracy: 0.7689 - val_loss: 0.5288 - val_accuracy: 0.7398\n",
      "Epoch 53/100\n",
      "547/547 - 6s - loss: 0.4822 - accuracy: 0.7665 - val_loss: 0.5251 - val_accuracy: 0.7435\n",
      "Epoch 54/100\n",
      "547/547 - 6s - loss: 0.4820 - accuracy: 0.7669 - val_loss: 0.5338 - val_accuracy: 0.7385\n",
      "Epoch 55/100\n",
      "547/547 - 6s - loss: 0.4822 - accuracy: 0.7632 - val_loss: 0.5254 - val_accuracy: 0.7426\n",
      "Epoch 56/100\n",
      "547/547 - 6s - loss: 0.4780 - accuracy: 0.7696 - val_loss: 0.5317 - val_accuracy: 0.7379\n",
      "Epoch 57/100\n",
      "547/547 - 6s - loss: 0.4797 - accuracy: 0.7663 - val_loss: 0.5318 - val_accuracy: 0.7352\n",
      "Epoch 58/100\n",
      "547/547 - 6s - loss: 0.4815 - accuracy: 0.7660 - val_loss: 0.5285 - val_accuracy: 0.7391\n",
      "Epoch 59/100\n",
      "547/547 - 6s - loss: 0.4803 - accuracy: 0.7676 - val_loss: 0.5318 - val_accuracy: 0.7399\n",
      "Epoch 60/100\n",
      "547/547 - 6s - loss: 0.4772 - accuracy: 0.7701 - val_loss: 0.5271 - val_accuracy: 0.7417\n",
      "Epoch 61/100\n",
      "547/547 - 6s - loss: 0.4781 - accuracy: 0.7674 - val_loss: 0.5271 - val_accuracy: 0.7413\n",
      "Epoch 62/100\n",
      "547/547 - 6s - loss: 0.4750 - accuracy: 0.7723 - val_loss: 0.5248 - val_accuracy: 0.7416\n",
      "Epoch 63/100\n",
      "547/547 - 6s - loss: 0.4771 - accuracy: 0.7696 - val_loss: 0.5269 - val_accuracy: 0.7419\n",
      "Epoch 64/100\n",
      "547/547 - 6s - loss: 0.4754 - accuracy: 0.7713 - val_loss: 0.5352 - val_accuracy: 0.7355\n",
      "Epoch 65/100\n",
      "547/547 - 6s - loss: 0.4752 - accuracy: 0.7689 - val_loss: 0.5270 - val_accuracy: 0.7387\n",
      "Epoch 66/100\n",
      "547/547 - 6s - loss: 0.4792 - accuracy: 0.7644 - val_loss: 0.5329 - val_accuracy: 0.7370\n",
      "Epoch 67/100\n",
      "547/547 - 6s - loss: 0.4739 - accuracy: 0.7713 - val_loss: 0.5296 - val_accuracy: 0.7391\n",
      "Epoch 68/100\n",
      "547/547 - 7s - loss: 0.4780 - accuracy: 0.7678 - val_loss: 0.5283 - val_accuracy: 0.7403\n",
      "Epoch 69/100\n",
      "547/547 - 6s - loss: 0.4760 - accuracy: 0.7697 - val_loss: 0.5271 - val_accuracy: 0.7405\n",
      "Epoch 70/100\n",
      "547/547 - 6s - loss: 0.4740 - accuracy: 0.7719 - val_loss: 0.5362 - val_accuracy: 0.7365\n",
      "Epoch 71/100\n",
      "547/547 - 6s - loss: 0.4751 - accuracy: 0.7724 - val_loss: 0.5277 - val_accuracy: 0.7412\n",
      "Epoch 72/100\n",
      "547/547 - 6s - loss: 0.4712 - accuracy: 0.7707 - val_loss: 0.5289 - val_accuracy: 0.7433\n",
      "Epoch 73/100\n",
      "547/547 - 6s - loss: 0.4722 - accuracy: 0.7699 - val_loss: 0.5289 - val_accuracy: 0.7419\n",
      "Epoch 74/100\n",
      "547/547 - 6s - loss: 0.4735 - accuracy: 0.7730 - val_loss: 0.5278 - val_accuracy: 0.7385\n",
      "Epoch 75/100\n",
      "547/547 - 6s - loss: 0.4741 - accuracy: 0.7713 - val_loss: 0.5341 - val_accuracy: 0.7333\n",
      "Epoch 76/100\n",
      "547/547 - 7s - loss: 0.4743 - accuracy: 0.7739 - val_loss: 0.5349 - val_accuracy: 0.7388\n",
      "Epoch 77/100\n",
      "547/547 - 6s - loss: 0.4735 - accuracy: 0.7699 - val_loss: 0.5341 - val_accuracy: 0.7379\n",
      "Epoch 78/100\n",
      "547/547 - 6s - loss: 0.4727 - accuracy: 0.7725 - val_loss: 0.5364 - val_accuracy: 0.7365\n",
      "Epoch 79/100\n",
      "547/547 - 6s - loss: 0.4729 - accuracy: 0.7727 - val_loss: 0.5319 - val_accuracy: 0.7411\n",
      "Epoch 80/100\n",
      "547/547 - 6s - loss: 0.4726 - accuracy: 0.7704 - val_loss: 0.5332 - val_accuracy: 0.7401\n",
      "Epoch 81/100\n",
      "547/547 - 6s - loss: 0.4732 - accuracy: 0.7731 - val_loss: 0.5291 - val_accuracy: 0.7390\n",
      "Epoch 82/100\n",
      "547/547 - 6s - loss: 0.4693 - accuracy: 0.7744 - val_loss: 0.5382 - val_accuracy: 0.7380\n",
      "Epoch 83/100\n",
      "547/547 - 6s - loss: 0.4719 - accuracy: 0.7707 - val_loss: 0.5353 - val_accuracy: 0.7397\n",
      "Epoch 84/100\n",
      "547/547 - 6s - loss: 0.4712 - accuracy: 0.7729 - val_loss: 0.5344 - val_accuracy: 0.7393\n",
      "Epoch 85/100\n",
      "547/547 - 6s - loss: 0.4686 - accuracy: 0.7741 - val_loss: 0.5324 - val_accuracy: 0.7397\n",
      "Epoch 86/100\n",
      "547/547 - 6s - loss: 0.4699 - accuracy: 0.7736 - val_loss: 0.5439 - val_accuracy: 0.7353\n",
      "Epoch 87/100\n",
      "547/547 - 6s - loss: 0.4697 - accuracy: 0.7725 - val_loss: 0.5377 - val_accuracy: 0.7399\n",
      "Epoch 88/100\n",
      "547/547 - 6s - loss: 0.4704 - accuracy: 0.7731 - val_loss: 0.5292 - val_accuracy: 0.7423\n",
      "Epoch 89/100\n",
      "547/547 - 6s - loss: 0.4727 - accuracy: 0.7717 - val_loss: 0.5338 - val_accuracy: 0.7393\n",
      "Epoch 90/100\n",
      "547/547 - 6s - loss: 0.4690 - accuracy: 0.7735 - val_loss: 0.5367 - val_accuracy: 0.7361\n",
      "Epoch 91/100\n",
      "547/547 - 6s - loss: 0.4691 - accuracy: 0.7745 - val_loss: 0.5297 - val_accuracy: 0.7418\n",
      "Epoch 92/100\n",
      "547/547 - 6s - loss: 0.4674 - accuracy: 0.7742 - val_loss: 0.5374 - val_accuracy: 0.7379\n",
      "Epoch 93/100\n",
      "547/547 - 6s - loss: 0.4699 - accuracy: 0.7730 - val_loss: 0.5322 - val_accuracy: 0.7391\n",
      "Epoch 94/100\n",
      "547/547 - 6s - loss: 0.4640 - accuracy: 0.7750 - val_loss: 0.5383 - val_accuracy: 0.7391\n",
      "Epoch 95/100\n",
      "547/547 - 6s - loss: 0.4691 - accuracy: 0.7729 - val_loss: 0.5354 - val_accuracy: 0.7381\n",
      "Epoch 96/100\n",
      "547/547 - 6s - loss: 0.4647 - accuracy: 0.7758 - val_loss: 0.5381 - val_accuracy: 0.7369\n",
      "Epoch 97/100\n",
      "547/547 - 6s - loss: 0.4680 - accuracy: 0.7764 - val_loss: 0.5322 - val_accuracy: 0.7409\n",
      "Epoch 98/100\n",
      "547/547 - 6s - loss: 0.4699 - accuracy: 0.7718 - val_loss: 0.5371 - val_accuracy: 0.7387\n",
      "Epoch 99/100\n",
      "547/547 - 6s - loss: 0.4679 - accuracy: 0.7764 - val_loss: 0.5351 - val_accuracy: 0.7381\n",
      "Epoch 100/100\n",
      "547/547 - 6s - loss: 0.4708 - accuracy: 0.7729 - val_loss: 0.5321 - val_accuracy: 0.7397\n"
     ]
    }
   ],
   "source": [
    "#train model\n",
    "model = create_model()\n",
    "history = model.fit(X_train, Y_train,\n",
    "                    epochs = epochs,\n",
    "                    verbose = 2,\n",
    "                    batch_size = batch_size,\n",
    "                    validation_data = (X_test, Y_test)\n",
    "                   )"
   ]
  },
  {
   "cell_type": "code",
   "execution_count": null,
   "metadata": {
    "colab": {
     "base_uri": "https://localhost:8080/",
     "height": 295
    },
    "executionInfo": {
     "elapsed": 1486,
     "status": "ok",
     "timestamp": 1605872042766,
     "user": {
      "displayName": "Wan Ting Wong",
      "photoUrl": "",
      "userId": "10706324018856459819"
     },
     "user_tz": -480
    },
    "id": "kd50CdJG6nkF",
    "outputId": "80280e7e-0313-4d22-c146-6b2c14e913f4"
   },
   "outputs": [
    {
     "data": {
      "image/png": "[encoded data removed]",
      "text/plain": [
       "<Figure size 432x288 with 1 Axes>"
      ]
     },
     "metadata": {
      "needs_background": "light",
      "tags": []
     },
     "output_type": "display_data"
    }
   ],
   "source": [
    "#Summarize history for accuracy\n",
    "import matplotlib.pyplot as plt\n",
    "plt.plot(history.history['accuracy'], label='Train Accuracy')\n",
    "plt.plot(history.history['val_accuracy'], label='Test Accuracy')\n",
    "plt.title('Train and Test Accuracies')\n",
    "plt.ylabel('Accuracy')\n",
    "plt.xlabel('Epoch')\n",
    "plt.legend(loc=\"lower right\")\n",
    "plt.show()"
   ]
  }
 ],
 "metadata": {
  "colab": {
   "collapsed_sections": [],
   "name": "Simple NN - batch size.ipynb",
   "provenance": [
    {
     "file_id": "18vQ4secSITqXWpvd0ZsFTLo9730IHhYY",
     "timestamp": 1605840997417
    }
   ]
  },
  "kernelspec": {
   "display_name": "Python 3",
   "language": "python",
   "name": "python3"
  },
  "language_info": {
   "codemirror_mode": {
    "name": "ipython",
    "version": 3
   },
   "file_extension": ".py",
   "mimetype": "text/x-python",
   "name": "python",
   "nbconvert_exporter": "python",
   "pygments_lexer": "ipython3",
   "version": "3.6.9"
  }
 },
 "nbformat": 4,
 "nbformat_minor": 1
}
