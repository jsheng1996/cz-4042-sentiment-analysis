{
 "cells": [
  {
   "cell_type": "markdown",
   "metadata": {
    "id": "D3PJfRkjnsKP"
   },
   "source": [
    "# Data Preprocessing"
   ]
  },
  {
   "cell_type": "code",
   "execution_count": null,
   "metadata": {
    "colab": {
     "base_uri": "https://localhost:8080/"
    },
    "executionInfo": {
     "elapsed": 31754,
     "status": "ok",
     "timestamp": 1605885331197,
     "user": {
      "displayName": "Ardous Task",
      "photoUrl": "",
      "userId": "05748072987174857900"
     },
     "user_tz": -480
    },
    "id": "y2-CwYuzn_dX",
    "outputId": "ec669acc-9520-4fc2-e3ef-76606ba88a27"
   },
   "outputs": [
    {
     "name": "stdout",
     "output_type": "stream",
     "text": [
      "Mounted at /content/gdrive\n"
     ]
    }
   ],
   "source": [
    "from google.colab import drive\n",
    "drive.mount('/content/gdrive')"
   ]
  },
  {
   "cell_type": "code",
   "execution_count": null,
   "metadata": {
    "colab": {
     "base_uri": "https://localhost:8080/"
    },
    "executionInfo": {
     "elapsed": 2563,
     "status": "ok",
     "timestamp": 1605885335502,
     "user": {
      "displayName": "Ardous Task",
      "photoUrl": "",
      "userId": "05748072987174857900"
     },
     "user_tz": -480
    },
    "id": "0co-0OJtoOrB",
    "outputId": "7ad37f8f-62f9-4d98-ed8d-c32c6afbeb1e"
   },
   "outputs": [
    {
     "name": "stdout",
     "output_type": "stream",
     "text": [
      "'/content/gdrive/My Drive/Colab Notebooks/Project/IMDB Dataset.csv'\n"
     ]
    }
   ],
   "source": [
    "ls /content/gdrive/My\\ Drive/Colab\\ Notebooks/Project/IMDB\\ Dataset.csv"
   ]
  },
  {
   "cell_type": "code",
   "execution_count": null,
   "metadata": {
    "id": "MPngYgnQnsKQ"
   },
   "outputs": [],
   "source": [
    "#Importing packages for necessary purposes\n",
    "\n",
    "import numpy as np\n",
    "import keras \n",
    "import pandas as pd\n",
    "import tensorflow as tf\n",
    "import re\n",
    "import nltk\n",
    "\n",
    "from numpy import array\n",
    "from numpy import asarray\n",
    "from numpy import zeros\n",
    "from keras.preprocessing.text import one_hot\n",
    "from keras.preprocessing.sequence import pad_sequences\n",
    "from keras.models import Sequential\n",
    "from keras.layers.core import Activation, Dropout, Dense\n",
    "from keras.layers import Flatten\n",
    "from keras.layers import GlobalMaxPooling1D\n",
    "from keras.layers.embeddings import Embedding\n",
    "from sklearn.model_selection import train_test_split\n",
    "from keras.preprocessing.text import Tokenizer\n",
    "from nltk.corpus import stopwords\n",
    "from keras.regularizers import l2\n",
    "\n",
    "from sklearn.model_selection import GridSearchCV\n",
    "from keras.wrappers.scikit_learn import KerasClassifier\n"
   ]
  },
  {
   "cell_type": "code",
   "execution_count": null,
   "metadata": {
    "colab": {
     "base_uri": "https://localhost:8080/",
     "height": 376
    },
    "executionInfo": {
     "elapsed": 5439,
     "status": "ok",
     "timestamp": 1605885347749,
     "user": {
      "displayName": "Ardous Task",
      "photoUrl": "",
      "userId": "05748072987174857900"
     },
     "user_tz": -480
    },
    "id": "meFn1A3ansKQ",
    "outputId": "48eaf6d4-7fed-4fb7-f5ee-8d897aeb584d"
   },
   "outputs": [
    {
     "name": "stdout",
     "output_type": "stream",
     "text": [
      "(50000, 2)\n"
     ]
    },
    {
     "data": {
      "text/html": [
       "<div>\n",
       "<style scoped>\n",
       "    .dataframe tbody tr th:only-of-type {\n",
       "        vertical-align: middle;\n",
       "    }\n",
       "\n",
       "    .dataframe tbody tr th {\n",
       "        vertical-align: top;\n",
       "    }\n",
       "\n",
       "    .dataframe thead th {\n",
       "        text-align: right;\n",
       "    }\n",
       "</style>\n",
       "<table border=\"1\" class=\"dataframe\">\n",
       "  <thead>\n",
       "    <tr style=\"text-align: right;\">\n",
       "      <th></th>\n",
       "      <th>review</th>\n",
       "      <th>sentiment</th>\n",
       "    </tr>\n",
       "  </thead>\n",
       "  <tbody>\n",
       "    <tr>\n",
       "      <th>0</th>\n",
       "      <td>One of the other reviewers has mentioned that ...</td>\n",
       "      <td>positive</td>\n",
       "    </tr>\n",
       "    <tr>\n",
       "      <th>1</th>\n",
       "      <td>A wonderful little production. &lt;br /&gt;&lt;br /&gt;The...</td>\n",
       "      <td>positive</td>\n",
       "    </tr>\n",
       "    <tr>\n",
       "      <th>2</th>\n",
       "      <td>I thought this was a wonderful way to spend ti...</td>\n",
       "      <td>positive</td>\n",
       "    </tr>\n",
       "    <tr>\n",
       "      <th>3</th>\n",
       "      <td>Basically there's a family where a little boy ...</td>\n",
       "      <td>negative</td>\n",
       "    </tr>\n",
       "    <tr>\n",
       "      <th>4</th>\n",
       "      <td>Petter Mattei's \"Love in the Time of Money\" is...</td>\n",
       "      <td>positive</td>\n",
       "    </tr>\n",
       "    <tr>\n",
       "      <th>5</th>\n",
       "      <td>Probably my all-time favorite movie, a story o...</td>\n",
       "      <td>positive</td>\n",
       "    </tr>\n",
       "    <tr>\n",
       "      <th>6</th>\n",
       "      <td>I sure would like to see a resurrection of a u...</td>\n",
       "      <td>positive</td>\n",
       "    </tr>\n",
       "    <tr>\n",
       "      <th>7</th>\n",
       "      <td>This show was an amazing, fresh &amp; innovative i...</td>\n",
       "      <td>negative</td>\n",
       "    </tr>\n",
       "    <tr>\n",
       "      <th>8</th>\n",
       "      <td>Encouraged by the positive comments about this...</td>\n",
       "      <td>negative</td>\n",
       "    </tr>\n",
       "    <tr>\n",
       "      <th>9</th>\n",
       "      <td>If you like original gut wrenching laughter yo...</td>\n",
       "      <td>positive</td>\n",
       "    </tr>\n",
       "  </tbody>\n",
       "</table>\n",
       "</div>"
      ],
      "text/plain": [
       "                                              review sentiment\n",
       "0  One of the other reviewers has mentioned that ...  positive\n",
       "1  A wonderful little production. <br /><br />The...  positive\n",
       "2  I thought this was a wonderful way to spend ti...  positive\n",
       "3  Basically there's a family where a little boy ...  negative\n",
       "4  Petter Mattei's \"Love in the Time of Money\" is...  positive\n",
       "5  Probably my all-time favorite movie, a story o...  positive\n",
       "6  I sure would like to see a resurrection of a u...  positive\n",
       "7  This show was an amazing, fresh & innovative i...  negative\n",
       "8  Encouraged by the positive comments about this...  negative\n",
       "9  If you like original gut wrenching laughter yo...  positive"
      ]
     },
     "execution_count": 5,
     "metadata": {
      "tags": []
     },
     "output_type": "execute_result"
    }
   ],
   "source": [
    "#Importing data\n",
    "imdb_data = pd.read_csv('IMDB Dataset.csv')\n",
    "imdb_data.isnull().values.any()\n",
    "print (imdb_data.shape)\n",
    "imdb_data.head(10)"
   ]
  },
  {
   "cell_type": "code",
   "execution_count": null,
   "metadata": {
    "id": "scVpgd0HnsKT"
   },
   "outputs": [],
   "source": [
    "#cleaning reviews\n",
    "def review_text(sen):\n",
    "    # Removing html tags\n",
    "    sentence = remove_tags(sen)\n",
    "\n",
    "    # Remove punctuations and numbers\n",
    "    sentence = re.sub('[^a-zA-Z]', ' ', sentence)\n",
    "\n",
    "    # Single character removal\n",
    "    sentence = re.sub(r\"\\s+[a-zA-Z]\\s+\", ' ', sentence)\n",
    "\n",
    "    # Removing multiple spaces\n",
    "    sentence = re.sub(r'\\s+', ' ', sentence)\n",
    "\n",
    "    return sentence"
   ]
  },
  {
   "cell_type": "code",
   "execution_count": null,
   "metadata": {
    "id": "qSu5KmoYnsKT"
   },
   "outputs": [],
   "source": [
    "TAG_RE = re.compile(r'<[^>]+>')\n",
    "\n",
    "def remove_tags(text):\n",
    "    return TAG_RE.sub('', text)"
   ]
  },
  {
   "cell_type": "code",
   "execution_count": null,
   "metadata": {
    "id": "kwE9_xmgnsKU"
   },
   "outputs": [],
   "source": [
    "X = []\n",
    "sentences = list(imdb_data['review'])\n",
    "for sen in sentences:\n",
    "    X.append(review_text(sen))"
   ]
  },
  {
   "cell_type": "code",
   "execution_count": null,
   "metadata": {
    "id": "24Vrr0mgnsKU"
   },
   "outputs": [],
   "source": [
    "#converting positive to 1 and negative to 0\n",
    "Y = imdb_data['sentiment']\n",
    "\n",
    "Y = np.array(list(map(lambda x: 1 if x==\"positive\" else 0, Y)))"
   ]
  },
  {
   "cell_type": "code",
   "execution_count": null,
   "metadata": {
    "id": "hSEaxQM0nsKU"
   },
   "outputs": [],
   "source": [
    "seed=42\n",
    "np.random.seed(seed)"
   ]
  },
  {
   "cell_type": "code",
   "execution_count": null,
   "metadata": {
    "id": "UpYki29bnsKU"
   },
   "outputs": [],
   "source": [
    "#shuffle data\n",
    "idx = np.arange(len(X))\n",
    "np.random.shuffle(idx)\n",
    "X_temp, Y_train = np.array(X)[idx], Y[idx]\n",
    "X_train = []\n",
    "for sen in X_temp:\n",
    "    X_train.append(sen)"
   ]
  },
  {
   "cell_type": "code",
   "execution_count": null,
   "metadata": {
    "colab": {
     "base_uri": "https://localhost:8080/"
    },
    "executionInfo": {
     "elapsed": 991,
     "status": "ok",
     "timestamp": 1605885381844,
     "user": {
      "displayName": "Ardous Task",
      "photoUrl": "",
      "userId": "05748072987174857900"
     },
     "user_tz": -480
    },
    "id": "3YIg8ALjnsKU",
    "outputId": "a36a8b84-1f55-4813-ff6e-29663d345573"
   },
   "outputs": [
    {
     "name": "stdout",
     "output_type": "stream",
     "text": [
      "35000\n",
      "15000\n"
     ]
    }
   ],
   "source": [
    "#splitting the data into 70:30 train:test\n",
    "X_train, X_test, Y_train, Y_test = train_test_split(X_train, Y_train, test_size=0.30, random_state=42)\n",
    "# X_train, X_test, Y_train, Y_test = train_test_split(X, Y, test_size=0.30, random_state=42)\n",
    "print(len(X_train))\n",
    "print(len(X_test))"
   ]
  },
  {
   "cell_type": "code",
   "execution_count": null,
   "metadata": {
    "id": "gAG7M_W1nsKU"
   },
   "outputs": [],
   "source": [
    "#Tokenization of text\n",
    "tokenizer = Tokenizer(num_words=5000)\n",
    "tokenizer.fit_on_texts(X_train)\n",
    "\n",
    "X_train = tokenizer.texts_to_sequences(X_train)\n",
    "X_test = tokenizer.texts_to_sequences(X_test)"
   ]
  },
  {
   "cell_type": "code",
   "execution_count": null,
   "metadata": {
    "id": "DsFiHkGpnsKU"
   },
   "outputs": [],
   "source": [
    "# Adding 1 because of reserved 0 index\n",
    "vocab_size = len(tokenizer.word_index) + 1\n",
    "\n",
    "#cutoff word length per review\n",
    "maxlen = 100\n",
    "\n",
    "X_train = pad_sequences(X_train, padding='post', maxlen=maxlen)\n",
    "X_test = pad_sequences(X_test, padding='post', maxlen=maxlen)"
   ]
  },
  {
   "cell_type": "code",
   "execution_count": null,
   "metadata": {
    "colab": {
     "base_uri": "https://localhost:8080/"
    },
    "executionInfo": {
     "elapsed": 1743,
     "status": "ok",
     "timestamp": 1605885399812,
     "user": {
      "displayName": "Ardous Task",
      "photoUrl": "",
      "userId": "05748072987174857900"
     },
     "user_tz": -480
    },
    "id": "S2VMj0dInsKV",
    "outputId": "f4834013-789b-4849-ad06-70a4e0b8fa2d"
   },
   "outputs": [
    {
     "data": {
      "text/plain": [
       "87633"
      ]
     },
     "execution_count": 15,
     "metadata": {
      "tags": []
     },
     "output_type": "execute_result"
    }
   ],
   "source": [
    "vocab_size"
   ]
  },
  {
   "cell_type": "code",
   "execution_count": null,
   "metadata": {
    "id": "NZQFzvCMnsKV"
   },
   "outputs": [],
   "source": [
    "#dictionary\n",
    "embeddings_dictionary = dict()\n",
    "glove_file = open('glove.6B.100d.txt', encoding=\"utf8\")\n",
    "\n",
    "for line in glove_file:\n",
    "    records = line.split()\n",
    "    word = records[0]\n",
    "    vector_dimensions = asarray(records[1:], dtype='float32')\n",
    "    embeddings_dictionary [word] = vector_dimensions\n",
    "glove_file.close()"
   ]
  },
  {
   "cell_type": "code",
   "execution_count": null,
   "metadata": {
    "id": "4RKI3jasnsKV"
   },
   "outputs": [],
   "source": [
    "embedding_matrix = zeros((vocab_size, 100))\n",
    "for word, index in tokenizer.word_index.items():\n",
    "    embedding_vector = embeddings_dictionary.get(word)\n",
    "    if embedding_vector is not None:\n",
    "        embedding_matrix[index] = embedding_vector"
   ]
  },
  {
   "cell_type": "markdown",
   "metadata": {
    "id": "nn1leu6-nsKV"
   },
   "source": [
    "# Finding Optimal No. of Hidden Neurons"
   ]
  },
  {
   "cell_type": "code",
   "execution_count": null,
   "metadata": {
    "id": "0MShT7hHnsKV"
   },
   "outputs": [],
   "source": [
    "#define params for model\n",
    "NUM_CLASSES = 1 #positive or negative\n",
    "\n",
    "epochs = 100\n",
    "\n",
    "lr = 0.001 #learning rate\n",
    "beta = 1e-9 #weight decay param\n",
    "batch_size = 64\n",
    "# hidden_neurons = 10"
   ]
  },
  {
   "cell_type": "code",
   "execution_count": null,
   "metadata": {
    "id": "3-LPzGjunsKV"
   },
   "outputs": [],
   "source": [
    "#create model and pass in hidden_neurons as argument\n",
    "def create_model(hidden_neurons=10):\n",
    "    model = Sequential()\n",
    "    embedding_layer = Embedding(vocab_size, 100, weights = [embedding_matrix], \n",
    "                                input_length = maxlen, trainable = False)\n",
    "    model.add(embedding_layer)\n",
    "    #flatten embedded layers output to to 1 dimension\n",
    "    model.add(Flatten())\n",
    "    \n",
    "    #add dropout\n",
    "    model.add(Dropout(0.5))\n",
    "    #one hidden layer with 10 hidden neurons, relu activation, l2 regulariation\n",
    "    #output layer with 1 neuron, sigmoid activation, l2 regularisation\n",
    "    model.add(Dense(hidden_neurons, activation = 'relu', kernel_regularizer=l2(beta)))\n",
    "    model.add(Dense(NUM_CLASSES, activation = 'sigmoid', kernel_regularizer=l2(beta)))\n",
    "    \n",
    "    optimizer = keras.optimizers.Adam(learning_rate=lr)\n",
    "    \n",
    "    model.compile(optimizer = optimizer,\n",
    "                 loss = 'binary_crossentropy',\n",
    "                 metrics=['accuracy'])\n",
    "   \n",
    "    return model"
   ]
  },
  {
   "cell_type": "code",
   "execution_count": null,
   "metadata": {
    "colab": {
     "base_uri": "https://localhost:8080/"
    },
    "executionInfo": {
     "elapsed": 3177776,
     "status": "ok",
     "timestamp": 1605888606447,
     "user": {
      "displayName": "Ardous Task",
      "photoUrl": "",
      "userId": "05748072987174857900"
     },
     "user_tz": -480
    },
    "id": "l9c0lKcD6jHW",
    "outputId": "747cf97d-b037-4a59-b3a3-ea18f48c14b6"
   },
   "outputs": [
    {
     "name": "stdout",
     "output_type": "stream",
     "text": [
      "Fitting 5 folds for each of 6 candidates, totalling 30 fits\n"
     ]
    },
    {
     "name": "stderr",
     "output_type": "stream",
     "text": [
      "[Parallel(n_jobs=-1)]: Using backend LokyBackend with 2 concurrent workers.\n",
      "/usr/local/lib/python3.6/dist-packages/joblib/externals/loky/process_executor.py:691: UserWarning: A worker stopped while some jobs were given to the executor. This can be caused by a too short worker timeout or by a memory leak.\n",
      "  \"timeout or by a memory leak.\", UserWarning\n",
      "[Parallel(n_jobs=-1)]: Done  30 out of  30 | elapsed: 50.3min finished\n"
     ]
    },
    {
     "name": "stdout",
     "output_type": "stream",
     "text": [
      "Epoch 1/100\n",
      "547/547 - 1s - loss: 0.6841 - accuracy: 0.5483\n",
      "Epoch 2/100\n",
      "547/547 - 1s - loss: 0.6230 - accuracy: 0.6693\n",
      "Epoch 3/100\n",
      "547/547 - 1s - loss: 0.5760 - accuracy: 0.7034\n",
      "Epoch 4/100\n",
      "547/547 - 1s - loss: 0.5462 - accuracy: 0.7225\n",
      "Epoch 5/100\n",
      "547/547 - 1s - loss: 0.5381 - accuracy: 0.7276\n",
      "Epoch 6/100\n",
      "547/547 - 2s - loss: 0.5316 - accuracy: 0.7359\n",
      "Epoch 7/100\n",
      "547/547 - 2s - loss: 0.5277 - accuracy: 0.7398\n",
      "Epoch 8/100\n",
      "547/547 - 2s - loss: 0.5236 - accuracy: 0.7401\n",
      "Epoch 9/100\n",
      "547/547 - 2s - loss: 0.5203 - accuracy: 0.7396\n",
      "Epoch 10/100\n",
      "547/547 - 2s - loss: 0.5189 - accuracy: 0.7429\n",
      "Epoch 11/100\n",
      "547/547 - 2s - loss: 0.5159 - accuracy: 0.7470\n",
      "Epoch 12/100\n",
      "547/547 - 2s - loss: 0.5134 - accuracy: 0.7443\n",
      "Epoch 13/100\n",
      "547/547 - 2s - loss: 0.5113 - accuracy: 0.7460\n",
      "Epoch 14/100\n",
      "547/547 - 1s - loss: 0.5087 - accuracy: 0.7489\n",
      "Epoch 15/100\n",
      "547/547 - 1s - loss: 0.5083 - accuracy: 0.7479\n",
      "Epoch 16/100\n",
      "547/547 - 1s - loss: 0.5074 - accuracy: 0.7502\n",
      "Epoch 17/100\n",
      "547/547 - 2s - loss: 0.5052 - accuracy: 0.7548\n",
      "Epoch 18/100\n",
      "547/547 - 2s - loss: 0.5022 - accuracy: 0.7526\n",
      "Epoch 19/100\n",
      "547/547 - 1s - loss: 0.5045 - accuracy: 0.7520\n",
      "Epoch 20/100\n",
      "547/547 - 2s - loss: 0.5005 - accuracy: 0.7521\n",
      "Epoch 21/100\n",
      "547/547 - 2s - loss: 0.5022 - accuracy: 0.7505\n",
      "Epoch 22/100\n",
      "547/547 - 2s - loss: 0.4983 - accuracy: 0.7557\n",
      "Epoch 23/100\n",
      "547/547 - 2s - loss: 0.4933 - accuracy: 0.7547\n",
      "Epoch 24/100\n",
      "547/547 - 2s - loss: 0.4886 - accuracy: 0.7598\n",
      "Epoch 25/100\n",
      "547/547 - 2s - loss: 0.4912 - accuracy: 0.7549\n",
      "Epoch 26/100\n",
      "547/547 - 2s - loss: 0.4906 - accuracy: 0.7580\n",
      "Epoch 27/100\n",
      "547/547 - 2s - loss: 0.4879 - accuracy: 0.7559\n",
      "Epoch 28/100\n",
      "547/547 - 2s - loss: 0.4812 - accuracy: 0.7648\n",
      "Epoch 29/100\n",
      "547/547 - 2s - loss: 0.4841 - accuracy: 0.7577\n",
      "Epoch 30/100\n",
      "547/547 - 2s - loss: 0.4840 - accuracy: 0.7594\n",
      "Epoch 31/100\n",
      "547/547 - 2s - loss: 0.4798 - accuracy: 0.7629\n",
      "Epoch 32/100\n",
      "547/547 - 2s - loss: 0.4775 - accuracy: 0.7637\n",
      "Epoch 33/100\n",
      "547/547 - 2s - loss: 0.4773 - accuracy: 0.7631\n",
      "Epoch 34/100\n",
      "547/547 - 2s - loss: 0.4759 - accuracy: 0.7665\n",
      "Epoch 35/100\n",
      "547/547 - 2s - loss: 0.4796 - accuracy: 0.7587\n",
      "Epoch 36/100\n",
      "547/547 - 2s - loss: 0.4792 - accuracy: 0.7618\n",
      "Epoch 37/100\n",
      "547/547 - 1s - loss: 0.4786 - accuracy: 0.7613\n",
      "Epoch 38/100\n",
      "547/547 - 1s - loss: 0.4745 - accuracy: 0.7628\n",
      "Epoch 39/100\n",
      "547/547 - 2s - loss: 0.4746 - accuracy: 0.7665\n",
      "Epoch 40/100\n",
      "547/547 - 2s - loss: 0.4731 - accuracy: 0.7641\n",
      "Epoch 41/100\n",
      "547/547 - 2s - loss: 0.4744 - accuracy: 0.7625\n",
      "Epoch 42/100\n",
      "547/547 - 1s - loss: 0.4713 - accuracy: 0.7694\n",
      "Epoch 43/100\n",
      "547/547 - 2s - loss: 0.4739 - accuracy: 0.7642\n",
      "Epoch 44/100\n",
      "547/547 - 2s - loss: 0.4711 - accuracy: 0.7658\n",
      "Epoch 45/100\n",
      "547/547 - 2s - loss: 0.4723 - accuracy: 0.7645\n",
      "Epoch 46/100\n",
      "547/547 - 2s - loss: 0.4657 - accuracy: 0.7689\n",
      "Epoch 47/100\n",
      "547/547 - 1s - loss: 0.4688 - accuracy: 0.7658\n",
      "Epoch 48/100\n",
      "547/547 - 2s - loss: 0.4648 - accuracy: 0.7687\n",
      "Epoch 49/100\n",
      "547/547 - 2s - loss: 0.4640 - accuracy: 0.7693\n",
      "Epoch 50/100\n",
      "547/547 - 1s - loss: 0.4661 - accuracy: 0.7693\n",
      "Epoch 51/100\n",
      "547/547 - 2s - loss: 0.4695 - accuracy: 0.7676\n",
      "Epoch 52/100\n",
      "547/547 - 2s - loss: 0.4655 - accuracy: 0.7709\n",
      "Epoch 53/100\n",
      "547/547 - 2s - loss: 0.4650 - accuracy: 0.7694\n",
      "Epoch 54/100\n",
      "547/547 - 2s - loss: 0.4612 - accuracy: 0.7694\n",
      "Epoch 55/100\n",
      "547/547 - 1s - loss: 0.4625 - accuracy: 0.7705\n",
      "Epoch 56/100\n",
      "547/547 - 2s - loss: 0.4626 - accuracy: 0.7713\n",
      "Epoch 57/100\n",
      "547/547 - 1s - loss: 0.4643 - accuracy: 0.7709\n",
      "Epoch 58/100\n",
      "547/547 - 1s - loss: 0.4620 - accuracy: 0.7707\n",
      "Epoch 59/100\n",
      "547/547 - 2s - loss: 0.4649 - accuracy: 0.7710\n",
      "Epoch 60/100\n",
      "547/547 - 2s - loss: 0.4608 - accuracy: 0.7709\n",
      "Epoch 61/100\n",
      "547/547 - 2s - loss: 0.4578 - accuracy: 0.7719\n",
      "Epoch 62/100\n",
      "547/547 - 2s - loss: 0.4604 - accuracy: 0.7703\n",
      "Epoch 63/100\n",
      "547/547 - 2s - loss: 0.4608 - accuracy: 0.7705\n",
      "Epoch 64/100\n",
      "547/547 - 1s - loss: 0.4640 - accuracy: 0.7688\n",
      "Epoch 65/100\n",
      "547/547 - 1s - loss: 0.4579 - accuracy: 0.7719\n",
      "Epoch 66/100\n",
      "547/547 - 1s - loss: 0.4589 - accuracy: 0.7721\n",
      "Epoch 67/100\n",
      "547/547 - 1s - loss: 0.4568 - accuracy: 0.7731\n",
      "Epoch 68/100\n",
      "547/547 - 2s - loss: 0.4596 - accuracy: 0.7729\n",
      "Epoch 69/100\n",
      "547/547 - 1s - loss: 0.4588 - accuracy: 0.7738\n",
      "Epoch 70/100\n",
      "547/547 - 2s - loss: 0.4574 - accuracy: 0.7735\n",
      "Epoch 71/100\n",
      "547/547 - 1s - loss: 0.4587 - accuracy: 0.7713\n",
      "Epoch 72/100\n",
      "547/547 - 1s - loss: 0.4556 - accuracy: 0.7737\n",
      "Epoch 73/100\n",
      "547/547 - 2s - loss: 0.4579 - accuracy: 0.7723\n",
      "Epoch 74/100\n",
      "547/547 - 2s - loss: 0.4594 - accuracy: 0.7708\n",
      "Epoch 75/100\n",
      "547/547 - 1s - loss: 0.4561 - accuracy: 0.7749\n",
      "Epoch 76/100\n",
      "547/547 - 1s - loss: 0.4526 - accuracy: 0.7778\n",
      "Epoch 77/100\n",
      "547/547 - 2s - loss: 0.4537 - accuracy: 0.7752\n",
      "Epoch 78/100\n",
      "547/547 - 2s - loss: 0.4536 - accuracy: 0.7733\n",
      "Epoch 79/100\n",
      "547/547 - 1s - loss: 0.4555 - accuracy: 0.7733\n",
      "Epoch 80/100\n",
      "547/547 - 2s - loss: 0.4523 - accuracy: 0.7786\n",
      "Epoch 81/100\n",
      "547/547 - 2s - loss: 0.4520 - accuracy: 0.7757\n",
      "Epoch 82/100\n",
      "547/547 - 2s - loss: 0.4512 - accuracy: 0.7769\n",
      "Epoch 83/100\n",
      "547/547 - 1s - loss: 0.4529 - accuracy: 0.7760\n",
      "Epoch 84/100\n",
      "547/547 - 2s - loss: 0.4490 - accuracy: 0.7767\n",
      "Epoch 85/100\n",
      "547/547 - 2s - loss: 0.4482 - accuracy: 0.7786\n",
      "Epoch 86/100\n",
      "547/547 - 1s - loss: 0.4468 - accuracy: 0.7803\n",
      "Epoch 87/100\n",
      "547/547 - 1s - loss: 0.4523 - accuracy: 0.7745\n",
      "Epoch 88/100\n",
      "547/547 - 2s - loss: 0.4485 - accuracy: 0.7794\n",
      "Epoch 89/100\n",
      "547/547 - 2s - loss: 0.4487 - accuracy: 0.7770\n",
      "Epoch 90/100\n",
      "547/547 - 2s - loss: 0.4485 - accuracy: 0.7791\n",
      "Epoch 91/100\n",
      "547/547 - 1s - loss: 0.4464 - accuracy: 0.7802\n",
      "Epoch 92/100\n",
      "547/547 - 2s - loss: 0.4492 - accuracy: 0.7789\n",
      "Epoch 93/100\n",
      "547/547 - 2s - loss: 0.4523 - accuracy: 0.7763\n",
      "Epoch 94/100\n",
      "547/547 - 2s - loss: 0.4459 - accuracy: 0.7779\n",
      "Epoch 95/100\n",
      "547/547 - 1s - loss: 0.4490 - accuracy: 0.7785\n",
      "Epoch 96/100\n",
      "547/547 - 1s - loss: 0.4457 - accuracy: 0.7810\n",
      "Epoch 97/100\n",
      "547/547 - 2s - loss: 0.4465 - accuracy: 0.7775\n",
      "Epoch 98/100\n",
      "547/547 - 1s - loss: 0.4477 - accuracy: 0.7798\n",
      "Epoch 99/100\n",
      "547/547 - 2s - loss: 0.4472 - accuracy: 0.7776\n",
      "Epoch 100/100\n",
      "547/547 - 2s - loss: 0.4467 - accuracy: 0.7801\n",
      "Best Mean Test Accuracy: 0.731171 {'hidden_neurons': 10}\n",
      "{'hidden_neurons': 10} Accuracy: 0.731171(0.005847), Time: 202.450942\n",
      "{'hidden_neurons': 20} Accuracy: 0.725343(0.010925), Time: 196.715324\n",
      "{'hidden_neurons': 30} Accuracy: 0.723171(0.017325), Time: 197.410514\n",
      "{'hidden_neurons': 40} Accuracy: 0.721200(0.004395), Time: 197.082798\n",
      "{'hidden_neurons': 50} Accuracy: 0.713286(0.010253), Time: 198.531347\n",
      "{'hidden_neurons': 60} Accuracy: 0.696914(0.016117), Time: 198.497287\n"
     ]
    }
   ],
   "source": [
    "#wrap keras model\n",
    "model = KerasClassifier(build_fn=create_model, epochs=epochs, batch_size=batch_size, verbose=2)\n",
    "\n",
    "#define search space for hidden neurons\n",
    "hidden_neurons = [10, 20, 30, 40, 50, 60]\n",
    "\n",
    "#gridsearch for different number of hidden neurons\n",
    "param_grid = dict(hidden_neurons=hidden_neurons)\n",
    "grid = GridSearchCV(estimator=model, param_grid=param_grid, n_jobs=-1, cv=5, verbose=1)\n",
    "grid_result = grid.fit(X_train, Y_train)\n",
    "\n",
    "#print results\n",
    "print('Best Mean Test Accuracy: %f %s'% (grid_result.best_score_, grid_result.best_params_))\n",
    "means = grid_result.cv_results_['mean_test_score']\n",
    "stds = grid_result.cv_results_['std_test_score']\n",
    "mean_time = grid_result.cv_results_['mean_fit_time']\n",
    "params = grid_result.cv_results_['params']\n",
    "for mean, stdev, time, param in zip(means, stds, mean_time, params):\n",
    "    print(\"%r Accuracy: %f(%f), Time: %f\" % (param, mean, stdev, time))"
   ]
  },
  {
   "cell_type": "markdown",
   "metadata": {
    "id": "9qhoYHbqN_Yt"
   },
   "source": [
    "# Train model with optimal no. of hidden neurons = 10"
   ]
  },
  {
   "cell_type": "code",
   "execution_count": null,
   "metadata": {
    "id": "zS41cZybN4VU"
   },
   "outputs": [],
   "source": [
    "#define params for model\n",
    "NUM_CLASSES = 1 #positive or negative\n",
    "\n",
    "epochs = 100\n",
    "\n",
    "lr = 0.001 #learning rate\n",
    "beta = 1e-9 #weight decay param\n",
    "batch_size = 64 #optimal\n",
    "hidden_neurons = 10 #optimal"
   ]
  },
  {
   "cell_type": "code",
   "execution_count": null,
   "metadata": {
    "id": "4UyNzu5vURVb"
   },
   "outputs": [],
   "source": [
    "#create model with dropouts\n",
    "def create_model():\n",
    "    model = Sequential()\n",
    "    embedding_layer = Embedding(vocab_size, 100, weights = [embedding_matrix], \n",
    "                                input_length = maxlen, trainable = False)\n",
    "    model.add(embedding_layer)\n",
    "    #flatten embedded layers output to to 1 dimension\n",
    "    model.add(Flatten())\n",
    "    \n",
    "    #add dropout\n",
    "    model.add(Dropout(0.5))\n",
    "    #one hidden layer with 10 hidden neurons, relu activation, l2 regulariation\n",
    "    #output layer with 1 neuron, sigmoid activation, l2 regularisation\n",
    "    model.add(Dense(hidden_neurons, activation = 'relu', kernel_regularizer=l2(beta)))\n",
    "    model.add(Dense(NUM_CLASSES, activation = 'sigmoid', kernel_regularizer=l2(beta)))\n",
    "    \n",
    "    optimizer = keras.optimizers.Adam(learning_rate=lr)\n",
    "    \n",
    "    model.compile(optimizer = optimizer,\n",
    "                 loss = 'binary_crossentropy',\n",
    "                 metrics=['accuracy'])\n",
    "   \n",
    "    return model"
   ]
  },
  {
   "cell_type": "code",
   "execution_count": null,
   "metadata": {
    "colab": {
     "base_uri": "https://localhost:8080/"
    },
    "executionInfo": {
     "elapsed": 209922,
     "status": "ok",
     "timestamp": 1605889279222,
     "user": {
      "displayName": "Ardous Task",
      "photoUrl": "",
      "userId": "05748072987174857900"
     },
     "user_tz": -480
    },
    "id": "CdSSPI0QN5un",
    "outputId": "f0742d04-a814-4622-fc36-fccb401bd570"
   },
   "outputs": [
    {
     "name": "stdout",
     "output_type": "stream",
     "text": [
      "Epoch 1/100\n",
      "547/547 - 2s - loss: 0.6512 - accuracy: 0.6322 - val_loss: 0.6021 - val_accuracy: 0.7010\n",
      "Epoch 2/100\n",
      "547/547 - 2s - loss: 0.5900 - accuracy: 0.7018 - val_loss: 0.5809 - val_accuracy: 0.7115\n",
      "Epoch 3/100\n",
      "547/547 - 2s - loss: 0.5614 - accuracy: 0.7228 - val_loss: 0.5472 - val_accuracy: 0.7366\n",
      "Epoch 4/100\n",
      "547/547 - 2s - loss: 0.5459 - accuracy: 0.7301 - val_loss: 0.5493 - val_accuracy: 0.7293\n",
      "Epoch 5/100\n",
      "547/547 - 2s - loss: 0.5390 - accuracy: 0.7332 - val_loss: 0.5315 - val_accuracy: 0.7445\n",
      "Epoch 6/100\n",
      "547/547 - 2s - loss: 0.5325 - accuracy: 0.7371 - val_loss: 0.5302 - val_accuracy: 0.7408\n",
      "Epoch 7/100\n",
      "547/547 - 2s - loss: 0.5246 - accuracy: 0.7417 - val_loss: 0.5272 - val_accuracy: 0.7400\n",
      "Epoch 8/100\n",
      "547/547 - 2s - loss: 0.5216 - accuracy: 0.7437 - val_loss: 0.5298 - val_accuracy: 0.7398\n",
      "Epoch 9/100\n",
      "547/547 - 2s - loss: 0.5147 - accuracy: 0.7485 - val_loss: 0.5261 - val_accuracy: 0.7412\n",
      "Epoch 10/100\n",
      "547/547 - 2s - loss: 0.5117 - accuracy: 0.7483 - val_loss: 0.5234 - val_accuracy: 0.7425\n",
      "Epoch 11/100\n",
      "547/547 - 2s - loss: 0.5062 - accuracy: 0.7530 - val_loss: 0.5233 - val_accuracy: 0.7436\n",
      "Epoch 12/100\n",
      "547/547 - 2s - loss: 0.5033 - accuracy: 0.7576 - val_loss: 0.5199 - val_accuracy: 0.7425\n",
      "Epoch 13/100\n",
      "547/547 - 2s - loss: 0.5030 - accuracy: 0.7549 - val_loss: 0.5206 - val_accuracy: 0.7424\n",
      "Epoch 14/100\n",
      "547/547 - 2s - loss: 0.5002 - accuracy: 0.7573 - val_loss: 0.5226 - val_accuracy: 0.7419\n",
      "Epoch 15/100\n",
      "547/547 - 2s - loss: 0.4958 - accuracy: 0.7592 - val_loss: 0.5393 - val_accuracy: 0.7278\n",
      "Epoch 16/100\n",
      "547/547 - 2s - loss: 0.4955 - accuracy: 0.7569 - val_loss: 0.5315 - val_accuracy: 0.7386\n",
      "Epoch 17/100\n",
      "547/547 - 2s - loss: 0.4927 - accuracy: 0.7621 - val_loss: 0.5278 - val_accuracy: 0.7375\n",
      "Epoch 18/100\n",
      "547/547 - 2s - loss: 0.4928 - accuracy: 0.7630 - val_loss: 0.5229 - val_accuracy: 0.7409\n",
      "Epoch 19/100\n",
      "547/547 - 2s - loss: 0.4914 - accuracy: 0.7599 - val_loss: 0.5256 - val_accuracy: 0.7429\n",
      "Epoch 20/100\n",
      "547/547 - 2s - loss: 0.4891 - accuracy: 0.7621 - val_loss: 0.5238 - val_accuracy: 0.7422\n",
      "Epoch 21/100\n",
      "547/547 - 2s - loss: 0.4871 - accuracy: 0.7635 - val_loss: 0.5241 - val_accuracy: 0.7419\n",
      "Epoch 22/100\n",
      "547/547 - 2s - loss: 0.4857 - accuracy: 0.7639 - val_loss: 0.5250 - val_accuracy: 0.7412\n",
      "Epoch 23/100\n",
      "547/547 - 2s - loss: 0.4850 - accuracy: 0.7667 - val_loss: 0.5259 - val_accuracy: 0.7427\n",
      "Epoch 24/100\n",
      "547/547 - 2s - loss: 0.4855 - accuracy: 0.7628 - val_loss: 0.5336 - val_accuracy: 0.7339\n",
      "Epoch 25/100\n",
      "547/547 - 2s - loss: 0.4837 - accuracy: 0.7648 - val_loss: 0.5257 - val_accuracy: 0.7426\n",
      "Epoch 26/100\n",
      "547/547 - 2s - loss: 0.4842 - accuracy: 0.7664 - val_loss: 0.5287 - val_accuracy: 0.7378\n",
      "Epoch 27/100\n",
      "547/547 - 2s - loss: 0.4823 - accuracy: 0.7668 - val_loss: 0.5235 - val_accuracy: 0.7424\n",
      "Epoch 28/100\n",
      "547/547 - 2s - loss: 0.4834 - accuracy: 0.7670 - val_loss: 0.5269 - val_accuracy: 0.7428\n",
      "Epoch 29/100\n",
      "547/547 - 2s - loss: 0.4855 - accuracy: 0.7637 - val_loss: 0.5252 - val_accuracy: 0.7418\n",
      "Epoch 30/100\n",
      "547/547 - 2s - loss: 0.4794 - accuracy: 0.7677 - val_loss: 0.5301 - val_accuracy: 0.7393\n",
      "Epoch 31/100\n",
      "547/547 - 2s - loss: 0.4798 - accuracy: 0.7674 - val_loss: 0.5271 - val_accuracy: 0.7428\n",
      "Epoch 32/100\n",
      "547/547 - 2s - loss: 0.4778 - accuracy: 0.7689 - val_loss: 0.5304 - val_accuracy: 0.7387\n",
      "Epoch 33/100\n",
      "547/547 - 2s - loss: 0.4798 - accuracy: 0.7673 - val_loss: 0.5311 - val_accuracy: 0.7421\n",
      "Epoch 34/100\n",
      "547/547 - 2s - loss: 0.4809 - accuracy: 0.7679 - val_loss: 0.5256 - val_accuracy: 0.7410\n",
      "Epoch 35/100\n",
      "547/547 - 2s - loss: 0.4791 - accuracy: 0.7686 - val_loss: 0.5261 - val_accuracy: 0.7421\n",
      "Epoch 36/100\n",
      "547/547 - 2s - loss: 0.4785 - accuracy: 0.7681 - val_loss: 0.5322 - val_accuracy: 0.7375\n",
      "Epoch 37/100\n",
      "547/547 - 2s - loss: 0.4754 - accuracy: 0.7708 - val_loss: 0.5243 - val_accuracy: 0.7423\n",
      "Epoch 38/100\n",
      "547/547 - 2s - loss: 0.4750 - accuracy: 0.7706 - val_loss: 0.5268 - val_accuracy: 0.7429\n",
      "Epoch 39/100\n",
      "547/547 - 2s - loss: 0.4738 - accuracy: 0.7728 - val_loss: 0.5274 - val_accuracy: 0.7429\n",
      "Epoch 40/100\n",
      "547/547 - 2s - loss: 0.4741 - accuracy: 0.7704 - val_loss: 0.5266 - val_accuracy: 0.7424\n",
      "Epoch 41/100\n",
      "547/547 - 2s - loss: 0.4768 - accuracy: 0.7688 - val_loss: 0.5318 - val_accuracy: 0.7420\n",
      "Epoch 42/100\n",
      "547/547 - 2s - loss: 0.4760 - accuracy: 0.7682 - val_loss: 0.5330 - val_accuracy: 0.7391\n",
      "Epoch 43/100\n",
      "547/547 - 2s - loss: 0.4741 - accuracy: 0.7703 - val_loss: 0.5304 - val_accuracy: 0.7408\n",
      "Epoch 44/100\n",
      "547/547 - 2s - loss: 0.4780 - accuracy: 0.7701 - val_loss: 0.5303 - val_accuracy: 0.7425\n",
      "Epoch 45/100\n",
      "547/547 - 2s - loss: 0.4760 - accuracy: 0.7682 - val_loss: 0.5381 - val_accuracy: 0.7357\n",
      "Epoch 46/100\n",
      "547/547 - 2s - loss: 0.4754 - accuracy: 0.7677 - val_loss: 0.5320 - val_accuracy: 0.7424\n",
      "Epoch 47/100\n",
      "547/547 - 2s - loss: 0.4738 - accuracy: 0.7721 - val_loss: 0.5315 - val_accuracy: 0.7389\n",
      "Epoch 48/100\n",
      "547/547 - 2s - loss: 0.4754 - accuracy: 0.7710 - val_loss: 0.5299 - val_accuracy: 0.7433\n",
      "Epoch 49/100\n",
      "547/547 - 2s - loss: 0.4741 - accuracy: 0.7710 - val_loss: 0.5291 - val_accuracy: 0.7416\n",
      "Epoch 50/100\n",
      "547/547 - 2s - loss: 0.4724 - accuracy: 0.7705 - val_loss: 0.5304 - val_accuracy: 0.7400\n",
      "Epoch 51/100\n",
      "547/547 - 2s - loss: 0.4700 - accuracy: 0.7728 - val_loss: 0.5367 - val_accuracy: 0.7402\n",
      "Epoch 52/100\n",
      "547/547 - 2s - loss: 0.4727 - accuracy: 0.7724 - val_loss: 0.5259 - val_accuracy: 0.7408\n",
      "Epoch 53/100\n",
      "547/547 - 2s - loss: 0.4692 - accuracy: 0.7738 - val_loss: 0.5295 - val_accuracy: 0.7413\n",
      "Epoch 54/100\n",
      "547/547 - 2s - loss: 0.4709 - accuracy: 0.7707 - val_loss: 0.5423 - val_accuracy: 0.7414\n",
      "Epoch 55/100\n",
      "547/547 - 2s - loss: 0.4708 - accuracy: 0.7712 - val_loss: 0.5406 - val_accuracy: 0.7389\n",
      "Epoch 56/100\n",
      "547/547 - 2s - loss: 0.4697 - accuracy: 0.7740 - val_loss: 0.5289 - val_accuracy: 0.7427\n",
      "Epoch 57/100\n",
      "547/547 - 2s - loss: 0.4704 - accuracy: 0.7743 - val_loss: 0.5347 - val_accuracy: 0.7407\n",
      "Epoch 58/100\n",
      "547/547 - 2s - loss: 0.4701 - accuracy: 0.7741 - val_loss: 0.5320 - val_accuracy: 0.7413\n",
      "Epoch 59/100\n",
      "547/547 - 2s - loss: 0.4699 - accuracy: 0.7742 - val_loss: 0.5313 - val_accuracy: 0.7406\n",
      "Epoch 60/100\n",
      "547/547 - 2s - loss: 0.4715 - accuracy: 0.7712 - val_loss: 0.5353 - val_accuracy: 0.7413\n",
      "Epoch 61/100\n",
      "547/547 - 2s - loss: 0.4667 - accuracy: 0.7766 - val_loss: 0.5445 - val_accuracy: 0.7299\n",
      "Epoch 62/100\n",
      "547/547 - 2s - loss: 0.4693 - accuracy: 0.7721 - val_loss: 0.5339 - val_accuracy: 0.7400\n",
      "Epoch 63/100\n",
      "547/547 - 2s - loss: 0.4696 - accuracy: 0.7772 - val_loss: 0.5314 - val_accuracy: 0.7414\n",
      "Epoch 64/100\n",
      "547/547 - 2s - loss: 0.4691 - accuracy: 0.7747 - val_loss: 0.5317 - val_accuracy: 0.7417\n",
      "Epoch 65/100\n",
      "547/547 - 2s - loss: 0.4668 - accuracy: 0.7745 - val_loss: 0.5334 - val_accuracy: 0.7385\n",
      "Epoch 66/100\n",
      "547/547 - 2s - loss: 0.4711 - accuracy: 0.7722 - val_loss: 0.5342 - val_accuracy: 0.7417\n",
      "Epoch 67/100\n",
      "547/547 - 2s - loss: 0.4657 - accuracy: 0.7735 - val_loss: 0.5327 - val_accuracy: 0.7416\n",
      "Epoch 68/100\n",
      "547/547 - 2s - loss: 0.4649 - accuracy: 0.7761 - val_loss: 0.5341 - val_accuracy: 0.7401\n",
      "Epoch 69/100\n",
      "547/547 - 2s - loss: 0.4659 - accuracy: 0.7761 - val_loss: 0.5322 - val_accuracy: 0.7403\n",
      "Epoch 70/100\n",
      "547/547 - 2s - loss: 0.4721 - accuracy: 0.7687 - val_loss: 0.5284 - val_accuracy: 0.7409\n",
      "Epoch 71/100\n",
      "547/547 - 2s - loss: 0.4692 - accuracy: 0.7751 - val_loss: 0.5366 - val_accuracy: 0.7376\n",
      "Epoch 72/100\n",
      "547/547 - 2s - loss: 0.4656 - accuracy: 0.7767 - val_loss: 0.5327 - val_accuracy: 0.7424\n",
      "Epoch 73/100\n",
      "547/547 - 2s - loss: 0.4649 - accuracy: 0.7761 - val_loss: 0.5304 - val_accuracy: 0.7419\n",
      "Epoch 74/100\n",
      "547/547 - 2s - loss: 0.4648 - accuracy: 0.7747 - val_loss: 0.5352 - val_accuracy: 0.7393\n",
      "Epoch 75/100\n",
      "547/547 - 2s - loss: 0.4682 - accuracy: 0.7734 - val_loss: 0.5337 - val_accuracy: 0.7413\n",
      "Epoch 76/100\n",
      "547/547 - 2s - loss: 0.4653 - accuracy: 0.7757 - val_loss: 0.5312 - val_accuracy: 0.7411\n",
      "Epoch 77/100\n",
      "547/547 - 2s - loss: 0.4634 - accuracy: 0.7790 - val_loss: 0.5281 - val_accuracy: 0.7417\n",
      "Epoch 78/100\n",
      "547/547 - 2s - loss: 0.4669 - accuracy: 0.7740 - val_loss: 0.5309 - val_accuracy: 0.7423\n",
      "Epoch 79/100\n",
      "547/547 - 2s - loss: 0.4645 - accuracy: 0.7768 - val_loss: 0.5300 - val_accuracy: 0.7405\n",
      "Epoch 80/100\n",
      "547/547 - 2s - loss: 0.4647 - accuracy: 0.7757 - val_loss: 0.5296 - val_accuracy: 0.7416\n",
      "Epoch 81/100\n",
      "547/547 - 2s - loss: 0.4655 - accuracy: 0.7765 - val_loss: 0.5342 - val_accuracy: 0.7407\n",
      "Epoch 82/100\n",
      "547/547 - 2s - loss: 0.4631 - accuracy: 0.7780 - val_loss: 0.5318 - val_accuracy: 0.7424\n",
      "Epoch 83/100\n",
      "547/547 - 2s - loss: 0.4649 - accuracy: 0.7772 - val_loss: 0.5355 - val_accuracy: 0.7411\n",
      "Epoch 84/100\n",
      "547/547 - 2s - loss: 0.4642 - accuracy: 0.7766 - val_loss: 0.5324 - val_accuracy: 0.7433\n",
      "Epoch 85/100\n",
      "547/547 - 2s - loss: 0.4637 - accuracy: 0.7755 - val_loss: 0.5363 - val_accuracy: 0.7409\n",
      "Epoch 86/100\n",
      "547/547 - 2s - loss: 0.4645 - accuracy: 0.7775 - val_loss: 0.5284 - val_accuracy: 0.7412\n",
      "Epoch 87/100\n",
      "547/547 - 2s - loss: 0.4644 - accuracy: 0.7759 - val_loss: 0.5334 - val_accuracy: 0.7435\n",
      "Epoch 88/100\n",
      "547/547 - 2s - loss: 0.4649 - accuracy: 0.7734 - val_loss: 0.5351 - val_accuracy: 0.7397\n",
      "Epoch 89/100\n",
      "547/547 - 2s - loss: 0.4632 - accuracy: 0.7763 - val_loss: 0.5349 - val_accuracy: 0.7389\n",
      "Epoch 90/100\n",
      "547/547 - 2s - loss: 0.4653 - accuracy: 0.7761 - val_loss: 0.5341 - val_accuracy: 0.7404\n",
      "Epoch 91/100\n",
      "547/547 - 2s - loss: 0.4636 - accuracy: 0.7765 - val_loss: 0.5305 - val_accuracy: 0.7410\n",
      "Epoch 92/100\n",
      "547/547 - 2s - loss: 0.4642 - accuracy: 0.7751 - val_loss: 0.5371 - val_accuracy: 0.7384\n",
      "Epoch 93/100\n",
      "547/547 - 2s - loss: 0.4634 - accuracy: 0.7785 - val_loss: 0.5318 - val_accuracy: 0.7449\n",
      "Epoch 94/100\n",
      "547/547 - 2s - loss: 0.4638 - accuracy: 0.7778 - val_loss: 0.5302 - val_accuracy: 0.7430\n",
      "Epoch 95/100\n",
      "547/547 - 2s - loss: 0.4632 - accuracy: 0.7765 - val_loss: 0.5313 - val_accuracy: 0.7425\n",
      "Epoch 96/100\n",
      "547/547 - 2s - loss: 0.4610 - accuracy: 0.7795 - val_loss: 0.5292 - val_accuracy: 0.7429\n",
      "Epoch 97/100\n",
      "547/547 - 2s - loss: 0.4621 - accuracy: 0.7771 - val_loss: 0.5358 - val_accuracy: 0.7423\n",
      "Epoch 98/100\n",
      "547/547 - 2s - loss: 0.4585 - accuracy: 0.7797 - val_loss: 0.5304 - val_accuracy: 0.7425\n",
      "Epoch 99/100\n",
      "547/547 - 2s - loss: 0.4623 - accuracy: 0.7771 - val_loss: 0.5473 - val_accuracy: 0.7382\n",
      "Epoch 100/100\n",
      "547/547 - 2s - loss: 0.4653 - accuracy: 0.7756 - val_loss: 0.5328 - val_accuracy: 0.7443\n"
     ]
    }
   ],
   "source": [
    "#train model\n",
    "model = create_model()\n",
    "history = model.fit(X_train, Y_train,\n",
    "                    epochs = epochs,\n",
    "                    verbose = 2,\n",
    "                    batch_size = batch_size,\n",
    "                    validation_data = (X_test, Y_test)\n",
    "                   )"
   ]
  },
  {
   "cell_type": "code",
   "execution_count": null,
   "metadata": {
    "colab": {
     "base_uri": "https://localhost:8080/",
     "height": 295
    },
    "executionInfo": {
     "elapsed": 3434,
     "status": "ok",
     "timestamp": 1605889305838,
     "user": {
      "displayName": "Ardous Task",
      "photoUrl": "",
      "userId": "05748072987174857900"
     },
     "user_tz": -480
    },
    "id": "kd50CdJG6nkF",
    "outputId": "b10d86ec-5245-4fb1-f606-4243a039b34a"
   },
   "outputs": [
    {
     "data": {
      "image/png": "[encoded data removed]",
      "text/plain": [
       "<Figure size 432x288 with 1 Axes>"
      ]
     },
     "metadata": {
      "needs_background": "light",
      "tags": []
     },
     "output_type": "display_data"
    }
   ],
   "source": [
    "#Summarize history for accuracy\n",
    "import matplotlib.pyplot as plt\n",
    "plt.plot(history.history['accuracy'], label='Train Accuracy')\n",
    "plt.plot(history.history['val_accuracy'], label='Test Accuracy')\n",
    "plt.title('Train and Test Accuracies')\n",
    "plt.ylabel('Accuracy')\n",
    "plt.xlabel('Epoch')\n",
    "plt.legend(loc=\"lower right\")\n",
    "plt.show()"
   ]
  }
 ],
 "metadata": {
  "accelerator": "GPU",
  "colab": {
   "collapsed_sections": [],
   "name": "Simple NN - hidden neurons.ipynb",
   "provenance": [
    {
     "file_id": "18vQ4secSITqXWpvd0ZsFTLo9730IHhYY",
     "timestamp": 1605840997417
    }
   ]
  },
  "kernelspec": {
   "display_name": "Python 3",
   "language": "python",
   "name": "python3"
  },
  "language_info": {
   "codemirror_mode": {
    "name": "ipython",
    "version": 3
   },
   "file_extension": ".py",
   "mimetype": "text/x-python",
   "name": "python",
   "nbconvert_exporter": "python",
   "pygments_lexer": "ipython3",
   "version": "3.6.9"
  }
 },
 "nbformat": 4,
 "nbformat_minor": 1
}
