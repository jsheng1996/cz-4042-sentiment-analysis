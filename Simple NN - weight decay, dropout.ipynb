{
 "cells": [
  {
   "cell_type": "markdown",
   "metadata": {
    "id": "D3PJfRkjnsKP"
   },
   "source": [
    "# Data Preprocessing"
   ]
  },
  {
   "cell_type": "code",
   "execution_count": null,
   "metadata": {
    "id": "MPngYgnQnsKQ"
   },
   "outputs": [],
   "source": [
    "#Importing packages for necessary purposes\n",
    "\n",
    "import numpy as np\n",
    "import keras \n",
    "import pandas as pd\n",
    "import tensorflow as tf\n",
    "import re\n",
    "import nltk\n",
    "\n",
    "from numpy import array\n",
    "from numpy import asarray\n",
    "from numpy import zeros\n",
    "from keras.preprocessing.text import one_hot\n",
    "from keras.preprocessing.sequence import pad_sequences\n",
    "from keras.models import Sequential\n",
    "from keras.layers.core import Activation, Dropout, Dense\n",
    "from keras.layers import Flatten\n",
    "from keras.layers import GlobalMaxPooling1D\n",
    "from keras.layers.embeddings import Embedding\n",
    "from sklearn.model_selection import train_test_split\n",
    "from keras.preprocessing.text import Tokenizer\n",
    "from nltk.corpus import stopwords\n",
    "from keras.regularizers import l2\n",
    "\n",
    "from sklearn.model_selection import GridSearchCV\n",
    "from keras.wrappers.scikit_learn import KerasClassifier\n"
   ]
  },
  {
   "cell_type": "code",
   "execution_count": null,
   "metadata": {
    "colab": {
     "base_uri": "https://localhost:8080/",
     "height": 376
    },
    "executionInfo": {
     "elapsed": 3148,
     "status": "ok",
     "timestamp": 1606040311767,
     "user": {
      "displayName": "Wan Ting Wong",
      "photoUrl": "",
      "userId": "10706324018856459819"
     },
     "user_tz": -480
    },
    "id": "meFn1A3ansKQ",
    "outputId": "24d8a6d3-441c-418c-e52a-fde14d37c553"
   },
   "outputs": [
    {
     "name": "stdout",
     "output_type": "stream",
     "text": [
      "(50000, 2)\n"
     ]
    },
    {
     "data": {
      "text/html": [
       "<div>\n",
       "<style scoped>\n",
       "    .dataframe tbody tr th:only-of-type {\n",
       "        vertical-align: middle;\n",
       "    }\n",
       "\n",
       "    .dataframe tbody tr th {\n",
       "        vertical-align: top;\n",
       "    }\n",
       "\n",
       "    .dataframe thead th {\n",
       "        text-align: right;\n",
       "    }\n",
       "</style>\n",
       "<table border=\"1\" class=\"dataframe\">\n",
       "  <thead>\n",
       "    <tr style=\"text-align: right;\">\n",
       "      <th></th>\n",
       "      <th>review</th>\n",
       "      <th>sentiment</th>\n",
       "    </tr>\n",
       "  </thead>\n",
       "  <tbody>\n",
       "    <tr>\n",
       "      <th>0</th>\n",
       "      <td>One of the other reviewers has mentioned that ...</td>\n",
       "      <td>positive</td>\n",
       "    </tr>\n",
       "    <tr>\n",
       "      <th>1</th>\n",
       "      <td>A wonderful little production. &lt;br /&gt;&lt;br /&gt;The...</td>\n",
       "      <td>positive</td>\n",
       "    </tr>\n",
       "    <tr>\n",
       "      <th>2</th>\n",
       "      <td>I thought this was a wonderful way to spend ti...</td>\n",
       "      <td>positive</td>\n",
       "    </tr>\n",
       "    <tr>\n",
       "      <th>3</th>\n",
       "      <td>Basically there's a family where a little boy ...</td>\n",
       "      <td>negative</td>\n",
       "    </tr>\n",
       "    <tr>\n",
       "      <th>4</th>\n",
       "      <td>Petter Mattei's \"Love in the Time of Money\" is...</td>\n",
       "      <td>positive</td>\n",
       "    </tr>\n",
       "    <tr>\n",
       "      <th>5</th>\n",
       "      <td>Probably my all-time favorite movie, a story o...</td>\n",
       "      <td>positive</td>\n",
       "    </tr>\n",
       "    <tr>\n",
       "      <th>6</th>\n",
       "      <td>I sure would like to see a resurrection of a u...</td>\n",
       "      <td>positive</td>\n",
       "    </tr>\n",
       "    <tr>\n",
       "      <th>7</th>\n",
       "      <td>This show was an amazing, fresh &amp; innovative i...</td>\n",
       "      <td>negative</td>\n",
       "    </tr>\n",
       "    <tr>\n",
       "      <th>8</th>\n",
       "      <td>Encouraged by the positive comments about this...</td>\n",
       "      <td>negative</td>\n",
       "    </tr>\n",
       "    <tr>\n",
       "      <th>9</th>\n",
       "      <td>If you like original gut wrenching laughter yo...</td>\n",
       "      <td>positive</td>\n",
       "    </tr>\n",
       "  </tbody>\n",
       "</table>\n",
       "</div>"
      ],
      "text/plain": [
       "                                              review sentiment\n",
       "0  One of the other reviewers has mentioned that ...  positive\n",
       "1  A wonderful little production. <br /><br />The...  positive\n",
       "2  I thought this was a wonderful way to spend ti...  positive\n",
       "3  Basically there's a family where a little boy ...  negative\n",
       "4  Petter Mattei's \"Love in the Time of Money\" is...  positive\n",
       "5  Probably my all-time favorite movie, a story o...  positive\n",
       "6  I sure would like to see a resurrection of a u...  positive\n",
       "7  This show was an amazing, fresh & innovative i...  negative\n",
       "8  Encouraged by the positive comments about this...  negative\n",
       "9  If you like original gut wrenching laughter yo...  positive"
      ]
     },
     "execution_count": 4,
     "metadata": {
      "tags": []
     },
     "output_type": "execute_result"
    }
   ],
   "source": [
    "#Importing data\n",
    "imdb_data = pd.read_csv('IMDB Dataset.csv')\n",
    "imdb_data.isnull().values.any()\n",
    "print (imdb_data.shape)\n",
    "imdb_data.head(10)"
   ]
  },
  {
   "cell_type": "code",
   "execution_count": null,
   "metadata": {
    "id": "scVpgd0HnsKT"
   },
   "outputs": [],
   "source": [
    "#cleaning reviews\n",
    "def review_text(sen):\n",
    "    # Removing html tags\n",
    "    sentence = remove_tags(sen)\n",
    "\n",
    "    # Remove punctuations and numbers\n",
    "    sentence = re.sub('[^a-zA-Z]', ' ', sentence)\n",
    "\n",
    "    # Single character removal\n",
    "    sentence = re.sub(r\"\\s+[a-zA-Z]\\s+\", ' ', sentence)\n",
    "\n",
    "    # Removing multiple spaces\n",
    "    sentence = re.sub(r'\\s+', ' ', sentence)\n",
    "\n",
    "    return sentence"
   ]
  },
  {
   "cell_type": "code",
   "execution_count": null,
   "metadata": {
    "id": "qSu5KmoYnsKT"
   },
   "outputs": [],
   "source": [
    "TAG_RE = re.compile(r'<[^>]+>')\n",
    "\n",
    "def remove_tags(text):\n",
    "    return TAG_RE.sub('', text)"
   ]
  },
  {
   "cell_type": "code",
   "execution_count": null,
   "metadata": {
    "id": "kwE9_xmgnsKU"
   },
   "outputs": [],
   "source": [
    "X = []\n",
    "sentences = list(imdb_data['review'])\n",
    "for sen in sentences:\n",
    "    X.append(review_text(sen))"
   ]
  },
  {
   "cell_type": "code",
   "execution_count": null,
   "metadata": {
    "id": "24Vrr0mgnsKU"
   },
   "outputs": [],
   "source": [
    "#converting positive to 1 and negative to 0\n",
    "Y = imdb_data['sentiment']\n",
    "\n",
    "Y = np.array(list(map(lambda x: 1 if x==\"positive\" else 0, Y)))"
   ]
  },
  {
   "cell_type": "code",
   "execution_count": null,
   "metadata": {
    "id": "hSEaxQM0nsKU"
   },
   "outputs": [],
   "source": [
    "seed=42\n",
    "np.random.seed(seed)"
   ]
  },
  {
   "cell_type": "code",
   "execution_count": null,
   "metadata": {
    "id": "UpYki29bnsKU"
   },
   "outputs": [],
   "source": [
    "#shuffle data\n",
    "idx = np.arange(len(X))\n",
    "np.random.shuffle(idx)\n",
    "X_temp, Y_train = np.array(X)[idx], Y[idx]\n",
    "X_train = []\n",
    "for sen in X_temp:\n",
    "    X_train.append(sen)"
   ]
  },
  {
   "cell_type": "code",
   "execution_count": null,
   "metadata": {
    "colab": {
     "base_uri": "https://localhost:8080/"
    },
    "executionInfo": {
     "elapsed": 9908,
     "status": "ok",
     "timestamp": 1606040330146,
     "user": {
      "displayName": "Wan Ting Wong",
      "photoUrl": "",
      "userId": "10706324018856459819"
     },
     "user_tz": -480
    },
    "id": "3YIg8ALjnsKU",
    "outputId": "2cdc8359-a3a7-48b0-d28e-679d8156828d"
   },
   "outputs": [
    {
     "name": "stdout",
     "output_type": "stream",
     "text": [
      "35000\n",
      "15000\n"
     ]
    }
   ],
   "source": [
    "#splitting the data into 70:30 train:test\n",
    "X_train, X_test, Y_train, Y_test = train_test_split(X_train, Y_train, test_size=0.30, random_state=42)\n",
    "# X_train, X_test, Y_train, Y_test = train_test_split(X, Y, test_size=0.30, random_state=42)\n",
    "print(len(X_train))\n",
    "print(len(X_test))"
   ]
  },
  {
   "cell_type": "code",
   "execution_count": null,
   "metadata": {
    "id": "gAG7M_W1nsKU"
   },
   "outputs": [],
   "source": [
    "#Tokenization of text\n",
    "tokenizer = Tokenizer(num_words=5000)\n",
    "tokenizer.fit_on_texts(X_train)\n",
    "\n",
    "X_train = tokenizer.texts_to_sequences(X_train)\n",
    "X_test = tokenizer.texts_to_sequences(X_test)"
   ]
  },
  {
   "cell_type": "code",
   "execution_count": null,
   "metadata": {
    "id": "DsFiHkGpnsKU"
   },
   "outputs": [],
   "source": [
    "# Adding 1 because of reserved 0 index\n",
    "vocab_size = len(tokenizer.word_index) + 1\n",
    "\n",
    "#cutoff word length per review\n",
    "maxlen = 100\n",
    "\n",
    "X_train = pad_sequences(X_train, padding='post', maxlen=maxlen)\n",
    "X_test = pad_sequences(X_test, padding='post', maxlen=maxlen)"
   ]
  },
  {
   "cell_type": "code",
   "execution_count": null,
   "metadata": {
    "colab": {
     "base_uri": "https://localhost:8080/"
    },
    "executionInfo": {
     "elapsed": 11352,
     "status": "ok",
     "timestamp": 1606040341536,
     "user": {
      "displayName": "Wan Ting Wong",
      "photoUrl": "",
      "userId": "10706324018856459819"
     },
     "user_tz": -480
    },
    "id": "S2VMj0dInsKV",
    "outputId": "fdae9a07-5642-4a09-a7cf-b758a9a22434"
   },
   "outputs": [
    {
     "data": {
      "text/plain": [
       "87633"
      ]
     },
     "execution_count": 14,
     "metadata": {
      "tags": []
     },
     "output_type": "execute_result"
    }
   ],
   "source": [
    "vocab_size"
   ]
  },
  {
   "cell_type": "code",
   "execution_count": null,
   "metadata": {
    "id": "NZQFzvCMnsKV"
   },
   "outputs": [],
   "source": [
    "#dictionary\n",
    "embeddings_dictionary = dict()\n",
    "glove_file = open('glove.6B.100d.txt', encoding=\"utf8\")\n",
    "\n",
    "for line in glove_file:\n",
    "    records = line.split()\n",
    "    word = records[0]\n",
    "    vector_dimensions = asarray(records[1:], dtype='float32')\n",
    "    embeddings_dictionary [word] = vector_dimensions\n",
    "glove_file.close()"
   ]
  },
  {
   "cell_type": "code",
   "execution_count": null,
   "metadata": {
    "id": "4RKI3jasnsKV"
   },
   "outputs": [],
   "source": [
    "embedding_matrix = zeros((vocab_size, 100))\n",
    "for word, index in tokenizer.word_index.items():\n",
    "    embedding_vector = embeddings_dictionary.get(word)\n",
    "    if embedding_vector is not None:\n",
    "        embedding_matrix[index] = embedding_vector"
   ]
  },
  {
   "cell_type": "markdown",
   "metadata": {
    "id": "nn1leu6-nsKV"
   },
   "source": [
    "# Finding Optimal weight decay parameter and dropout combination"
   ]
  },
  {
   "cell_type": "code",
   "execution_count": null,
   "metadata": {
    "id": "0MShT7hHnsKV"
   },
   "outputs": [],
   "source": [
    "#define params for model\n",
    "NUM_CLASSES = 1 #positive or negative\n",
    "\n",
    "epochs = 100\n",
    "\n",
    "lr = 1e-5 #learning rate\n",
    "# beta = 1e-9 #weight decay param\n",
    "batch_size = 64\n",
    "hidden_neurons = 10"
   ]
  },
  {
   "cell_type": "code",
   "execution_count": null,
   "metadata": {
    "id": "3-LPzGjunsKV"
   },
   "outputs": [],
   "source": [
    "#create model ans pass in beta and dropout as arguments\n",
    "def create_model(beta=0, dropout=0.5):\n",
    "    model = Sequential()\n",
    "    embedding_layer = Embedding(vocab_size, 100, weights = [embedding_matrix], \n",
    "                                input_length = maxlen, trainable = False)\n",
    "    model.add(embedding_layer)\n",
    "    #flatten embedded layers output to to 1 dimension\n",
    "    model.add(Flatten())\n",
    "    \n",
    "    #add dropout\n",
    "    model.add(Dropout(dropout))\n",
    "    #one hidden layer with 10 hidden neurons, relu activation, l2 regulariation\n",
    "    #output layer with 1 neuron, sigmoid activation, l2 regularisation\n",
    "    model.add(Dense(hidden_neurons, activation = 'relu', kernel_regularizer=l2(beta)))\n",
    "    model.add(Dense(NUM_CLASSES, activation = 'sigmoid', kernel_regularizer=l2(beta)))\n",
    "    \n",
    "    optimizer = keras.optimizers.Adam(learning_rate=lr)\n",
    "    \n",
    "    model.compile(optimizer = optimizer,\n",
    "                 loss = 'binary_crossentropy',\n",
    "                 metrics=['accuracy'])\n",
    "   \n",
    "    return model"
   ]
  },
  {
   "cell_type": "code",
   "execution_count": null,
   "metadata": {
    "colab": {
     "base_uri": "https://localhost:8080/"
    },
    "executionInfo": {
     "elapsed": 6378755,
     "status": "ok",
     "timestamp": 1605924792786,
     "user": {
      "displayName": "Wan Ting Wong",
      "photoUrl": "",
      "userId": "10706324018856459819"
     },
     "user_tz": -480
    },
    "id": "l9c0lKcD6jHW",
    "outputId": "7bde25d4-27f3-4c2b-a9db-c3c7b65044db"
   },
   "outputs": [
    {
     "name": "stdout",
     "output_type": "stream",
     "text": [
      "Fitting 5 folds for each of 25 candidates, totalling 125 fits\n"
     ]
    },
    {
     "name": "stderr",
     "output_type": "stream",
     "text": [
      "[Parallel(n_jobs=-1)]: Using backend LokyBackend with 2 concurrent workers.\n",
      "/usr/local/lib/python3.6/dist-packages/joblib/externals/loky/process_executor.py:691: UserWarning: A worker stopped while some jobs were given to the executor. This can be caused by a too short worker timeout or by a memory leak.\n",
      "  \"timeout or by a memory leak.\", UserWarning\n",
      "[Parallel(n_jobs=-1)]: Done  46 tasks      | elapsed: 74.7min\n",
      "[Parallel(n_jobs=-1)]: Done 125 out of 125 | elapsed: 204.5min finished\n"
     ]
    },
    {
     "name": "stdout",
     "output_type": "stream",
     "text": [
      "Epoch 1/100\n",
      "547/547 - 2s - loss: 0.7253 - accuracy: 0.5049\n",
      "Epoch 2/100\n",
      "547/547 - 2s - loss: 0.6949 - accuracy: 0.5109\n",
      "Epoch 3/100\n",
      "547/547 - 2s - loss: 0.6914 - accuracy: 0.5235\n",
      "Epoch 4/100\n",
      "547/547 - 2s - loss: 0.6890 - accuracy: 0.5399\n",
      "Epoch 5/100\n",
      "547/547 - 2s - loss: 0.6846 - accuracy: 0.5546\n",
      "Epoch 6/100\n",
      "547/547 - 2s - loss: 0.6792 - accuracy: 0.5726\n",
      "Epoch 7/100\n",
      "547/547 - 1s - loss: 0.6722 - accuracy: 0.5823\n",
      "Epoch 8/100\n",
      "547/547 - 1s - loss: 0.6663 - accuracy: 0.5960\n",
      "Epoch 9/100\n",
      "547/547 - 1s - loss: 0.6601 - accuracy: 0.6043\n",
      "Epoch 10/100\n",
      "547/547 - 1s - loss: 0.6521 - accuracy: 0.6192\n",
      "Epoch 11/100\n",
      "547/547 - 1s - loss: 0.6475 - accuracy: 0.6249\n",
      "Epoch 12/100\n",
      "547/547 - 1s - loss: 0.6418 - accuracy: 0.6315\n",
      "Epoch 13/100\n",
      "547/547 - 1s - loss: 0.6357 - accuracy: 0.6415\n",
      "Epoch 14/100\n",
      "547/547 - 1s - loss: 0.6289 - accuracy: 0.6473\n",
      "Epoch 15/100\n",
      "547/547 - 1s - loss: 0.6257 - accuracy: 0.6509\n",
      "Epoch 16/100\n",
      "547/547 - 1s - loss: 0.6215 - accuracy: 0.6560\n",
      "Epoch 17/100\n",
      "547/547 - 1s - loss: 0.6145 - accuracy: 0.6645\n",
      "Epoch 18/100\n",
      "547/547 - 1s - loss: 0.6105 - accuracy: 0.6676\n",
      "Epoch 19/100\n",
      "547/547 - 1s - loss: 0.6043 - accuracy: 0.6737\n",
      "Epoch 20/100\n",
      "547/547 - 1s - loss: 0.5996 - accuracy: 0.6782\n",
      "Epoch 21/100\n",
      "547/547 - 1s - loss: 0.5971 - accuracy: 0.6841\n",
      "Epoch 22/100\n",
      "547/547 - 1s - loss: 0.5906 - accuracy: 0.6878\n",
      "Epoch 23/100\n",
      "547/547 - 1s - loss: 0.5887 - accuracy: 0.6877\n",
      "Epoch 24/100\n",
      "547/547 - 1s - loss: 0.5845 - accuracy: 0.6948\n",
      "Epoch 25/100\n",
      "547/547 - 1s - loss: 0.5816 - accuracy: 0.6943\n",
      "Epoch 26/100\n",
      "547/547 - 1s - loss: 0.5788 - accuracy: 0.7002\n",
      "Epoch 27/100\n",
      "547/547 - 1s - loss: 0.5735 - accuracy: 0.7041\n",
      "Epoch 28/100\n",
      "547/547 - 2s - loss: 0.5712 - accuracy: 0.7061\n",
      "Epoch 29/100\n",
      "547/547 - 2s - loss: 0.5702 - accuracy: 0.7077\n",
      "Epoch 30/100\n",
      "547/547 - 2s - loss: 0.5658 - accuracy: 0.7111\n",
      "Epoch 31/100\n",
      "547/547 - 1s - loss: 0.5637 - accuracy: 0.7150\n",
      "Epoch 32/100\n",
      "547/547 - 1s - loss: 0.5619 - accuracy: 0.7126\n",
      "Epoch 33/100\n",
      "547/547 - 1s - loss: 0.5591 - accuracy: 0.7169\n",
      "Epoch 34/100\n",
      "Epoch 35/100\n",
      "547/547 - 1s - loss: 0.5537 - accuracy: 0.7195\n",
      "Epoch 36/100\n",
      "547/547 - 1s - loss: 0.5526 - accuracy: 0.7224\n",
      "Epoch 37/100\n",
      "547/547 - 1s - loss: 0.5529 - accuracy: 0.7205\n",
      "Epoch 38/100\n",
      "547/547 - 1s - loss: 0.5507 - accuracy: 0.7206\n",
      "Epoch 39/100\n",
      "547/547 - 1s - loss: 0.5446 - accuracy: 0.7286\n",
      "Epoch 40/100\n",
      "547/547 - 1s - loss: 0.5453 - accuracy: 0.7267\n",
      "Epoch 41/100\n",
      "547/547 - 1s - loss: 0.5433 - accuracy: 0.7272\n",
      "Epoch 42/100\n",
      "547/547 - 1s - loss: 0.5402 - accuracy: 0.7319\n",
      "Epoch 43/100\n",
      "547/547 - 1s - loss: 0.5371 - accuracy: 0.7320\n",
      "Epoch 44/100\n",
      "547/547 - 1s - loss: 0.5359 - accuracy: 0.7331\n",
      "Epoch 45/100\n",
      "547/547 - 1s - loss: 0.5336 - accuracy: 0.7341\n",
      "Epoch 46/100\n",
      "547/547 - 1s - loss: 0.5349 - accuracy: 0.7336\n",
      "Epoch 47/100\n",
      "547/547 - 1s - loss: 0.5329 - accuracy: 0.7370\n",
      "Epoch 48/100\n",
      "547/547 - 1s - loss: 0.5303 - accuracy: 0.7374\n",
      "Epoch 49/100\n",
      "547/547 - 1s - loss: 0.5268 - accuracy: 0.7415\n",
      "Epoch 50/100\n",
      "547/547 - 1s - loss: 0.5272 - accuracy: 0.7412\n",
      "Epoch 51/100\n",
      "547/547 - 1s - loss: 0.5261 - accuracy: 0.7412\n",
      "Epoch 52/100\n",
      "547/547 - 1s - loss: 0.5275 - accuracy: 0.7398\n",
      "Epoch 53/100\n",
      "547/547 - 1s - loss: 0.5267 - accuracy: 0.7390\n",
      "Epoch 54/100\n",
      "547/547 - 1s - loss: 0.5229 - accuracy: 0.7410\n",
      "Epoch 55/100\n",
      "547/547 - 1s - loss: 0.5209 - accuracy: 0.7447\n",
      "Epoch 56/100\n",
      "547/547 - 1s - loss: 0.5194 - accuracy: 0.7442\n",
      "Epoch 57/100\n",
      "547/547 - 1s - loss: 0.5191 - accuracy: 0.7435\n",
      "Epoch 58/100\n",
      "547/547 - 1s - loss: 0.5195 - accuracy: 0.7444\n",
      "Epoch 59/100\n",
      "547/547 - 1s - loss: 0.5172 - accuracy: 0.7439\n",
      "Epoch 60/100\n",
      "547/547 - 1s - loss: 0.5181 - accuracy: 0.7457\n",
      "Epoch 61/100\n",
      "547/547 - 1s - loss: 0.5142 - accuracy: 0.7478\n",
      "Epoch 62/100\n",
      "547/547 - 1s - loss: 0.5155 - accuracy: 0.7488\n",
      "Epoch 63/100\n",
      "547/547 - 1s - loss: 0.5150 - accuracy: 0.7455\n",
      "Epoch 64/100\n",
      "547/547 - 1s - loss: 0.5139 - accuracy: 0.7485\n",
      "Epoch 65/100\n",
      "547/547 - 1s - loss: 0.5107 - accuracy: 0.7511\n",
      "Epoch 66/100\n",
      "547/547 - 1s - loss: 0.5080 - accuracy: 0.7530\n",
      "Epoch 67/100\n",
      "547/547 - 1s - loss: 0.5081 - accuracy: 0.7516\n",
      "Epoch 68/100\n",
      "547/547 - 1s - loss: 0.5104 - accuracy: 0.7512\n",
      "Epoch 69/100\n",
      "547/547 - 1s - loss: 0.5082 - accuracy: 0.7502\n",
      "Epoch 70/100\n",
      "547/547 - 1s - loss: 0.5102 - accuracy: 0.7495\n",
      "Epoch 71/100\n",
      "547/547 - 1s - loss: 0.5069 - accuracy: 0.7549\n",
      "Epoch 72/100\n",
      "547/547 - 1s - loss: 0.5060 - accuracy: 0.7523\n",
      "Epoch 73/100\n",
      "547/547 - 1s - loss: 0.5045 - accuracy: 0.7533\n",
      "Epoch 74/100\n",
      "547/547 - 1s - loss: 0.5057 - accuracy: 0.7523\n",
      "Epoch 75/100\n",
      "547/547 - 1s - loss: 0.5062 - accuracy: 0.7484\n",
      "Epoch 76/100\n",
      "547/547 - 1s - loss: 0.5023 - accuracy: 0.7549\n",
      "Epoch 77/100\n",
      "547/547 - 1s - loss: 0.5033 - accuracy: 0.7536\n",
      "Epoch 78/100\n",
      "547/547 - 1s - loss: 0.5023 - accuracy: 0.7549\n",
      "Epoch 79/100\n",
      "547/547 - 1s - loss: 0.5003 - accuracy: 0.7559\n",
      "Epoch 80/100\n",
      "547/547 - 1s - loss: 0.4992 - accuracy: 0.7570\n",
      "Epoch 81/100\n",
      "547/547 - 1s - loss: 0.4987 - accuracy: 0.7590\n",
      "Epoch 82/100\n",
      "547/547 - 1s - loss: 0.5021 - accuracy: 0.7570\n",
      "Epoch 83/100\n",
      "547/547 - 1s - loss: 0.5002 - accuracy: 0.7568\n",
      "Epoch 84/100\n",
      "547/547 - 1s - loss: 0.4999 - accuracy: 0.7557\n",
      "Epoch 85/100\n",
      "547/547 - 1s - loss: 0.4981 - accuracy: 0.7569\n",
      "Epoch 86/100\n",
      "547/547 - 1s - loss: 0.4961 - accuracy: 0.7578\n",
      "Epoch 87/100\n",
      "547/547 - 1s - loss: 0.4959 - accuracy: 0.7593\n",
      "Epoch 88/100\n",
      "547/547 - 1s - loss: 0.4978 - accuracy: 0.7545\n",
      "Epoch 89/100\n",
      "547/547 - 1s - loss: 0.4946 - accuracy: 0.7601\n",
      "Epoch 90/100\n",
      "547/547 - 1s - loss: 0.4924 - accuracy: 0.7635\n",
      "Epoch 91/100\n",
      "547/547 - 1s - loss: 0.4927 - accuracy: 0.7617\n",
      "Epoch 92/100\n",
      "547/547 - 1s - loss: 0.4937 - accuracy: 0.7603\n",
      "Epoch 93/100\n",
      "547/547 - 1s - loss: 0.4909 - accuracy: 0.7630\n",
      "Epoch 94/100\n",
      "547/547 - 1s - loss: 0.4925 - accuracy: 0.7613\n",
      "Epoch 95/100\n",
      "547/547 - 1s - loss: 0.4933 - accuracy: 0.7607\n",
      "Epoch 96/100\n",
      "547/547 - 1s - loss: 0.4899 - accuracy: 0.7625\n",
      "Epoch 97/100\n",
      "547/547 - 1s - loss: 0.4903 - accuracy: 0.7616\n",
      "Epoch 98/100\n",
      "547/547 - 1s - loss: 0.4902 - accuracy: 0.7612\n",
      "Epoch 99/100\n",
      "547/547 - 1s - loss: 0.4919 - accuracy: 0.7595\n",
      "Epoch 100/100\n",
      "547/547 - 1s - loss: 0.4913 - accuracy: 0.7611\n",
      "Best Mean Test Accuracy: 0.741000 {'beta': 1e-12, 'dropout': 0.5}\n",
      "{'beta': 0, 'dropout': 0.5} Test Accuracy: 0.740114(0.006947) Time: 191.377870\n",
      "{'beta': 0, 'dropout': 0.6} Test Accuracy: 0.735171(0.003751) Time: 190.170668\n",
      "{'beta': 0, 'dropout': 0.7} Test Accuracy: 0.727086(0.006443) Time: 189.814623\n",
      "{'beta': 0, 'dropout': 0.8} Test Accuracy: 0.711343(0.004508) Time: 188.805356\n",
      "{'beta': 0, 'dropout': 0.9} Test Accuracy: 0.662486(0.014236) Time: 189.740610\n",
      "{'beta': 0.001, 'dropout': 0.5} Test Accuracy: 0.740571(0.003271) Time: 191.805197\n",
      "{'beta': 0.001, 'dropout': 0.6} Test Accuracy: 0.735629(0.002906) Time: 192.098683\n",
      "{'beta': 0.001, 'dropout': 0.7} Test Accuracy: 0.727086(0.006813) Time: 194.291296\n",
      "{'beta': 0.001, 'dropout': 0.8} Test Accuracy: 0.718686(0.009165) Time: 198.188421\n",
      "{'beta': 0.001, 'dropout': 0.9} Test Accuracy: 0.667000(0.025840) Time: 198.418832\n",
      "{'beta': 1e-06, 'dropout': 0.5} Test Accuracy: 0.733943(0.005246) Time: 198.584741\n",
      "{'beta': 1e-06, 'dropout': 0.6} Test Accuracy: 0.733829(0.004926) Time: 196.248902\n",
      "{'beta': 1e-06, 'dropout': 0.7} Test Accuracy: 0.729400(0.009248) Time: 195.625519\n",
      "{'beta': 1e-06, 'dropout': 0.8} Test Accuracy: 0.713857(0.008277) Time: 195.898225\n",
      "{'beta': 1e-06, 'dropout': 0.9} Test Accuracy: 0.665514(0.034993) Time: 196.239853\n",
      "{'beta': 1e-09, 'dropout': 0.5} Test Accuracy: 0.739000(0.004823) Time: 194.349186\n",
      "{'beta': 1e-09, 'dropout': 0.6} Test Accuracy: 0.736314(0.002957) Time: 196.334390\n",
      "{'beta': 1e-09, 'dropout': 0.7} Test Accuracy: 0.727800(0.007829) Time: 197.035862\n",
      "{'beta': 1e-09, 'dropout': 0.8} Test Accuracy: 0.714457(0.010627) Time: 191.501510\n",
      "{'beta': 1e-09, 'dropout': 0.9} Test Accuracy: 0.634086(0.068779) Time: 191.603118\n",
      "{'beta': 1e-12, 'dropout': 0.5} Test Accuracy: 0.741000(0.003408) Time: 190.811501\n",
      "{'beta': 1e-12, 'dropout': 0.6} Test Accuracy: 0.734857(0.005768) Time: 192.113490\n",
      "{'beta': 1e-12, 'dropout': 0.7} Test Accuracy: 0.725714(0.006391) Time: 190.737908\n",
      "{'beta': 1e-12, 'dropout': 0.8} Test Accuracy: 0.707486(0.018421) Time: 190.408622\n",
      "{'beta': 1e-12, 'dropout': 0.9} Test Accuracy: 0.682429(0.010123) Time: 173.640767\n"
     ]
    }
   ],
   "source": [
    "#wrap keras model\n",
    "model = KerasClassifier(build_fn=create_model, epochs=epochs, batch_size=batch_size, verbose=2)\n",
    "\n",
    "#define search space for weight decay param and dropout rate\n",
    "beta = [0, 1E-3, 1E-6, 1E-9, 1E-12]\n",
    "dropout = [0.5, 0.6, 0.7, 0.8, 0.9]\n",
    "\n",
    "#gridsearch for different combinations of beta and dropout\n",
    "param_grid = dict(beta=beta, dropout=dropout)\n",
    "grid = GridSearchCV(estimator=model, param_grid=param_grid, n_jobs=-1, cv=5, verbose=1)\n",
    "grid_result = grid.fit(X_train, Y_train)\n",
    "\n",
    "#print results\n",
    "print('Best Mean Test Accuracy: %f %s'% (grid_result.best_score_, grid_result.best_params_))\n",
    "means = grid_result.cv_results_['mean_test_score']\n",
    "stds = grid_result.cv_results_['std_test_score']\n",
    "mean_time = grid_result.cv_results_['mean_fit_time']\n",
    "params = grid_result.cv_results_['params']\n",
    "for mean, stdev, time, param in zip(means, stds, mean_time, params):\n",
    "    print(\"%r Test Accuracy: %f(%f) Time: %f\" % (param, mean, stdev, time))"
   ]
  },
  {
   "cell_type": "markdown",
   "metadata": {
    "id": "9qhoYHbqN_Yt"
   },
   "source": [
    "# Train model with optimal weight decay = 1e-12, dropout = 0.5"
   ]
  },
  {
   "cell_type": "code",
   "execution_count": null,
   "metadata": {
    "id": "zS41cZybN4VU"
   },
   "outputs": [],
   "source": [
    "#define params for model\n",
    "NUM_CLASSES = 1 #positive or negative\n",
    "\n",
    "epochs = 100\n",
    "\n",
    "lr = 1e-5 #optimal learning rate\n",
    "beta = 1e-12 #optimal weight decay param\n",
    "batch_size = 64 #optimal\n",
    "hidden_neurons = 10"
   ]
  },
  {
   "cell_type": "code",
   "execution_count": null,
   "metadata": {
    "id": "4UyNzu5vURVb"
   },
   "outputs": [],
   "source": [
    "#create model\n",
    "def create_model():\n",
    "    model = Sequential()\n",
    "    embedding_layer = Embedding(vocab_size, 100, weights = [embedding_matrix], \n",
    "                                input_length = maxlen, trainable = False)\n",
    "    model.add(embedding_layer)\n",
    "    #flatten embedded layers output to to 1 dimension\n",
    "    model.add(Flatten())\n",
    "    \n",
    "    #add dropout\n",
    "    model.add(Dropout(0.5))\n",
    "    #one hidden layer with 10 hidden neurons, relu activation, l2 regulariation\n",
    "    #output layer with 1 neuron, sigmoid activation, l2 regularisation\n",
    "    model.add(Dense(hidden_neurons, activation = 'relu', kernel_regularizer=l2(beta)))\n",
    "    model.add(Dense(NUM_CLASSES, activation = 'sigmoid', kernel_regularizer=l2(beta)))\n",
    "    \n",
    "    optimizer = keras.optimizers.Adam(learning_rate=lr)\n",
    "    \n",
    "    model.compile(optimizer = optimizer,\n",
    "                 loss = 'binary_crossentropy',\n",
    "                 metrics=['accuracy'])\n",
    "   \n",
    "    return model"
   ]
  },
  {
   "cell_type": "code",
   "execution_count": null,
   "metadata": {
    "colab": {
     "base_uri": "https://localhost:8080/"
    },
    "executionInfo": {
     "elapsed": 205657,
     "status": "ok",
     "timestamp": 1606041621363,
     "user": {
      "displayName": "Wan Ting Wong",
      "photoUrl": "",
      "userId": "10706324018856459819"
     },
     "user_tz": -480
    },
    "id": "CdSSPI0QN5un",
    "outputId": "e4f7e9d8-0f63-48d5-ffe1-03c6279acabe"
   },
   "outputs": [
    {
     "name": "stdout",
     "output_type": "stream",
     "text": [
      "Epoch 1/100\n",
      "547/547 - 2s - loss: 0.7210 - accuracy: 0.5027 - val_loss: 0.6937 - val_accuracy: 0.5043\n",
      "Epoch 2/100\n",
      "547/547 - 2s - loss: 0.6964 - accuracy: 0.5053 - val_loss: 0.6933 - val_accuracy: 0.4965\n",
      "Epoch 3/100\n",
      "547/547 - 2s - loss: 0.6935 - accuracy: 0.5193 - val_loss: 0.6931 - val_accuracy: 0.5061\n",
      "Epoch 4/100\n",
      "547/547 - 2s - loss: 0.6921 - accuracy: 0.5240 - val_loss: 0.6926 - val_accuracy: 0.5183\n",
      "Epoch 5/100\n",
      "547/547 - 2s - loss: 0.6911 - accuracy: 0.5337 - val_loss: 0.6915 - val_accuracy: 0.5423\n",
      "Epoch 6/100\n",
      "547/547 - 2s - loss: 0.6895 - accuracy: 0.5411 - val_loss: 0.6882 - val_accuracy: 0.5719\n",
      "Epoch 7/100\n",
      "547/547 - 2s - loss: 0.6866 - accuracy: 0.5519 - val_loss: 0.6849 - val_accuracy: 0.5814\n",
      "Epoch 8/100\n",
      "547/547 - 2s - loss: 0.6830 - accuracy: 0.5562 - val_loss: 0.6806 - val_accuracy: 0.5771\n",
      "Epoch 9/100\n",
      "547/547 - 2s - loss: 0.6789 - accuracy: 0.5622 - val_loss: 0.6717 - val_accuracy: 0.5815\n",
      "Epoch 10/100\n",
      "547/547 - 2s - loss: 0.6724 - accuracy: 0.5725 - val_loss: 0.6667 - val_accuracy: 0.5785\n",
      "Epoch 11/100\n",
      "547/547 - 2s - loss: 0.6663 - accuracy: 0.5822 - val_loss: 0.6554 - val_accuracy: 0.6067\n",
      "Epoch 12/100\n",
      "547/547 - 2s - loss: 0.6612 - accuracy: 0.5919 - val_loss: 0.6516 - val_accuracy: 0.6127\n",
      "Epoch 13/100\n",
      "547/547 - 2s - loss: 0.6555 - accuracy: 0.6017 - val_loss: 0.6416 - val_accuracy: 0.6313\n",
      "Epoch 14/100\n",
      "547/547 - 2s - loss: 0.6485 - accuracy: 0.6145 - val_loss: 0.6355 - val_accuracy: 0.6399\n",
      "Epoch 15/100\n",
      "547/547 - 2s - loss: 0.6412 - accuracy: 0.6236 - val_loss: 0.6308 - val_accuracy: 0.6450\n",
      "Epoch 16/100\n",
      "547/547 - 2s - loss: 0.6367 - accuracy: 0.6302 - val_loss: 0.6241 - val_accuracy: 0.6570\n",
      "Epoch 17/100\n",
      "547/547 - 2s - loss: 0.6319 - accuracy: 0.6346 - val_loss: 0.6182 - val_accuracy: 0.6627\n",
      "Epoch 18/100\n",
      "547/547 - 2s - loss: 0.6268 - accuracy: 0.6443 - val_loss: 0.6123 - val_accuracy: 0.6708\n",
      "Epoch 19/100\n",
      "547/547 - 2s - loss: 0.6195 - accuracy: 0.6507 - val_loss: 0.6075 - val_accuracy: 0.6751\n",
      "Epoch 20/100\n",
      "547/547 - 2s - loss: 0.6183 - accuracy: 0.6540 - val_loss: 0.6029 - val_accuracy: 0.6797\n",
      "Epoch 21/100\n",
      "547/547 - 2s - loss: 0.6105 - accuracy: 0.6609 - val_loss: 0.5989 - val_accuracy: 0.6841\n",
      "Epoch 22/100\n",
      "547/547 - 2s - loss: 0.6035 - accuracy: 0.6697 - val_loss: 0.5936 - val_accuracy: 0.6879\n",
      "Epoch 23/100\n",
      "547/547 - 2s - loss: 0.5978 - accuracy: 0.6737 - val_loss: 0.5898 - val_accuracy: 0.6925\n",
      "Epoch 24/100\n",
      "547/547 - 2s - loss: 0.5942 - accuracy: 0.6810 - val_loss: 0.5854 - val_accuracy: 0.6950\n",
      "Epoch 25/100\n",
      "547/547 - 2s - loss: 0.5908 - accuracy: 0.6807 - val_loss: 0.5811 - val_accuracy: 0.6985\n",
      "Epoch 26/100\n",
      "547/547 - 2s - loss: 0.5846 - accuracy: 0.6891 - val_loss: 0.5781 - val_accuracy: 0.7022\n",
      "Epoch 27/100\n",
      "547/547 - 2s - loss: 0.5822 - accuracy: 0.6900 - val_loss: 0.5743 - val_accuracy: 0.7059\n",
      "Epoch 28/100\n",
      "547/547 - 2s - loss: 0.5775 - accuracy: 0.6973 - val_loss: 0.5708 - val_accuracy: 0.7072\n",
      "Epoch 29/100\n",
      "547/547 - 2s - loss: 0.5733 - accuracy: 0.6962 - val_loss: 0.5681 - val_accuracy: 0.7099\n",
      "Epoch 30/100\n",
      "547/547 - 2s - loss: 0.5646 - accuracy: 0.7051 - val_loss: 0.5644 - val_accuracy: 0.7125\n",
      "Epoch 31/100\n",
      "547/547 - 2s - loss: 0.5673 - accuracy: 0.7039 - val_loss: 0.5622 - val_accuracy: 0.7139\n",
      "Epoch 32/100\n",
      "547/547 - 2s - loss: 0.5626 - accuracy: 0.7108 - val_loss: 0.5596 - val_accuracy: 0.7172\n",
      "Epoch 33/100\n",
      "547/547 - 2s - loss: 0.5592 - accuracy: 0.7115 - val_loss: 0.5583 - val_accuracy: 0.7187\n",
      "Epoch 34/100\n",
      "547/547 - 2s - loss: 0.5559 - accuracy: 0.7123 - val_loss: 0.5564 - val_accuracy: 0.7204\n",
      "Epoch 35/100\n",
      "547/547 - 2s - loss: 0.5516 - accuracy: 0.7175 - val_loss: 0.5536 - val_accuracy: 0.7251\n",
      "Epoch 36/100\n",
      "547/547 - 2s - loss: 0.5500 - accuracy: 0.7197 - val_loss: 0.5518 - val_accuracy: 0.7256\n",
      "Epoch 37/100\n",
      "547/547 - 2s - loss: 0.5500 - accuracy: 0.7185 - val_loss: 0.5501 - val_accuracy: 0.7276\n",
      "Epoch 38/100\n",
      "547/547 - 2s - loss: 0.5479 - accuracy: 0.7207 - val_loss: 0.5493 - val_accuracy: 0.7296\n",
      "Epoch 39/100\n",
      "547/547 - 2s - loss: 0.5426 - accuracy: 0.7243 - val_loss: 0.5464 - val_accuracy: 0.7305\n",
      "Epoch 40/100\n",
      "547/547 - 2s - loss: 0.5404 - accuracy: 0.7252 - val_loss: 0.5463 - val_accuracy: 0.7301\n",
      "Epoch 41/100\n",
      "547/547 - 2s - loss: 0.5391 - accuracy: 0.7269 - val_loss: 0.5435 - val_accuracy: 0.7328\n",
      "Epoch 42/100\n",
      "547/547 - 2s - loss: 0.5352 - accuracy: 0.7327 - val_loss: 0.5415 - val_accuracy: 0.7333\n",
      "Epoch 43/100\n",
      "547/547 - 2s - loss: 0.5333 - accuracy: 0.7338 - val_loss: 0.5407 - val_accuracy: 0.7356\n",
      "Epoch 44/100\n",
      "547/547 - 2s - loss: 0.5325 - accuracy: 0.7313 - val_loss: 0.5396 - val_accuracy: 0.7349\n",
      "Epoch 45/100\n",
      "547/547 - 2s - loss: 0.5297 - accuracy: 0.7362 - val_loss: 0.5384 - val_accuracy: 0.7346\n",
      "Epoch 46/100\n",
      "547/547 - 2s - loss: 0.5265 - accuracy: 0.7360 - val_loss: 0.5372 - val_accuracy: 0.7361\n",
      "Epoch 47/100\n",
      "547/547 - 2s - loss: 0.5267 - accuracy: 0.7367 - val_loss: 0.5387 - val_accuracy: 0.7319\n",
      "Epoch 48/100\n",
      "547/547 - 2s - loss: 0.5223 - accuracy: 0.7387 - val_loss: 0.5348 - val_accuracy: 0.7395\n",
      "Epoch 49/100\n",
      "547/547 - 2s - loss: 0.5238 - accuracy: 0.7383 - val_loss: 0.5341 - val_accuracy: 0.7399\n",
      "Epoch 50/100\n",
      "547/547 - 2s - loss: 0.5188 - accuracy: 0.7430 - val_loss: 0.5329 - val_accuracy: 0.7405\n",
      "Epoch 51/100\n",
      "547/547 - 2s - loss: 0.5223 - accuracy: 0.7416 - val_loss: 0.5335 - val_accuracy: 0.7386\n",
      "Epoch 52/100\n",
      "547/547 - 2s - loss: 0.5184 - accuracy: 0.7448 - val_loss: 0.5312 - val_accuracy: 0.7407\n",
      "Epoch 53/100\n",
      "547/547 - 2s - loss: 0.5169 - accuracy: 0.7463 - val_loss: 0.5321 - val_accuracy: 0.7407\n",
      "Epoch 54/100\n",
      "547/547 - 2s - loss: 0.5183 - accuracy: 0.7436 - val_loss: 0.5305 - val_accuracy: 0.7383\n",
      "Epoch 55/100\n",
      "547/547 - 2s - loss: 0.5135 - accuracy: 0.7472 - val_loss: 0.5292 - val_accuracy: 0.7425\n",
      "Epoch 56/100\n",
      "547/547 - 2s - loss: 0.5109 - accuracy: 0.7484 - val_loss: 0.5282 - val_accuracy: 0.7412\n",
      "Epoch 57/100\n",
      "547/547 - 2s - loss: 0.5151 - accuracy: 0.7445 - val_loss: 0.5275 - val_accuracy: 0.7437\n",
      "Epoch 58/100\n",
      "547/547 - 2s - loss: 0.5126 - accuracy: 0.7498 - val_loss: 0.5281 - val_accuracy: 0.7419\n",
      "Epoch 59/100\n",
      "547/547 - 2s - loss: 0.5095 - accuracy: 0.7483 - val_loss: 0.5266 - val_accuracy: 0.7442\n",
      "Epoch 60/100\n",
      "547/547 - 2s - loss: 0.5117 - accuracy: 0.7450 - val_loss: 0.5257 - val_accuracy: 0.7441\n",
      "Epoch 61/100\n",
      "547/547 - 2s - loss: 0.5077 - accuracy: 0.7492 - val_loss: 0.5253 - val_accuracy: 0.7447\n",
      "Epoch 62/100\n",
      "547/547 - 2s - loss: 0.5055 - accuracy: 0.7517 - val_loss: 0.5257 - val_accuracy: 0.7421\n",
      "Epoch 63/100\n",
      "547/547 - 2s - loss: 0.5064 - accuracy: 0.7517 - val_loss: 0.5246 - val_accuracy: 0.7449\n",
      "Epoch 64/100\n",
      "547/547 - 2s - loss: 0.5049 - accuracy: 0.7512 - val_loss: 0.5239 - val_accuracy: 0.7459\n",
      "Epoch 65/100\n",
      "547/547 - 2s - loss: 0.5072 - accuracy: 0.7476 - val_loss: 0.5238 - val_accuracy: 0.7463\n",
      "Epoch 66/100\n",
      "547/547 - 2s - loss: 0.5052 - accuracy: 0.7521 - val_loss: 0.5230 - val_accuracy: 0.7462\n",
      "Epoch 67/100\n",
      "547/547 - 2s - loss: 0.5050 - accuracy: 0.7525 - val_loss: 0.5226 - val_accuracy: 0.7453\n",
      "Epoch 68/100\n",
      "547/547 - 2s - loss: 0.5034 - accuracy: 0.7500 - val_loss: 0.5247 - val_accuracy: 0.7409\n",
      "Epoch 69/100\n",
      "547/547 - 2s - loss: 0.5036 - accuracy: 0.7539 - val_loss: 0.5218 - val_accuracy: 0.7468\n",
      "Epoch 70/100\n",
      "547/547 - 2s - loss: 0.4972 - accuracy: 0.7561 - val_loss: 0.5219 - val_accuracy: 0.7463\n",
      "Epoch 71/100\n",
      "547/547 - 2s - loss: 0.5035 - accuracy: 0.7513 - val_loss: 0.5216 - val_accuracy: 0.7458\n",
      "Epoch 72/100\n",
      "547/547 - 2s - loss: 0.4979 - accuracy: 0.7554 - val_loss: 0.5210 - val_accuracy: 0.7449\n",
      "Epoch 73/100\n",
      "547/547 - 2s - loss: 0.5012 - accuracy: 0.7553 - val_loss: 0.5207 - val_accuracy: 0.7461\n",
      "Epoch 74/100\n",
      "547/547 - 2s - loss: 0.4991 - accuracy: 0.7557 - val_loss: 0.5210 - val_accuracy: 0.7457\n",
      "Epoch 75/100\n",
      "547/547 - 2s - loss: 0.5001 - accuracy: 0.7547 - val_loss: 0.5204 - val_accuracy: 0.7461\n",
      "Epoch 76/100\n",
      "547/547 - 2s - loss: 0.4964 - accuracy: 0.7591 - val_loss: 0.5199 - val_accuracy: 0.7461\n",
      "Epoch 77/100\n",
      "547/547 - 2s - loss: 0.4963 - accuracy: 0.7587 - val_loss: 0.5202 - val_accuracy: 0.7473\n",
      "Epoch 78/100\n",
      "547/547 - 2s - loss: 0.4966 - accuracy: 0.7569 - val_loss: 0.5192 - val_accuracy: 0.7467\n",
      "Epoch 79/100\n",
      "547/547 - 2s - loss: 0.4969 - accuracy: 0.7551 - val_loss: 0.5204 - val_accuracy: 0.7448\n",
      "Epoch 80/100\n",
      "547/547 - 2s - loss: 0.4917 - accuracy: 0.7609 - val_loss: 0.5187 - val_accuracy: 0.7464\n",
      "Epoch 81/100\n",
      "547/547 - 2s - loss: 0.4950 - accuracy: 0.7586 - val_loss: 0.5190 - val_accuracy: 0.7482\n",
      "Epoch 82/100\n",
      "547/547 - 2s - loss: 0.4925 - accuracy: 0.7587 - val_loss: 0.5191 - val_accuracy: 0.7462\n",
      "Epoch 83/100\n",
      "547/547 - 2s - loss: 0.4932 - accuracy: 0.7585 - val_loss: 0.5180 - val_accuracy: 0.7477\n",
      "Epoch 84/100\n",
      "547/547 - 2s - loss: 0.4943 - accuracy: 0.7585 - val_loss: 0.5182 - val_accuracy: 0.7483\n",
      "Epoch 85/100\n",
      "547/547 - 2s - loss: 0.4927 - accuracy: 0.7595 - val_loss: 0.5185 - val_accuracy: 0.7472\n",
      "Epoch 86/100\n",
      "547/547 - 2s - loss: 0.4936 - accuracy: 0.7587 - val_loss: 0.5176 - val_accuracy: 0.7480\n",
      "Epoch 87/100\n",
      "547/547 - 2s - loss: 0.4915 - accuracy: 0.7620 - val_loss: 0.5176 - val_accuracy: 0.7478\n",
      "Epoch 88/100\n",
      "547/547 - 2s - loss: 0.4908 - accuracy: 0.7617 - val_loss: 0.5172 - val_accuracy: 0.7482\n",
      "Epoch 89/100\n",
      "547/547 - 2s - loss: 0.4898 - accuracy: 0.7616 - val_loss: 0.5195 - val_accuracy: 0.7422\n",
      "Epoch 90/100\n",
      "547/547 - 2s - loss: 0.4922 - accuracy: 0.7605 - val_loss: 0.5173 - val_accuracy: 0.7473\n",
      "Epoch 91/100\n",
      "547/547 - 2s - loss: 0.4901 - accuracy: 0.7597 - val_loss: 0.5177 - val_accuracy: 0.7469\n",
      "Epoch 92/100\n",
      "547/547 - 2s - loss: 0.4880 - accuracy: 0.7640 - val_loss: 0.5171 - val_accuracy: 0.7479\n",
      "Epoch 93/100\n",
      "547/547 - 2s - loss: 0.4907 - accuracy: 0.7654 - val_loss: 0.5163 - val_accuracy: 0.7478\n",
      "Epoch 94/100\n",
      "547/547 - 2s - loss: 0.4865 - accuracy: 0.7641 - val_loss: 0.5160 - val_accuracy: 0.7479\n",
      "Epoch 95/100\n",
      "547/547 - 2s - loss: 0.4895 - accuracy: 0.7622 - val_loss: 0.5161 - val_accuracy: 0.7473\n",
      "Epoch 96/100\n",
      "547/547 - 2s - loss: 0.4874 - accuracy: 0.7653 - val_loss: 0.5163 - val_accuracy: 0.7467\n",
      "Epoch 97/100\n",
      "547/547 - 2s - loss: 0.4878 - accuracy: 0.7649 - val_loss: 0.5165 - val_accuracy: 0.7469\n",
      "Epoch 98/100\n",
      "547/547 - 2s - loss: 0.4873 - accuracy: 0.7649 - val_loss: 0.5157 - val_accuracy: 0.7475\n",
      "Epoch 99/100\n",
      "547/547 - 2s - loss: 0.4849 - accuracy: 0.7651 - val_loss: 0.5157 - val_accuracy: 0.7491\n",
      "Epoch 100/100\n",
      "547/547 - 2s - loss: 0.4886 - accuracy: 0.7620 - val_loss: 0.5161 - val_accuracy: 0.7462\n"
     ]
    }
   ],
   "source": [
    "#train model\n",
    "model = create_model()\n",
    "history = model.fit(X_train, Y_train,\n",
    "                    epochs = epochs,\n",
    "                    verbose = 2,\n",
    "                    batch_size = batch_size,\n",
    "                    validation_data = (X_test, Y_test)\n",
    "                   )"
   ]
  },
  {
   "cell_type": "code",
   "execution_count": null,
   "metadata": {
    "colab": {
     "base_uri": "https://localhost:8080/",
     "height": 295
    },
    "executionInfo": {
     "elapsed": 2258,
     "status": "ok",
     "timestamp": 1606042341526,
     "user": {
      "displayName": "Wan Ting Wong",
      "photoUrl": "",
      "userId": "10706324018856459819"
     },
     "user_tz": -480
    },
    "id": "kd50CdJG6nkF",
    "outputId": "b757c7cc-4816-4c5d-e3a7-00f4ed56caaa"
   },
   "outputs": [
    {
     "data": {
      "image/png": "[encoded data removed]",
      "text/plain": [
       "<Figure size 432x288 with 1 Axes>"
      ]
     },
     "metadata": {
      "needs_background": "light",
      "tags": []
     },
     "output_type": "display_data"
    }
   ],
   "source": [
    "#Summarize history for accuracy\n",
    "import matplotlib.pyplot as plt\n",
    "plt.plot(history.history['accuracy'], label='Train Accuracy')\n",
    "plt.plot(history.history['val_accuracy'], label='Test Accuracy')\n",
    "plt.title('Train and Test Accuracies')\n",
    "plt.ylabel('Accuracy')\n",
    "plt.xlabel('Epoch')\n",
    "plt.legend(loc=\"lower right\")\n",
    "plt.show()"
   ]
  },
  {
   "cell_type": "code",
   "execution_count": null,
   "metadata": {
    "colab": {
     "base_uri": "https://localhost:8080/"
    },
    "executionInfo": {
     "elapsed": 1064,
     "status": "ok",
     "timestamp": 1606041726341,
     "user": {
      "displayName": "Wan Ting Wong",
      "photoUrl": "",
      "userId": "10706324018856459819"
     },
     "user_tz": -480
    },
    "id": "gVK0_S6keRFP",
    "outputId": "848021d1-6f8e-486a-cd87-12cf3dfe0040"
   },
   "outputs": [
    {
     "name": "stdout",
     "output_type": "stream",
     "text": [
      "Max Test Accuracy:  0.7490666508674622\n"
     ]
    }
   ],
   "source": [
    "#get max test accuracy\n",
    "print(\"Max Test Accuracy: \", np.max(test_acc))"
   ]
  }
 ],
 "metadata": {
  "accelerator": "GPU",
  "colab": {
   "collapsed_sections": [],
   "name": "Simple NN - weight decay, dropout.ipynb",
   "provenance": [
    {
     "file_id": "1jn3bNZxQRmIqsYE_gUY_aHcsVvflbUI7",
     "timestamp": 1605893466807
    },
    {
     "file_id": "1grnCLMpkMez_cDFxNFjuuDToexZtt-66",
     "timestamp": 1605885556058
    },
    {
     "file_id": "18vQ4secSITqXWpvd0ZsFTLo9730IHhYY",
     "timestamp": 1605840997417
    }
   ]
  },
  "kernelspec": {
   "display_name": "Python 3",
   "language": "python",
   "name": "python3"
  },
  "language_info": {
   "codemirror_mode": {
    "name": "ipython",
    "version": 3
   },
   "file_extension": ".py",
   "mimetype": "text/x-python",
   "name": "python",
   "nbconvert_exporter": "python",
   "pygments_lexer": "ipython3",
   "version": "3.6.9"
  }
 },
 "nbformat": 4,
 "nbformat_minor": 1
}
