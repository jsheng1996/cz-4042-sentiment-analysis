{
 "cells": [
  {
   "cell_type": "markdown",
   "metadata": {
    "id": "D3PJfRkjnsKP"
   },
   "source": [
    "# Data Preprocessing"
   ]
  },
  {
   "cell_type": "code",
   "execution_count": null,
   "metadata": {
    "id": "MPngYgnQnsKQ"
   },
   "outputs": [],
   "source": [
    "#Importing packages for necessary purposes\n",
    "\n",
    "import numpy as np\n",
    "import keras \n",
    "import pandas as pd\n",
    "import tensorflow as tf\n",
    "import re\n",
    "import nltk\n",
    "\n",
    "from numpy import array\n",
    "from numpy import asarray\n",
    "from numpy import zeros\n",
    "from keras.preprocessing.text import one_hot\n",
    "from keras.preprocessing.sequence import pad_sequences\n",
    "from keras.models import Sequential\n",
    "from keras.layers.core import Activation, Dropout, Dense\n",
    "from keras.layers import Flatten\n",
    "from keras.layers import GlobalMaxPooling1D\n",
    "from keras.layers.embeddings import Embedding\n",
    "from sklearn.model_selection import train_test_split\n",
    "from keras.preprocessing.text import Tokenizer\n",
    "from nltk.corpus import stopwords\n",
    "from keras.regularizers import l2\n"
   ]
  },
  {
   "cell_type": "code",
   "execution_count": null,
   "metadata": {
    "colab": {
     "base_uri": "https://localhost:8080/",
     "height": 376
    },
    "executionInfo": {
     "elapsed": 7256,
     "status": "ok",
     "timestamp": 1606026261274,
     "user": {
      "displayName": "Wan Ting Wong",
      "photoUrl": "",
      "userId": "10706324018856459819"
     },
     "user_tz": -480
    },
    "id": "meFn1A3ansKQ",
    "outputId": "39a78b3b-2b7c-4a41-ec40-b9d1847cfb6a"
   },
   "outputs": [
    {
     "name": "stdout",
     "output_type": "stream",
     "text": [
      "(50000, 2)\n"
     ]
    },
    {
     "data": {
      "text/html": [
       "<div>\n",
       "<style scoped>\n",
       "    .dataframe tbody tr th:only-of-type {\n",
       "        vertical-align: middle;\n",
       "    }\n",
       "\n",
       "    .dataframe tbody tr th {\n",
       "        vertical-align: top;\n",
       "    }\n",
       "\n",
       "    .dataframe thead th {\n",
       "        text-align: right;\n",
       "    }\n",
       "</style>\n",
       "<table border=\"1\" class=\"dataframe\">\n",
       "  <thead>\n",
       "    <tr style=\"text-align: right;\">\n",
       "      <th></th>\n",
       "      <th>review</th>\n",
       "      <th>sentiment</th>\n",
       "    </tr>\n",
       "  </thead>\n",
       "  <tbody>\n",
       "    <tr>\n",
       "      <th>0</th>\n",
       "      <td>One of the other reviewers has mentioned that ...</td>\n",
       "      <td>positive</td>\n",
       "    </tr>\n",
       "    <tr>\n",
       "      <th>1</th>\n",
       "      <td>A wonderful little production. &lt;br /&gt;&lt;br /&gt;The...</td>\n",
       "      <td>positive</td>\n",
       "    </tr>\n",
       "    <tr>\n",
       "      <th>2</th>\n",
       "      <td>I thought this was a wonderful way to spend ti...</td>\n",
       "      <td>positive</td>\n",
       "    </tr>\n",
       "    <tr>\n",
       "      <th>3</th>\n",
       "      <td>Basically there's a family where a little boy ...</td>\n",
       "      <td>negative</td>\n",
       "    </tr>\n",
       "    <tr>\n",
       "      <th>4</th>\n",
       "      <td>Petter Mattei's \"Love in the Time of Money\" is...</td>\n",
       "      <td>positive</td>\n",
       "    </tr>\n",
       "    <tr>\n",
       "      <th>5</th>\n",
       "      <td>Probably my all-time favorite movie, a story o...</td>\n",
       "      <td>positive</td>\n",
       "    </tr>\n",
       "    <tr>\n",
       "      <th>6</th>\n",
       "      <td>I sure would like to see a resurrection of a u...</td>\n",
       "      <td>positive</td>\n",
       "    </tr>\n",
       "    <tr>\n",
       "      <th>7</th>\n",
       "      <td>This show was an amazing, fresh &amp; innovative i...</td>\n",
       "      <td>negative</td>\n",
       "    </tr>\n",
       "    <tr>\n",
       "      <th>8</th>\n",
       "      <td>Encouraged by the positive comments about this...</td>\n",
       "      <td>negative</td>\n",
       "    </tr>\n",
       "    <tr>\n",
       "      <th>9</th>\n",
       "      <td>If you like original gut wrenching laughter yo...</td>\n",
       "      <td>positive</td>\n",
       "    </tr>\n",
       "  </tbody>\n",
       "</table>\n",
       "</div>"
      ],
      "text/plain": [
       "                                              review sentiment\n",
       "0  One of the other reviewers has mentioned that ...  positive\n",
       "1  A wonderful little production. <br /><br />The...  positive\n",
       "2  I thought this was a wonderful way to spend ti...  positive\n",
       "3  Basically there's a family where a little boy ...  negative\n",
       "4  Petter Mattei's \"Love in the Time of Money\" is...  positive\n",
       "5  Probably my all-time favorite movie, a story o...  positive\n",
       "6  I sure would like to see a resurrection of a u...  positive\n",
       "7  This show was an amazing, fresh & innovative i...  negative\n",
       "8  Encouraged by the positive comments about this...  negative\n",
       "9  If you like original gut wrenching laughter yo...  positive"
      ]
     },
     "execution_count": 4,
     "metadata": {
      "tags": []
     },
     "output_type": "execute_result"
    }
   ],
   "source": [
    "#Importing data\n",
    "imdb_data = pd.read_csv('IMDB Dataset.csv')\n",
    "imdb_data.isnull().values.any()\n",
    "print (imdb_data.shape)\n",
    "imdb_data.head(10)"
   ]
  },
  {
   "cell_type": "code",
   "execution_count": null,
   "metadata": {
    "colab": {
     "base_uri": "https://localhost:8080/",
     "height": 205
    },
    "executionInfo": {
     "elapsed": 1347,
     "status": "ok",
     "timestamp": 1606026269395,
     "user": {
      "displayName": "Wan Ting Wong",
      "photoUrl": "",
      "userId": "10706324018856459819"
     },
     "user_tz": -480
    },
    "id": "-SzeuK6RnsKS",
    "outputId": "0129f72f-49a7-46d3-d854-13214b10d929"
   },
   "outputs": [
    {
     "data": {
      "application/vnd.google.colaboratory.intrinsic+json": {
       "type": "string"
      },
      "text/plain": [
       "'A wonderful little production. <br /><br />The filming technique is very unassuming- very old-time-BBC fashion and gives a comforting, and sometimes discomforting, sense of realism to the entire piece. <br /><br />The actors are extremely well chosen- Michael Sheen not only \"has got all the polari\" but he has all the voices down pat too! You can truly see the seamless editing guided by the references to Williams\\' diary entries, not only is it well worth the watching but it is a terrificly written and performed piece. A masterful production about one of the great master\\'s of comedy and his life. <br /><br />The realism really comes home with the little things: the fantasy of the guard which, rather than use the traditional \\'dream\\' techniques remains solid then disappears. It plays on our knowledge and our senses, particularly with the scenes concerning Orton and Halliwell and the sets (particularly of their flat with Halliwell\\'s murals decorating every surface) are terribly well done.'"
      ]
     },
     "execution_count": 5,
     "metadata": {
      "tags": []
     },
     "output_type": "execute_result"
    }
   ],
   "source": [
    "#Looking at the reviews\n",
    "imdb_data[\"review\"][1]"
   ]
  },
  {
   "cell_type": "code",
   "execution_count": null,
   "metadata": {
    "colab": {
     "base_uri": "https://localhost:8080/",
     "height": 173
    },
    "executionInfo": {
     "elapsed": 1756,
     "status": "ok",
     "timestamp": 1606026271066,
     "user": {
      "displayName": "Wan Ting Wong",
      "photoUrl": "",
      "userId": "10706324018856459819"
     },
     "user_tz": -480
    },
    "id": "DjQofHHtnsKT",
    "outputId": "7ac8e6c7-4427-4087-cfef-482a137a3515"
   },
   "outputs": [
    {
     "data": {
      "text/html": [
       "<div>\n",
       "<style scoped>\n",
       "    .dataframe tbody tr th:only-of-type {\n",
       "        vertical-align: middle;\n",
       "    }\n",
       "\n",
       "    .dataframe tbody tr th {\n",
       "        vertical-align: top;\n",
       "    }\n",
       "\n",
       "    .dataframe thead th {\n",
       "        text-align: right;\n",
       "    }\n",
       "</style>\n",
       "<table border=\"1\" class=\"dataframe\">\n",
       "  <thead>\n",
       "    <tr style=\"text-align: right;\">\n",
       "      <th></th>\n",
       "      <th>review</th>\n",
       "      <th>sentiment</th>\n",
       "    </tr>\n",
       "  </thead>\n",
       "  <tbody>\n",
       "    <tr>\n",
       "      <th>count</th>\n",
       "      <td>50000</td>\n",
       "      <td>50000</td>\n",
       "    </tr>\n",
       "    <tr>\n",
       "      <th>unique</th>\n",
       "      <td>49582</td>\n",
       "      <td>2</td>\n",
       "    </tr>\n",
       "    <tr>\n",
       "      <th>top</th>\n",
       "      <td>Loved today's show!!! It was a variety and not...</td>\n",
       "      <td>positive</td>\n",
       "    </tr>\n",
       "    <tr>\n",
       "      <th>freq</th>\n",
       "      <td>5</td>\n",
       "      <td>25000</td>\n",
       "    </tr>\n",
       "  </tbody>\n",
       "</table>\n",
       "</div>"
      ],
      "text/plain": [
       "                                                   review sentiment\n",
       "count                                               50000     50000\n",
       "unique                                              49582         2\n",
       "top     Loved today's show!!! It was a variety and not...  positive\n",
       "freq                                                    5     25000"
      ]
     },
     "execution_count": 6,
     "metadata": {
      "tags": []
     },
     "output_type": "execute_result"
    }
   ],
   "source": [
    "#Summary of the dataset\n",
    "imdb_data.describe()"
   ]
  },
  {
   "cell_type": "code",
   "execution_count": null,
   "metadata": {
    "colab": {
     "base_uri": "https://localhost:8080/"
    },
    "executionInfo": {
     "elapsed": 1883,
     "status": "ok",
     "timestamp": 1606026273203,
     "user": {
      "displayName": "Wan Ting Wong",
      "photoUrl": "",
      "userId": "10706324018856459819"
     },
     "user_tz": -480
    },
    "id": "eu8HyFuWnsKT",
    "outputId": "e661d6a2-a76a-4392-dfbd-04008872dcc2"
   },
   "outputs": [
    {
     "data": {
      "text/plain": [
       "positive    25000\n",
       "negative    25000\n",
       "Name: sentiment, dtype: int64"
      ]
     },
     "execution_count": 7,
     "metadata": {
      "tags": []
     },
     "output_type": "execute_result"
    }
   ],
   "source": [
    "#sentiment count\n",
    "imdb_data['sentiment'].value_counts()"
   ]
  },
  {
   "cell_type": "code",
   "execution_count": null,
   "metadata": {
    "id": "scVpgd0HnsKT"
   },
   "outputs": [],
   "source": [
    "#cleaning reviews\n",
    "def review_text(sen):\n",
    "    # Removing html tags\n",
    "    sentence = remove_tags(sen)\n",
    "\n",
    "    # Remove punctuations and numbers\n",
    "    sentence = re.sub('[^a-zA-Z]', ' ', sentence)\n",
    "\n",
    "    # Single character removal\n",
    "    sentence = re.sub(r\"\\s+[a-zA-Z]\\s+\", ' ', sentence)\n",
    "\n",
    "    # Removing multiple spaces\n",
    "    sentence = re.sub(r'\\s+', ' ', sentence)\n",
    "\n",
    "    return sentence"
   ]
  },
  {
   "cell_type": "code",
   "execution_count": null,
   "metadata": {
    "id": "qSu5KmoYnsKT"
   },
   "outputs": [],
   "source": [
    "TAG_RE = re.compile(r'<[^>]+>')\n",
    "\n",
    "def remove_tags(text):\n",
    "    return TAG_RE.sub('', text)"
   ]
  },
  {
   "cell_type": "code",
   "execution_count": null,
   "metadata": {
    "id": "kwE9_xmgnsKU"
   },
   "outputs": [],
   "source": [
    "X = []\n",
    "sentences = list(imdb_data['review'])\n",
    "for sen in sentences:\n",
    "    X.append(review_text(sen))"
   ]
  },
  {
   "cell_type": "code",
   "execution_count": null,
   "metadata": {
    "colab": {
     "base_uri": "https://localhost:8080/",
     "height": 188
    },
    "executionInfo": {
     "elapsed": 5376,
     "status": "ok",
     "timestamp": 1606026285533,
     "user": {
      "displayName": "Wan Ting Wong",
      "photoUrl": "",
      "userId": "10706324018856459819"
     },
     "user_tz": -480
    },
    "id": "Gcvlz5hSnsKU",
    "outputId": "20a4e378-3ffb-4aa6-d3bb-8a97191853bc"
   },
   "outputs": [
    {
     "data": {
      "application/vnd.google.colaboratory.intrinsic+json": {
       "type": "string"
      },
      "text/plain": [
       "'A wonderful little production The filming technique is very unassuming very old time BBC fashion and gives comforting and sometimes discomforting sense of realism to the entire piece The actors are extremely well chosen Michael Sheen not only has got all the polari but he has all the voices down pat too You can truly see the seamless editing guided by the references to Williams diary entries not only is it well worth the watching but it is terrificly written and performed piece masterful production about one of the great master of comedy and his life The realism really comes home with the little things the fantasy of the guard which rather than use the traditional dream techniques remains solid then disappears It plays on our knowledge and our senses particularly with the scenes concerning Orton and Halliwell and the sets particularly of their flat with Halliwell murals decorating every surface are terribly well done '"
      ]
     },
     "execution_count": 11,
     "metadata": {
      "tags": []
     },
     "output_type": "execute_result"
    }
   ],
   "source": [
    "X[1]"
   ]
  },
  {
   "cell_type": "code",
   "execution_count": null,
   "metadata": {
    "id": "24Vrr0mgnsKU"
   },
   "outputs": [],
   "source": [
    "#converting positive to 1 and negative to 0\n",
    "Y = imdb_data['sentiment']\n",
    "\n",
    "Y = np.array(list(map(lambda x: 1 if x==\"positive\" else 0, Y)))"
   ]
  },
  {
   "cell_type": "code",
   "execution_count": null,
   "metadata": {
    "id": "hSEaxQM0nsKU"
   },
   "outputs": [],
   "source": [
    "seed=42\n",
    "np.random.seed(seed)"
   ]
  },
  {
   "cell_type": "code",
   "execution_count": null,
   "metadata": {
    "id": "UpYki29bnsKU"
   },
   "outputs": [],
   "source": [
    "#shuffle data\n",
    "idx = np.arange(len(X))\n",
    "np.random.shuffle(idx)\n",
    "X_temp, Y_train = np.array(X)[idx], Y[idx]\n",
    "X_train = []\n",
    "for sen in X_temp:\n",
    "    X_train.append(sen)"
   ]
  },
  {
   "cell_type": "code",
   "execution_count": null,
   "metadata": {
    "colab": {
     "base_uri": "https://localhost:8080/"
    },
    "executionInfo": {
     "elapsed": 5676,
     "status": "ok",
     "timestamp": 1606026297611,
     "user": {
      "displayName": "Wan Ting Wong",
      "photoUrl": "",
      "userId": "10706324018856459819"
     },
     "user_tz": -480
    },
    "id": "3YIg8ALjnsKU",
    "outputId": "c4b3e97d-2fc7-4929-e80d-8d06997869f5"
   },
   "outputs": [
    {
     "name": "stdout",
     "output_type": "stream",
     "text": [
      "35000\n",
      "15000\n"
     ]
    }
   ],
   "source": [
    "#splitting the data into 70:30 train:test\n",
    "X_train, X_test, Y_train, Y_test = train_test_split(X_train, Y_train, test_size=0.30, random_state=42)\n",
    "# X_train, X_test, Y_train, Y_test = train_test_split(X, Y, test_size=0.30, random_state=42)\n",
    "print(len(X_train))\n",
    "print(len(X_test))"
   ]
  },
  {
   "cell_type": "code",
   "execution_count": null,
   "metadata": {
    "id": "gAG7M_W1nsKU"
   },
   "outputs": [],
   "source": [
    "#Tokenization of text\n",
    "tokenizer = Tokenizer(num_words=5000)\n",
    "tokenizer.fit_on_texts(X_train)\n",
    "\n",
    "X_train = tokenizer.texts_to_sequences(X_train)\n",
    "X_test = tokenizer.texts_to_sequences(X_test)"
   ]
  },
  {
   "cell_type": "code",
   "execution_count": null,
   "metadata": {
    "id": "xy0SkXxxnsKU"
   },
   "outputs": [],
   "source": [
    "#X_train"
   ]
  },
  {
   "cell_type": "code",
   "execution_count": null,
   "metadata": {
    "id": "DsFiHkGpnsKU"
   },
   "outputs": [],
   "source": [
    "# Adding 1 because of reserved 0 index\n",
    "vocab_size = len(tokenizer.word_index) + 1\n",
    "\n",
    "#cutoff word length per review\n",
    "maxlen = 100\n",
    "\n",
    "X_train = pad_sequences(X_train, padding='post', maxlen=maxlen)\n",
    "X_test = pad_sequences(X_test, padding='post', maxlen=maxlen)"
   ]
  },
  {
   "cell_type": "code",
   "execution_count": null,
   "metadata": {
    "id": "dgdiQk52nsKV"
   },
   "outputs": [],
   "source": [
    "#X_test"
   ]
  },
  {
   "cell_type": "code",
   "execution_count": null,
   "metadata": {
    "colab": {
     "base_uri": "https://localhost:8080/"
    },
    "executionInfo": {
     "elapsed": 8011,
     "status": "ok",
     "timestamp": 1606026312127,
     "user": {
      "displayName": "Wan Ting Wong",
      "photoUrl": "",
      "userId": "10706324018856459819"
     },
     "user_tz": -480
    },
    "id": "S2VMj0dInsKV",
    "outputId": "b066a839-71b1-4ee5-ea0c-73e2666648a5"
   },
   "outputs": [
    {
     "data": {
      "text/plain": [
       "87633"
      ]
     },
     "execution_count": 18,
     "metadata": {
      "tags": []
     },
     "output_type": "execute_result"
    }
   ],
   "source": [
    "vocab_size"
   ]
  },
  {
   "cell_type": "code",
   "execution_count": null,
   "metadata": {
    "id": "NZQFzvCMnsKV"
   },
   "outputs": [],
   "source": [
    "#dictionary\n",
    "embeddings_dictionary = dict()\n",
    "glove_file = open('glove.6B.100d.txt', encoding=\"utf8\")\n",
    "\n",
    "for line in glove_file:\n",
    "    records = line.split()\n",
    "    word = records[0]\n",
    "    vector_dimensions = asarray(records[1:], dtype='float32')\n",
    "    embeddings_dictionary [word] = vector_dimensions\n",
    "glove_file.close()"
   ]
  },
  {
   "cell_type": "code",
   "execution_count": null,
   "metadata": {
    "id": "PJ7C3dyYnsKV"
   },
   "outputs": [],
   "source": [
    "#embeddings_dictionary"
   ]
  },
  {
   "cell_type": "code",
   "execution_count": null,
   "metadata": {
    "id": "4RKI3jasnsKV"
   },
   "outputs": [],
   "source": [
    "embedding_matrix = zeros((vocab_size, 100))\n",
    "for word, index in tokenizer.word_index.items():\n",
    "    embedding_vector = embeddings_dictionary.get(word)\n",
    "    if embedding_vector is not None:\n",
    "        embedding_matrix[index] = embedding_vector"
   ]
  },
  {
   "cell_type": "code",
   "execution_count": null,
   "metadata": {
    "id": "4UXClAZDnsKV"
   },
   "outputs": [],
   "source": [
    "#embedding_matrix"
   ]
  },
  {
   "cell_type": "markdown",
   "metadata": {
    "id": "nn1leu6-nsKV"
   },
   "source": [
    "# Training with a simple neural network"
   ]
  },
  {
   "cell_type": "code",
   "execution_count": null,
   "metadata": {
    "id": "0MShT7hHnsKV"
   },
   "outputs": [],
   "source": [
    "#define params for model\n",
    "NUM_CLASSES = 1 #positive or negative\n",
    "\n",
    "epochs = 100\n",
    "\n",
    "lr = 0.001 #learning rate\n",
    "beta = 1e-9 #weight decay param\n",
    "batch_size = 128\n",
    "hidden_neurons = 10"
   ]
  },
  {
   "cell_type": "code",
   "execution_count": null,
   "metadata": {
    "id": "C7ttmKRTk8rO"
   },
   "outputs": [],
   "source": [
    "#create starting model\n",
    "def create_model():\n",
    "    model = Sequential()\n",
    "    embedding_layer = Embedding(vocab_size, 100, weights = [embedding_matrix], \n",
    "                                input_length = maxlen, trainable = False)\n",
    "    model.add(embedding_layer)\n",
    "    #flatten embedded layers output to to 1 dimension\n",
    "    model.add(Flatten())\n",
    "    \n",
    "    #one hidden layer with 10 hidden neurons, relu activation, l2 regulariation\n",
    "    #output layer with 1 neuron, sigmoid activation, l2 regularisation\n",
    "    model.add(Dense(hidden_neurons, activation = 'relu', kernel_regularizer=l2(beta)))\n",
    "    model.add(Dense(NUM_CLASSES, activation = 'sigmoid', kernel_regularizer=l2(beta)))\n",
    "    \n",
    "    optimizer = keras.optimizers.Adam(learning_rate=lr)\n",
    "    \n",
    "    model.compile(optimizer = optimizer,\n",
    "                 loss = 'binary_crossentropy',\n",
    "                 metrics=['accuracy'])\n",
    "   \n",
    "    return model"
   ]
  },
  {
   "cell_type": "code",
   "execution_count": null,
   "metadata": {
    "colab": {
     "base_uri": "https://localhost:8080/"
    },
    "executionInfo": {
     "elapsed": 160436,
     "status": "ok",
     "timestamp": 1606028693801,
     "user": {
      "displayName": "Wan Ting Wong",
      "photoUrl": "",
      "userId": "10706324018856459819"
     },
     "user_tz": -480
    },
    "id": "halvOYUGnsKV",
    "outputId": "b2c28f94-0f66-4b99-e02c-599442812dd7"
   },
   "outputs": [
    {
     "name": "stdout",
     "output_type": "stream",
     "text": [
      "Epoch 1/100\n",
      "274/274 - 2s - loss: 0.6941 - accuracy: 0.5019 - val_loss: 0.6932 - val_accuracy: 0.4976\n",
      "Epoch 2/100\n",
      "274/274 - 2s - loss: 0.6906 - accuracy: 0.5147 - val_loss: 0.6558 - val_accuracy: 0.6176\n",
      "Epoch 3/100\n",
      "274/274 - 2s - loss: 0.6084 - accuracy: 0.6979 - val_loss: 0.5878 - val_accuracy: 0.7221\n",
      "Epoch 4/100\n",
      "274/274 - 2s - loss: 0.5308 - accuracy: 0.7635 - val_loss: 0.5665 - val_accuracy: 0.7349\n",
      "Epoch 5/100\n",
      "274/274 - 2s - loss: 0.4878 - accuracy: 0.7915 - val_loss: 0.5484 - val_accuracy: 0.7355\n",
      "Epoch 6/100\n",
      "274/274 - 2s - loss: 0.4600 - accuracy: 0.8044 - val_loss: 0.5469 - val_accuracy: 0.7432\n",
      "Epoch 7/100\n",
      "274/274 - 2s - loss: 0.4374 - accuracy: 0.8177 - val_loss: 0.5486 - val_accuracy: 0.7417\n",
      "Epoch 8/100\n",
      "274/274 - 2s - loss: 0.4235 - accuracy: 0.8225 - val_loss: 0.5510 - val_accuracy: 0.7382\n",
      "Epoch 9/100\n",
      "274/274 - 2s - loss: 0.4088 - accuracy: 0.8316 - val_loss: 0.5601 - val_accuracy: 0.7413\n",
      "Epoch 10/100\n",
      "274/274 - 2s - loss: 0.3982 - accuracy: 0.8364 - val_loss: 0.5707 - val_accuracy: 0.7411\n",
      "Epoch 11/100\n",
      "274/274 - 2s - loss: 0.3882 - accuracy: 0.8420 - val_loss: 0.5777 - val_accuracy: 0.7345\n",
      "Epoch 12/100\n",
      "274/274 - 2s - loss: 0.3800 - accuracy: 0.8475 - val_loss: 0.5862 - val_accuracy: 0.7376\n",
      "Epoch 13/100\n",
      "274/274 - 2s - loss: 0.3714 - accuracy: 0.8506 - val_loss: 0.6179 - val_accuracy: 0.7357\n",
      "Epoch 14/100\n",
      "274/274 - 2s - loss: 0.3657 - accuracy: 0.8551 - val_loss: 0.6061 - val_accuracy: 0.7328\n",
      "Epoch 15/100\n",
      "274/274 - 2s - loss: 0.3611 - accuracy: 0.8573 - val_loss: 0.6309 - val_accuracy: 0.7345\n",
      "Epoch 16/100\n",
      "274/274 - 2s - loss: 0.3552 - accuracy: 0.8600 - val_loss: 0.6829 - val_accuracy: 0.7313\n",
      "Epoch 17/100\n",
      "274/274 - 2s - loss: 0.3494 - accuracy: 0.8624 - val_loss: 0.6492 - val_accuracy: 0.7300\n",
      "Epoch 18/100\n",
      "274/274 - 2s - loss: 0.3503 - accuracy: 0.8620 - val_loss: 0.6502 - val_accuracy: 0.7291\n",
      "Epoch 19/100\n",
      "274/274 - 2s - loss: 0.3426 - accuracy: 0.8664 - val_loss: 0.6573 - val_accuracy: 0.7267\n",
      "Epoch 20/100\n",
      "274/274 - 2s - loss: 0.3406 - accuracy: 0.8687 - val_loss: 0.6913 - val_accuracy: 0.7287\n",
      "Epoch 21/100\n",
      "274/274 - 2s - loss: 0.3371 - accuracy: 0.8696 - val_loss: 0.7284 - val_accuracy: 0.7298\n",
      "Epoch 22/100\n",
      "274/274 - 2s - loss: 0.3318 - accuracy: 0.8728 - val_loss: 0.7124 - val_accuracy: 0.7285\n",
      "Epoch 23/100\n",
      "274/274 - 2s - loss: 0.3302 - accuracy: 0.8737 - val_loss: 0.6897 - val_accuracy: 0.7212\n",
      "Epoch 24/100\n",
      "274/274 - 2s - loss: 0.3275 - accuracy: 0.8747 - val_loss: 0.7009 - val_accuracy: 0.7215\n",
      "Epoch 25/100\n",
      "274/274 - 2s - loss: 0.3242 - accuracy: 0.8774 - val_loss: 0.7271 - val_accuracy: 0.7241\n",
      "Epoch 26/100\n",
      "274/274 - 2s - loss: 0.3233 - accuracy: 0.8779 - val_loss: 0.7270 - val_accuracy: 0.7220\n",
      "Epoch 27/100\n",
      "274/274 - 2s - loss: 0.3200 - accuracy: 0.8809 - val_loss: 0.7451 - val_accuracy: 0.7230\n",
      "Epoch 28/100\n",
      "274/274 - 2s - loss: 0.3161 - accuracy: 0.8817 - val_loss: 0.7901 - val_accuracy: 0.7241\n",
      "Epoch 29/100\n",
      "274/274 - 2s - loss: 0.3155 - accuracy: 0.8826 - val_loss: 0.8416 - val_accuracy: 0.7253\n",
      "Epoch 30/100\n",
      "274/274 - 2s - loss: 0.3177 - accuracy: 0.8802 - val_loss: 0.8957 - val_accuracy: 0.7224\n",
      "Epoch 31/100\n",
      "274/274 - 2s - loss: 0.3095 - accuracy: 0.8857 - val_loss: 0.7763 - val_accuracy: 0.7197\n",
      "Epoch 32/100\n",
      "274/274 - 2s - loss: 0.3126 - accuracy: 0.8835 - val_loss: 0.7934 - val_accuracy: 0.7193\n",
      "Epoch 33/100\n",
      "274/274 - 2s - loss: 0.3069 - accuracy: 0.8863 - val_loss: 0.8195 - val_accuracy: 0.7211\n",
      "Epoch 34/100\n",
      "274/274 - 2s - loss: 0.3035 - accuracy: 0.8895 - val_loss: 0.8410 - val_accuracy: 0.7191\n",
      "Epoch 35/100\n",
      "274/274 - 2s - loss: 0.3053 - accuracy: 0.8887 - val_loss: 0.8014 - val_accuracy: 0.7163\n",
      "Epoch 36/100\n",
      "274/274 - 2s - loss: 0.3001 - accuracy: 0.8914 - val_loss: 0.8651 - val_accuracy: 0.7199\n",
      "Epoch 37/100\n",
      "274/274 - 2s - loss: 0.3013 - accuracy: 0.8901 - val_loss: 0.8145 - val_accuracy: 0.7160\n",
      "Epoch 38/100\n",
      "274/274 - 2s - loss: 0.3042 - accuracy: 0.8874 - val_loss: 0.8738 - val_accuracy: 0.7183\n",
      "Epoch 39/100\n",
      "274/274 - 2s - loss: 0.2945 - accuracy: 0.8950 - val_loss: 0.8604 - val_accuracy: 0.7181\n",
      "Epoch 40/100\n",
      "274/274 - 2s - loss: 0.2958 - accuracy: 0.8935 - val_loss: 0.8722 - val_accuracy: 0.7167\n",
      "Epoch 41/100\n",
      "274/274 - 2s - loss: 0.2966 - accuracy: 0.8914 - val_loss: 0.9172 - val_accuracy: 0.7188\n",
      "Epoch 42/100\n",
      "274/274 - 2s - loss: 0.2889 - accuracy: 0.8967 - val_loss: 0.8940 - val_accuracy: 0.7167\n",
      "Epoch 43/100\n",
      "274/274 - 2s - loss: 0.2885 - accuracy: 0.8963 - val_loss: 0.8799 - val_accuracy: 0.7158\n",
      "Epoch 44/100\n",
      "274/274 - 2s - loss: 0.2913 - accuracy: 0.8955 - val_loss: 0.9994 - val_accuracy: 0.7183\n",
      "Epoch 45/100\n",
      "274/274 - 2s - loss: 0.2874 - accuracy: 0.8975 - val_loss: 1.0009 - val_accuracy: 0.7179\n",
      "Epoch 46/100\n",
      "274/274 - 2s - loss: 0.2821 - accuracy: 0.9007 - val_loss: 0.9259 - val_accuracy: 0.7153\n",
      "Epoch 47/100\n",
      "274/274 - 2s - loss: 0.2807 - accuracy: 0.9019 - val_loss: 0.9986 - val_accuracy: 0.7163\n",
      "Epoch 48/100\n",
      "274/274 - 2s - loss: 0.2838 - accuracy: 0.8990 - val_loss: 0.9759 - val_accuracy: 0.7156\n",
      "Epoch 49/100\n",
      "274/274 - 2s - loss: 0.2850 - accuracy: 0.8968 - val_loss: 0.9200 - val_accuracy: 0.7080\n",
      "Epoch 50/100\n",
      "274/274 - 2s - loss: 0.2838 - accuracy: 0.8973 - val_loss: 1.0418 - val_accuracy: 0.7153\n",
      "Epoch 51/100\n",
      "274/274 - 2s - loss: 0.2805 - accuracy: 0.9002 - val_loss: 1.0589 - val_accuracy: 0.7163\n",
      "Epoch 52/100\n",
      "274/274 - 2s - loss: 0.2753 - accuracy: 0.9039 - val_loss: 1.0103 - val_accuracy: 0.7153\n",
      "Epoch 53/100\n",
      "274/274 - 2s - loss: 0.2751 - accuracy: 0.9035 - val_loss: 1.0723 - val_accuracy: 0.7139\n",
      "Epoch 54/100\n",
      "274/274 - 2s - loss: 0.2785 - accuracy: 0.9012 - val_loss: 1.1403 - val_accuracy: 0.7160\n",
      "Epoch 55/100\n",
      "274/274 - 2s - loss: 0.2733 - accuracy: 0.9040 - val_loss: 1.0825 - val_accuracy: 0.7145\n",
      "Epoch 56/100\n",
      "274/274 - 2s - loss: 0.2671 - accuracy: 0.9081 - val_loss: 1.0912 - val_accuracy: 0.7139\n",
      "Epoch 57/100\n",
      "274/274 - 2s - loss: 0.2802 - accuracy: 0.8980 - val_loss: 1.0385 - val_accuracy: 0.7111\n",
      "Epoch 58/100\n",
      "274/274 - 2s - loss: 0.2712 - accuracy: 0.9040 - val_loss: 1.1493 - val_accuracy: 0.7144\n",
      "Epoch 59/100\n",
      "274/274 - 2s - loss: 0.2672 - accuracy: 0.9072 - val_loss: 1.1063 - val_accuracy: 0.7128\n",
      "Epoch 60/100\n",
      "274/274 - 2s - loss: 0.2648 - accuracy: 0.9092 - val_loss: 1.1352 - val_accuracy: 0.7136\n",
      "Epoch 61/100\n",
      "274/274 - 2s - loss: 0.2612 - accuracy: 0.9113 - val_loss: 1.2769 - val_accuracy: 0.7148\n",
      "Epoch 62/100\n",
      "274/274 - 2s - loss: 0.2687 - accuracy: 0.9056 - val_loss: 1.2174 - val_accuracy: 0.7135\n",
      "Epoch 63/100\n",
      "274/274 - 2s - loss: 0.2615 - accuracy: 0.9090 - val_loss: 1.1765 - val_accuracy: 0.7147\n",
      "Epoch 64/100\n",
      "274/274 - 2s - loss: 0.2579 - accuracy: 0.9123 - val_loss: 1.1492 - val_accuracy: 0.7096\n",
      "Epoch 65/100\n",
      "274/274 - 2s - loss: 0.2623 - accuracy: 0.9088 - val_loss: 1.4057 - val_accuracy: 0.7127\n",
      "Epoch 66/100\n",
      "274/274 - 2s - loss: 0.2585 - accuracy: 0.9107 - val_loss: 1.1747 - val_accuracy: 0.7082\n",
      "Epoch 67/100\n",
      "274/274 - 2s - loss: 0.2546 - accuracy: 0.9142 - val_loss: 1.1144 - val_accuracy: 0.7029\n",
      "Epoch 68/100\n",
      "274/274 - 2s - loss: 0.2518 - accuracy: 0.9154 - val_loss: 1.2350 - val_accuracy: 0.7115\n",
      "Epoch 69/100\n",
      "274/274 - 2s - loss: 0.2563 - accuracy: 0.9119 - val_loss: 1.2307 - val_accuracy: 0.7117\n",
      "Epoch 70/100\n",
      "274/274 - 2s - loss: 0.2570 - accuracy: 0.9107 - val_loss: 1.1995 - val_accuracy: 0.7056\n",
      "Epoch 71/100\n",
      "274/274 - 2s - loss: 0.2520 - accuracy: 0.9136 - val_loss: 1.3926 - val_accuracy: 0.7139\n",
      "Epoch 72/100\n",
      "274/274 - 2s - loss: 0.2525 - accuracy: 0.9126 - val_loss: 1.2772 - val_accuracy: 0.7105\n",
      "Epoch 73/100\n",
      "274/274 - 2s - loss: 0.2479 - accuracy: 0.9155 - val_loss: 1.3564 - val_accuracy: 0.7115\n",
      "Epoch 74/100\n",
      "274/274 - 2s - loss: 0.2487 - accuracy: 0.9153 - val_loss: 1.2539 - val_accuracy: 0.7055\n",
      "Epoch 75/100\n",
      "274/274 - 2s - loss: 0.2485 - accuracy: 0.9147 - val_loss: 1.3271 - val_accuracy: 0.7090\n",
      "Epoch 76/100\n",
      "274/274 - 2s - loss: 0.2521 - accuracy: 0.9122 - val_loss: 1.3675 - val_accuracy: 0.7090\n",
      "Epoch 77/100\n",
      "274/274 - 2s - loss: 0.2448 - accuracy: 0.9164 - val_loss: 1.4022 - val_accuracy: 0.7103\n",
      "Epoch 78/100\n",
      "274/274 - 2s - loss: 0.2413 - accuracy: 0.9181 - val_loss: 1.3693 - val_accuracy: 0.7082\n",
      "Epoch 79/100\n",
      "274/274 - 2s - loss: 0.2476 - accuracy: 0.9145 - val_loss: 1.4172 - val_accuracy: 0.7091\n",
      "Epoch 80/100\n",
      "274/274 - 2s - loss: 0.2417 - accuracy: 0.9180 - val_loss: 1.5127 - val_accuracy: 0.7092\n",
      "Epoch 81/100\n",
      "274/274 - 2s - loss: 0.2346 - accuracy: 0.9233 - val_loss: 1.5460 - val_accuracy: 0.7109\n",
      "Epoch 82/100\n",
      "274/274 - 2s - loss: 0.2368 - accuracy: 0.9209 - val_loss: 1.6140 - val_accuracy: 0.7093\n",
      "Epoch 83/100\n",
      "274/274 - 2s - loss: 0.2406 - accuracy: 0.9184 - val_loss: 1.5728 - val_accuracy: 0.7087\n",
      "Epoch 84/100\n",
      "274/274 - 2s - loss: 0.2470 - accuracy: 0.9154 - val_loss: 1.5155 - val_accuracy: 0.7077\n",
      "Epoch 85/100\n",
      "274/274 - 2s - loss: 0.2336 - accuracy: 0.9228 - val_loss: 1.6657 - val_accuracy: 0.7087\n",
      "Epoch 86/100\n",
      "274/274 - 2s - loss: 0.2351 - accuracy: 0.9213 - val_loss: 1.5009 - val_accuracy: 0.7050\n",
      "Epoch 87/100\n",
      "274/274 - 2s - loss: 0.2372 - accuracy: 0.9196 - val_loss: 1.6456 - val_accuracy: 0.7091\n",
      "Epoch 88/100\n",
      "274/274 - 2s - loss: 0.2322 - accuracy: 0.9234 - val_loss: 1.6456 - val_accuracy: 0.7083\n",
      "Epoch 89/100\n",
      "274/274 - 2s - loss: 0.2357 - accuracy: 0.9205 - val_loss: 1.6053 - val_accuracy: 0.7051\n",
      "Epoch 90/100\n",
      "274/274 - 2s - loss: 0.2259 - accuracy: 0.9260 - val_loss: 1.7381 - val_accuracy: 0.7091\n",
      "Epoch 91/100\n",
      "274/274 - 2s - loss: 0.2282 - accuracy: 0.9245 - val_loss: 1.7594 - val_accuracy: 0.7089\n",
      "Epoch 92/100\n",
      "274/274 - 2s - loss: 0.2358 - accuracy: 0.9200 - val_loss: 1.7557 - val_accuracy: 0.7079\n",
      "Epoch 93/100\n",
      "274/274 - 2s - loss: 0.2352 - accuracy: 0.9197 - val_loss: 1.8374 - val_accuracy: 0.7093\n",
      "Epoch 94/100\n",
      "274/274 - 2s - loss: 0.2282 - accuracy: 0.9232 - val_loss: 1.7495 - val_accuracy: 0.7095\n",
      "Epoch 95/100\n",
      "274/274 - 2s - loss: 0.2246 - accuracy: 0.9257 - val_loss: 1.7301 - val_accuracy: 0.7061\n",
      "Epoch 96/100\n",
      "274/274 - 2s - loss: 0.2235 - accuracy: 0.9279 - val_loss: 1.8034 - val_accuracy: 0.7080\n",
      "Epoch 97/100\n",
      "274/274 - 2s - loss: 0.2427 - accuracy: 0.9152 - val_loss: 1.8418 - val_accuracy: 0.7085\n",
      "Epoch 98/100\n",
      "274/274 - 2s - loss: 0.2340 - accuracy: 0.9201 - val_loss: 1.7818 - val_accuracy: 0.7062\n",
      "Epoch 99/100\n",
      "274/274 - 2s - loss: 0.2254 - accuracy: 0.9253 - val_loss: 1.8394 - val_accuracy: 0.7079\n",
      "Epoch 100/100\n",
      "274/274 - 2s - loss: 0.2298 - accuracy: 0.9221 - val_loss: 1.7831 - val_accuracy: 0.7057\n"
     ]
    }
   ],
   "source": [
    "#train model\n",
    "model = create_model()\n",
    "history = model.fit(X_train, Y_train,\n",
    "                    epochs = epochs,\n",
    "                    verbose = 2,\n",
    "                    batch_size = batch_size,\n",
    "                    validation_data = (X_test, Y_test)\n",
    "                   )"
   ]
  },
  {
   "cell_type": "code",
   "execution_count": null,
   "metadata": {
    "colab": {
     "base_uri": "https://localhost:8080/",
     "height": 295
    },
    "executionInfo": {
     "elapsed": 1416,
     "status": "ok",
     "timestamp": 1606028760581,
     "user": {
      "displayName": "Wan Ting Wong",
      "photoUrl": "",
      "userId": "10706324018856459819"
     },
     "user_tz": -480
    },
    "id": "Nd3AMXB1nsKV",
    "outputId": "b1123c4b-47ac-402f-9372-036b891b16b6"
   },
   "outputs": [
    {
     "data": {
      "image/png": "[encoded data removed]",
      "text/plain": [
       "<Figure size 432x288 with 1 Axes>"
      ]
     },
     "metadata": {
      "needs_background": "light",
      "tags": []
     },
     "output_type": "display_data"
    }
   ],
   "source": [
    "#Summarize history for accuracy\n",
    "import matplotlib.pyplot as plt\n",
    "plt.plot(history.history['accuracy'], label='Train Accuracy')\n",
    "plt.plot(history.history['val_accuracy'], label='Test Accuracy')\n",
    "plt.title('Train and Test Accuracies')\n",
    "plt.ylabel('Accuracy')\n",
    "plt.xlabel('Epoch')\n",
    "plt.legend(loc=\"lower right\")\n",
    "plt.show()"
   ]
  },
  {
   "cell_type": "code",
   "execution_count": null,
   "metadata": {
    "colab": {
     "base_uri": "https://localhost:8080/",
     "height": 295
    },
    "executionInfo": {
     "elapsed": 1467,
     "status": "ok",
     "timestamp": 1606029597965,
     "user": {
      "displayName": "Wan Ting Wong",
      "photoUrl": "",
      "userId": "10706324018856459819"
     },
     "user_tz": -480
    },
    "id": "v6moexqPo65O",
    "outputId": "e5992281-86fd-413c-edbd-2b1964fa2792"
   },
   "outputs": [
    {
     "data": {
      "image/png": "[encoded data removed]",
      "text/plain": [
       "<Figure size 432x288 with 1 Axes>"
      ]
     },
     "metadata": {
      "needs_background": "light",
      "tags": []
     },
     "output_type": "display_data"
    }
   ],
   "source": [
    "#Summarize history for loss\n",
    "import matplotlib.pyplot as plt\n",
    "plt.plot(history.history['loss'], label='Train Loss')\n",
    "plt.plot(history.history['val_loss'], label='Test Loss')\n",
    "plt.title('Train and Test Loss')\n",
    "plt.ylabel('Loss')\n",
    "plt.xlabel('Epoch')\n",
    "plt.legend(loc=\"upper left\")\n",
    "plt.show()"
   ]
  },
  {
   "cell_type": "markdown",
   "metadata": {
    "id": "LfCaOML6og-8"
   },
   "source": [
    "# Reduce overfitting by introducing dropouts"
   ]
  },
  {
   "cell_type": "code",
   "execution_count": null,
   "metadata": {
    "id": "xYN3I677646o"
   },
   "outputs": [],
   "source": [
    "#define params for model\n",
    "NUM_CLASSES = 1 #positive or negative\n",
    "\n",
    "epochs = 100\n",
    "\n",
    "lr = 0.001 #learning rate\n",
    "beta = 1e-9 #weight decay param\n",
    "batch_size = 128\n",
    "hidden_neurons = 10"
   ]
  },
  {
   "cell_type": "code",
   "execution_count": null,
   "metadata": {
    "id": "3-LPzGjunsKV"
   },
   "outputs": [],
   "source": [
    "#create model with dropouts\n",
    "def create_model_dropout():\n",
    "    model = Sequential()\n",
    "    embedding_layer = Embedding(vocab_size, 100, weights = [embedding_matrix], \n",
    "                                input_length = maxlen, trainable = False)\n",
    "    model.add(embedding_layer)\n",
    "    #flatten embedded layers output to to 1 dimension\n",
    "    model.add(Flatten())\n",
    "    \n",
    "    #add dropout 0.5 probability\n",
    "    model.add(Dropout(0.5))\n",
    "    #one hidden layer with 10 hidden neurons, relu activation, l2 regulariation\n",
    "    #output layer with 1 neuron, sigmoid activation, l2 regularisation\n",
    "    model.add(Dense(hidden_neurons, activation = 'relu', kernel_regularizer=l2(beta)))\n",
    "    model.add(Dense(NUM_CLASSES, activation = 'sigmoid', kernel_regularizer=l2(beta)))\n",
    "    \n",
    "    optimizer = keras.optimizers.Adam(learning_rate=lr)\n",
    "    \n",
    "    model.compile(optimizer = optimizer,\n",
    "                 loss = 'binary_crossentropy',\n",
    "                 metrics=['accuracy'])\n",
    "   \n",
    "    return model"
   ]
  },
  {
   "cell_type": "code",
   "execution_count": null,
   "metadata": {
    "colab": {
     "base_uri": "https://localhost:8080/"
    },
    "executionInfo": {
     "elapsed": 171140,
     "status": "ok",
     "timestamp": 1606027220659,
     "user": {
      "displayName": "Wan Ting Wong",
      "photoUrl": "",
      "userId": "10706324018856459819"
     },
     "user_tz": -480
    },
    "id": "l9c0lKcD6jHW",
    "outputId": "20c4a6d4-4270-408f-e440-8fd03b605bf1"
   },
   "outputs": [
    {
     "name": "stdout",
     "output_type": "stream",
     "text": [
      "Epoch 1/100\n",
      "274/274 - 2s - loss: 0.6946 - accuracy: 0.5000 - val_loss: 0.6931 - val_accuracy: 0.5024\n",
      "Epoch 2/100\n",
      "274/274 - 2s - loss: 0.6931 - accuracy: 0.4977 - val_loss: 0.6932 - val_accuracy: 0.4976\n",
      "Epoch 3/100\n",
      "274/274 - 2s - loss: 0.6905 - accuracy: 0.5190 - val_loss: 0.6674 - val_accuracy: 0.6021\n",
      "Epoch 4/100\n",
      "274/274 - 2s - loss: 0.6480 - accuracy: 0.6376 - val_loss: 0.6251 - val_accuracy: 0.6691\n",
      "Epoch 5/100\n",
      "274/274 - 2s - loss: 0.6014 - accuracy: 0.6901 - val_loss: 0.5796 - val_accuracy: 0.7170\n",
      "Epoch 6/100\n",
      "274/274 - 2s - loss: 0.5742 - accuracy: 0.7115 - val_loss: 0.5648 - val_accuracy: 0.7305\n",
      "Epoch 7/100\n",
      "274/274 - 2s - loss: 0.5576 - accuracy: 0.7244 - val_loss: 0.5573 - val_accuracy: 0.7285\n",
      "Epoch 8/100\n",
      "274/274 - 2s - loss: 0.5434 - accuracy: 0.7338 - val_loss: 0.5426 - val_accuracy: 0.7390\n",
      "Epoch 9/100\n",
      "274/274 - 2s - loss: 0.5382 - accuracy: 0.7353 - val_loss: 0.5351 - val_accuracy: 0.7403\n",
      "Epoch 10/100\n",
      "274/274 - 2s - loss: 0.5320 - accuracy: 0.7383 - val_loss: 0.5351 - val_accuracy: 0.7374\n",
      "Epoch 11/100\n",
      "274/274 - 2s - loss: 0.5279 - accuracy: 0.7410 - val_loss: 0.5307 - val_accuracy: 0.7425\n",
      "Epoch 12/100\n",
      "274/274 - 2s - loss: 0.5182 - accuracy: 0.7504 - val_loss: 0.5255 - val_accuracy: 0.7446\n",
      "Epoch 13/100\n",
      "274/274 - 2s - loss: 0.5182 - accuracy: 0.7493 - val_loss: 0.5251 - val_accuracy: 0.7417\n",
      "Epoch 14/100\n",
      "274/274 - 2s - loss: 0.5140 - accuracy: 0.7493 - val_loss: 0.5227 - val_accuracy: 0.7451\n",
      "Epoch 15/100\n",
      "274/274 - 2s - loss: 0.5101 - accuracy: 0.7498 - val_loss: 0.5244 - val_accuracy: 0.7446\n",
      "Epoch 16/100\n",
      "274/274 - 2s - loss: 0.5066 - accuracy: 0.7553 - val_loss: 0.5222 - val_accuracy: 0.7469\n",
      "Epoch 17/100\n",
      "274/274 - 2s - loss: 0.5078 - accuracy: 0.7530 - val_loss: 0.5231 - val_accuracy: 0.7464\n",
      "Epoch 18/100\n",
      "274/274 - 2s - loss: 0.5008 - accuracy: 0.7567 - val_loss: 0.5253 - val_accuracy: 0.7399\n",
      "Epoch 19/100\n",
      "274/274 - 2s - loss: 0.5025 - accuracy: 0.7558 - val_loss: 0.5234 - val_accuracy: 0.7438\n",
      "Epoch 20/100\n",
      "274/274 - 2s - loss: 0.4989 - accuracy: 0.7576 - val_loss: 0.5225 - val_accuracy: 0.7439\n",
      "Epoch 21/100\n",
      "274/274 - 2s - loss: 0.4974 - accuracy: 0.7594 - val_loss: 0.5336 - val_accuracy: 0.7372\n",
      "Epoch 22/100\n",
      "274/274 - 2s - loss: 0.4990 - accuracy: 0.7574 - val_loss: 0.5209 - val_accuracy: 0.7455\n",
      "Epoch 23/100\n",
      "274/274 - 2s - loss: 0.4961 - accuracy: 0.7593 - val_loss: 0.5230 - val_accuracy: 0.7447\n",
      "Epoch 24/100\n",
      "274/274 - 2s - loss: 0.4956 - accuracy: 0.7608 - val_loss: 0.5227 - val_accuracy: 0.7443\n",
      "Epoch 25/100\n",
      "274/274 - 2s - loss: 0.4927 - accuracy: 0.7603 - val_loss: 0.5227 - val_accuracy: 0.7461\n",
      "Epoch 26/100\n",
      "274/274 - 2s - loss: 0.4951 - accuracy: 0.7562 - val_loss: 0.5216 - val_accuracy: 0.7473\n",
      "Epoch 27/100\n",
      "274/274 - 2s - loss: 0.4924 - accuracy: 0.7619 - val_loss: 0.5235 - val_accuracy: 0.7485\n",
      "Epoch 28/100\n",
      "274/274 - 2s - loss: 0.4962 - accuracy: 0.7583 - val_loss: 0.5194 - val_accuracy: 0.7480\n",
      "Epoch 29/100\n",
      "274/274 - 2s - loss: 0.4913 - accuracy: 0.7623 - val_loss: 0.5295 - val_accuracy: 0.7432\n",
      "Epoch 30/100\n",
      "274/274 - 2s - loss: 0.4929 - accuracy: 0.7625 - val_loss: 0.5215 - val_accuracy: 0.7457\n",
      "Epoch 31/100\n",
      "274/274 - 2s - loss: 0.4904 - accuracy: 0.7621 - val_loss: 0.5251 - val_accuracy: 0.7440\n",
      "Epoch 32/100\n",
      "274/274 - 2s - loss: 0.4882 - accuracy: 0.7639 - val_loss: 0.5262 - val_accuracy: 0.7415\n",
      "Epoch 33/100\n",
      "274/274 - 2s - loss: 0.4889 - accuracy: 0.7635 - val_loss: 0.5218 - val_accuracy: 0.7437\n",
      "Epoch 34/100\n",
      "274/274 - 2s - loss: 0.4851 - accuracy: 0.7663 - val_loss: 0.5309 - val_accuracy: 0.7385\n",
      "Epoch 35/100\n",
      "274/274 - 2s - loss: 0.4872 - accuracy: 0.7641 - val_loss: 0.5210 - val_accuracy: 0.7463\n",
      "Epoch 36/100\n",
      "274/274 - 2s - loss: 0.4865 - accuracy: 0.7645 - val_loss: 0.5307 - val_accuracy: 0.7365\n",
      "Epoch 37/100\n",
      "274/274 - 2s - loss: 0.4852 - accuracy: 0.7669 - val_loss: 0.5217 - val_accuracy: 0.7459\n",
      "Epoch 38/100\n",
      "274/274 - 2s - loss: 0.4848 - accuracy: 0.7662 - val_loss: 0.5243 - val_accuracy: 0.7429\n",
      "Epoch 39/100\n",
      "274/274 - 2s - loss: 0.4839 - accuracy: 0.7653 - val_loss: 0.5273 - val_accuracy: 0.7421\n",
      "Epoch 40/100\n",
      "274/274 - 2s - loss: 0.4808 - accuracy: 0.7671 - val_loss: 0.5261 - val_accuracy: 0.7426\n",
      "Epoch 41/100\n",
      "274/274 - 2s - loss: 0.4810 - accuracy: 0.7682 - val_loss: 0.5328 - val_accuracy: 0.7391\n",
      "Epoch 42/100\n",
      "274/274 - 2s - loss: 0.4842 - accuracy: 0.7644 - val_loss: 0.5274 - val_accuracy: 0.7411\n",
      "Epoch 43/100\n",
      "274/274 - 2s - loss: 0.4803 - accuracy: 0.7696 - val_loss: 0.5324 - val_accuracy: 0.7367\n",
      "Epoch 44/100\n",
      "274/274 - 2s - loss: 0.4810 - accuracy: 0.7663 - val_loss: 0.5254 - val_accuracy: 0.7422\n",
      "Epoch 45/100\n",
      "274/274 - 2s - loss: 0.4829 - accuracy: 0.7648 - val_loss: 0.5346 - val_accuracy: 0.7365\n",
      "Epoch 46/100\n",
      "274/274 - 2s - loss: 0.4826 - accuracy: 0.7662 - val_loss: 0.5248 - val_accuracy: 0.7422\n",
      "Epoch 47/100\n",
      "274/274 - 2s - loss: 0.4783 - accuracy: 0.7701 - val_loss: 0.5252 - val_accuracy: 0.7421\n",
      "Epoch 48/100\n",
      "274/274 - 2s - loss: 0.4801 - accuracy: 0.7683 - val_loss: 0.5302 - val_accuracy: 0.7395\n",
      "Epoch 49/100\n",
      "274/274 - 2s - loss: 0.4772 - accuracy: 0.7694 - val_loss: 0.5325 - val_accuracy: 0.7376\n",
      "Epoch 50/100\n",
      "274/274 - 2s - loss: 0.4796 - accuracy: 0.7666 - val_loss: 0.5307 - val_accuracy: 0.7403\n",
      "Epoch 51/100\n",
      "274/274 - 2s - loss: 0.4797 - accuracy: 0.7664 - val_loss: 0.5329 - val_accuracy: 0.7388\n",
      "Epoch 52/100\n",
      "274/274 - 2s - loss: 0.4814 - accuracy: 0.7666 - val_loss: 0.5269 - val_accuracy: 0.7400\n",
      "Epoch 53/100\n",
      "274/274 - 2s - loss: 0.4792 - accuracy: 0.7675 - val_loss: 0.5282 - val_accuracy: 0.7408\n",
      "Epoch 54/100\n",
      "274/274 - 2s - loss: 0.4793 - accuracy: 0.7686 - val_loss: 0.5264 - val_accuracy: 0.7405\n",
      "Epoch 55/100\n",
      "274/274 - 2s - loss: 0.4732 - accuracy: 0.7729 - val_loss: 0.5324 - val_accuracy: 0.7409\n",
      "Epoch 56/100\n",
      "274/274 - 2s - loss: 0.4758 - accuracy: 0.7707 - val_loss: 0.5275 - val_accuracy: 0.7409\n",
      "Epoch 57/100\n",
      "274/274 - 2s - loss: 0.4745 - accuracy: 0.7691 - val_loss: 0.5315 - val_accuracy: 0.7393\n",
      "Epoch 58/100\n",
      "274/274 - 2s - loss: 0.4755 - accuracy: 0.7690 - val_loss: 0.5258 - val_accuracy: 0.7433\n",
      "Epoch 59/100\n",
      "274/274 - 2s - loss: 0.4710 - accuracy: 0.7737 - val_loss: 0.5272 - val_accuracy: 0.7415\n",
      "Epoch 60/100\n",
      "274/274 - 2s - loss: 0.4756 - accuracy: 0.7708 - val_loss: 0.5321 - val_accuracy: 0.7368\n",
      "Epoch 61/100\n",
      "274/274 - 2s - loss: 0.4716 - accuracy: 0.7748 - val_loss: 0.5385 - val_accuracy: 0.7349\n",
      "Epoch 62/100\n",
      "274/274 - 2s - loss: 0.4705 - accuracy: 0.7737 - val_loss: 0.5278 - val_accuracy: 0.7415\n",
      "Epoch 63/100\n",
      "274/274 - 2s - loss: 0.4722 - accuracy: 0.7722 - val_loss: 0.5314 - val_accuracy: 0.7394\n",
      "Epoch 64/100\n",
      "274/274 - 2s - loss: 0.4697 - accuracy: 0.7738 - val_loss: 0.5381 - val_accuracy: 0.7371\n",
      "Epoch 65/100\n",
      "274/274 - 2s - loss: 0.4744 - accuracy: 0.7705 - val_loss: 0.5331 - val_accuracy: 0.7349\n",
      "Epoch 66/100\n",
      "274/274 - 2s - loss: 0.4728 - accuracy: 0.7721 - val_loss: 0.5298 - val_accuracy: 0.7416\n",
      "Epoch 67/100\n",
      "274/274 - 2s - loss: 0.4681 - accuracy: 0.7752 - val_loss: 0.5299 - val_accuracy: 0.7399\n",
      "Epoch 68/100\n",
      "274/274 - 2s - loss: 0.4711 - accuracy: 0.7728 - val_loss: 0.5375 - val_accuracy: 0.7386\n",
      "Epoch 69/100\n",
      "274/274 - 2s - loss: 0.4735 - accuracy: 0.7722 - val_loss: 0.5314 - val_accuracy: 0.7396\n",
      "Epoch 70/100\n",
      "274/274 - 2s - loss: 0.4691 - accuracy: 0.7743 - val_loss: 0.5392 - val_accuracy: 0.7384\n",
      "Epoch 71/100\n",
      "274/274 - 2s - loss: 0.4656 - accuracy: 0.7763 - val_loss: 0.5353 - val_accuracy: 0.7387\n",
      "Epoch 72/100\n",
      "274/274 - 2s - loss: 0.4686 - accuracy: 0.7733 - val_loss: 0.5349 - val_accuracy: 0.7393\n",
      "Epoch 73/100\n",
      "274/274 - 2s - loss: 0.4693 - accuracy: 0.7748 - val_loss: 0.5314 - val_accuracy: 0.7401\n",
      "Epoch 74/100\n",
      "274/274 - 2s - loss: 0.4652 - accuracy: 0.7753 - val_loss: 0.5363 - val_accuracy: 0.7383\n",
      "Epoch 75/100\n",
      "274/274 - 2s - loss: 0.4670 - accuracy: 0.7721 - val_loss: 0.5370 - val_accuracy: 0.7373\n",
      "Epoch 76/100\n",
      "274/274 - 2s - loss: 0.4698 - accuracy: 0.7735 - val_loss: 0.5394 - val_accuracy: 0.7379\n",
      "Epoch 77/100\n",
      "274/274 - 2s - loss: 0.4682 - accuracy: 0.7731 - val_loss: 0.5412 - val_accuracy: 0.7339\n",
      "Epoch 78/100\n",
      "274/274 - 2s - loss: 0.4666 - accuracy: 0.7738 - val_loss: 0.5320 - val_accuracy: 0.7396\n",
      "Epoch 79/100\n",
      "274/274 - 2s - loss: 0.4681 - accuracy: 0.7762 - val_loss: 0.5342 - val_accuracy: 0.7390\n",
      "Epoch 80/100\n",
      "274/274 - 2s - loss: 0.4617 - accuracy: 0.7780 - val_loss: 0.5328 - val_accuracy: 0.7411\n",
      "Epoch 81/100\n",
      "274/274 - 2s - loss: 0.4646 - accuracy: 0.7768 - val_loss: 0.5339 - val_accuracy: 0.7395\n",
      "Epoch 82/100\n",
      "274/274 - 2s - loss: 0.4632 - accuracy: 0.7762 - val_loss: 0.5327 - val_accuracy: 0.7398\n",
      "Epoch 83/100\n",
      "274/274 - 2s - loss: 0.4624 - accuracy: 0.7771 - val_loss: 0.5403 - val_accuracy: 0.7385\n",
      "Epoch 84/100\n",
      "274/274 - 2s - loss: 0.4638 - accuracy: 0.7781 - val_loss: 0.5347 - val_accuracy: 0.7377\n",
      "Epoch 85/100\n",
      "274/274 - 2s - loss: 0.4600 - accuracy: 0.7797 - val_loss: 0.5357 - val_accuracy: 0.7394\n",
      "Epoch 86/100\n",
      "274/274 - 2s - loss: 0.4587 - accuracy: 0.7794 - val_loss: 0.5365 - val_accuracy: 0.7367\n",
      "Epoch 87/100\n",
      "274/274 - 2s - loss: 0.4607 - accuracy: 0.7764 - val_loss: 0.5338 - val_accuracy: 0.7413\n",
      "Epoch 88/100\n",
      "274/274 - 2s - loss: 0.4592 - accuracy: 0.7790 - val_loss: 0.5404 - val_accuracy: 0.7377\n",
      "Epoch 89/100\n",
      "274/274 - 2s - loss: 0.4624 - accuracy: 0.7791 - val_loss: 0.5362 - val_accuracy: 0.7389\n",
      "Epoch 90/100\n",
      "274/274 - 2s - loss: 0.4617 - accuracy: 0.7797 - val_loss: 0.5400 - val_accuracy: 0.7378\n",
      "Epoch 91/100\n",
      "274/274 - 2s - loss: 0.4619 - accuracy: 0.7736 - val_loss: 0.5406 - val_accuracy: 0.7366\n",
      "Epoch 92/100\n",
      "274/274 - 2s - loss: 0.4582 - accuracy: 0.7782 - val_loss: 0.5417 - val_accuracy: 0.7373\n",
      "Epoch 93/100\n",
      "274/274 - 2s - loss: 0.4619 - accuracy: 0.7763 - val_loss: 0.5399 - val_accuracy: 0.7397\n",
      "Epoch 94/100\n",
      "274/274 - 2s - loss: 0.4582 - accuracy: 0.7799 - val_loss: 0.5403 - val_accuracy: 0.7403\n",
      "Epoch 95/100\n",
      "274/274 - 2s - loss: 0.4591 - accuracy: 0.7782 - val_loss: 0.5391 - val_accuracy: 0.7393\n",
      "Epoch 96/100\n",
      "274/274 - 2s - loss: 0.4578 - accuracy: 0.7784 - val_loss: 0.5409 - val_accuracy: 0.7401\n",
      "Epoch 97/100\n",
      "274/274 - 2s - loss: 0.4582 - accuracy: 0.7778 - val_loss: 0.5428 - val_accuracy: 0.7371\n",
      "Epoch 98/100\n",
      "274/274 - 2s - loss: 0.4572 - accuracy: 0.7765 - val_loss: 0.5442 - val_accuracy: 0.7377\n",
      "Epoch 99/100\n",
      "274/274 - 2s - loss: 0.4563 - accuracy: 0.7808 - val_loss: 0.5404 - val_accuracy: 0.7387\n",
      "Epoch 100/100\n",
      "274/274 - 2s - loss: 0.4570 - accuracy: 0.7797 - val_loss: 0.5412 - val_accuracy: 0.7378\n"
     ]
    }
   ],
   "source": [
    "#train model\n",
    "model = create_model_dropout()\n",
    "history = model.fit(X_train, Y_train,\n",
    "                    epochs = epochs,\n",
    "                    verbose = 2,\n",
    "                    batch_size = batch_size,\n",
    "                    validation_data = (X_test, Y_test)\n",
    "                   )"
   ]
  },
  {
   "cell_type": "code",
   "execution_count": null,
   "metadata": {
    "colab": {
     "base_uri": "https://localhost:8080/",
     "height": 295
    },
    "executionInfo": {
     "elapsed": 1239,
     "status": "ok",
     "timestamp": 1606027370063,
     "user": {
      "displayName": "Wan Ting Wong",
      "photoUrl": "",
      "userId": "10706324018856459819"
     },
     "user_tz": -480
    },
    "id": "kd50CdJG6nkF",
    "outputId": "b8be3895-f00e-423b-b3a4-bfc38b4c2d98"
   },
   "outputs": [
    {
     "data": {
      "image/png": "[encoded data removed]",
      "text/plain": [
       "<Figure size 432x288 with 1 Axes>"
      ]
     },
     "metadata": {
      "needs_background": "light",
      "tags": []
     },
     "output_type": "display_data"
    }
   ],
   "source": [
    "#Summarize history for accuracy (with dropout)\n",
    "import matplotlib.pyplot as plt\n",
    "plt.plot(history.history['accuracy'], label='Train Accuracy')\n",
    "plt.plot(history.history['val_accuracy'], label='Test Accuracy')\n",
    "plt.title('Train and Test Accuracies')\n",
    "plt.ylabel('Accuracy')\n",
    "plt.xlabel('Epoch')\n",
    "plt.legend(loc=\"lower right\")\n",
    "plt.show()"
   ]
  },
  {
   "cell_type": "code",
   "execution_count": null,
   "metadata": {
    "colab": {
     "base_uri": "https://localhost:8080/",
     "height": 295
    },
    "executionInfo": {
     "elapsed": 1338,
     "status": "ok",
     "timestamp": 1606027375043,
     "user": {
      "displayName": "Wan Ting Wong",
      "photoUrl": "",
      "userId": "10706324018856459819"
     },
     "user_tz": -480
    },
    "id": "E7_jN579puhQ",
    "outputId": "ae945271-cb9f-41de-ec27-06481a2ebf59"
   },
   "outputs": [
    {
     "data": {
      "image/png": "[encoded data removed]",
      "text/plain": [
       "<Figure size 432x288 with 1 Axes>"
      ]
     },
     "metadata": {
      "needs_background": "light",
      "tags": []
     },
     "output_type": "display_data"
    }
   ],
   "source": [
    "#Summarize history for loss\n",
    "import matplotlib.pyplot as plt\n",
    "plt.plot(history.history['loss'], label='Train Loss')\n",
    "plt.plot(history.history['val_loss'], label='Test Loss')\n",
    "plt.title('Train and Test Loss')\n",
    "plt.ylabel('Loss')\n",
    "plt.xlabel('Epoch')\n",
    "plt.legend(loc=\"upper right\")\n",
    "plt.show()"
   ]
  }
 ],
 "metadata": {
  "accelerator": "GPU",
  "colab": {
   "collapsed_sections": [],
   "name": "Simple NN (Base Model).ipynb",
   "provenance": [
    {
     "file_id": "18vQ4secSITqXWpvd0ZsFTLo9730IHhYY",
     "timestamp": 1606026192903
    }
   ]
  },
  "kernelspec": {
   "display_name": "Python 3",
   "language": "python",
   "name": "python3"
  },
  "language_info": {
   "codemirror_mode": {
    "name": "ipython",
    "version": 3
   },
   "file_extension": ".py",
   "mimetype": "text/x-python",
   "name": "python",
   "nbconvert_exporter": "python",
   "pygments_lexer": "ipython3",
   "version": "3.6.9"
  }
 },
 "nbformat": 4,
 "nbformat_minor": 1
}
